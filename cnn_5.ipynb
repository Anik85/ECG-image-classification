{
  "nbformat": 4,
  "nbformat_minor": 0,
  "metadata": {
    "colab": {
      "provenance": [],
      "include_colab_link": true
    },
    "kernelspec": {
      "name": "python3",
      "display_name": "Python 3"
    },
    "language_info": {
      "name": "python"
    },
    "accelerator": "GPU",
    "gpuClass": "standard"
  },
  "cells": [
    {
      "cell_type": "markdown",
      "metadata": {
        "id": "view-in-github",
        "colab_type": "text"
      },
      "source": [
        "<a href=\"https://colab.research.google.com/github/Anik85/Anik85/blob/main/cnn_5.ipynb\" target=\"_parent\"><img src=\"https://colab.research.google.com/assets/colab-badge.svg\" alt=\"Open In Colab\"/></a>"
      ]
    },
    {
      "cell_type": "code",
      "execution_count": null,
      "metadata": {
        "id": "Sp5R4IM3yuI5"
      },
      "outputs": [],
      "source": [
        "!mkdir -p ~/.kaggle\n",
        "!cp kaggle.json ~/.kaggle/"
      ]
    },
    {
      "cell_type": "code",
      "source": [
        "!kaggle datasets download -d erhmrai/ecg-image-data"
      ],
      "metadata": {
        "colab": {
          "base_uri": "https://localhost:8080/"
        },
        "id": "QqJYhGuEzfAt",
        "outputId": "5062f65c-306b-4f3d-cafa-4b20868b601c"
      },
      "execution_count": null,
      "outputs": [
        {
          "output_type": "stream",
          "name": "stdout",
          "text": [
            "Warning: Your Kaggle API key is readable by other users on this system! To fix this, you can run 'chmod 600 /root/.kaggle/kaggle.json'\n",
            "Downloading ecg-image-data.zip to /content\n",
            "100% 857M/858M [00:58<00:00, 17.3MB/s]\n",
            "100% 858M/858M [00:58<00:00, 15.4MB/s]\n"
          ]
        }
      ]
    },
    {
      "cell_type": "code",
      "source": [
        "import zipfile\n",
        "zip_ref=zipfile.ZipFile('/content/ecg-image-data.zip','r')\n",
        "zip_ref.extractall('/content')\n",
        "zip_ref.close()"
      ],
      "metadata": {
        "id": "yzElZWhGze9W"
      },
      "execution_count": null,
      "outputs": []
    },
    {
      "cell_type": "code",
      "source": [
        "!rm /content/ECG_Image_data/train/F/*\n",
        "!rmdir /content/ECG_Image_data/train/F"
      ],
      "metadata": {
        "id": "aaYPg3J9ze6u"
      },
      "execution_count": null,
      "outputs": []
    },
    {
      "cell_type": "code",
      "source": [
        "!rm /content/ECG_Image_data/test/F/*\n",
        "!rmdir /content/ECG_Image_data/test/F"
      ],
      "metadata": {
        "id": "5BAAaQHPzex1"
      },
      "execution_count": null,
      "outputs": []
    },
    {
      "cell_type": "code",
      "source": [
        "from google.colab import drive\n",
        "drive.mount('/content/drive')"
      ],
      "metadata": {
        "colab": {
          "base_uri": "https://localhost:8080/"
        },
        "id": "C9HprHm_DNbL",
        "outputId": "205cd936-2e8d-4426-d02c-ec19ddd8c959"
      },
      "execution_count": null,
      "outputs": [
        {
          "output_type": "stream",
          "name": "stdout",
          "text": [
            "Mounted at /content/drive\n"
          ]
        }
      ]
    },
    {
      "cell_type": "code",
      "source": [
        "import zipfile\n",
        "zip_ref=zipfile.ZipFile('/content/drive/MyDrive/Ftrain.zip','r')\n",
        "zip_ref.extractall('/content/ECG_Image_data/train/')\n",
        "zip_ref.close()"
      ],
      "metadata": {
        "id": "FHN9fTM4sLSv"
      },
      "execution_count": null,
      "outputs": []
    },
    {
      "cell_type": "code",
      "source": [
        "import zipfile\n",
        "zip_ref=zipfile.ZipFile('/content/drive/MyDrive/Ftest.zip','r')\n",
        "zip_ref.extractall('/content/ECG_Image_data/test/')\n",
        "zip_ref.close()"
      ],
      "metadata": {
        "id": "xfqWSJOBsLMS"
      },
      "execution_count": null,
      "outputs": []
    },
    {
      "cell_type": "code",
      "source": [
        "import numpy as np\n",
        "import pandas as pd\n",
        "from pathlib import Path\n",
        "import os.path\n",
        "import matplotlib.pyplot as plt\n",
        "import tensorflow as tf\n",
        "from tensorflow.keras.models import Sequential\n",
        "from tensorflow.keras.layers import Convolution2D\n",
        "from tensorflow.keras.layers import MaxPooling2D\n",
        "from tensorflow.keras.layers import Flatten\n",
        "from tensorflow.keras.layers import Dense\n",
        "from tensorflow.keras.layers import Dropout, Activation , BatchNormalization\n",
        "from tensorflow.keras.preprocessing.image import ImageDataGenerator\n",
        "from tensorflow.keras.layers import Dense, Conv2D, MaxPool2D , Flatten\n",
        "from tensorflow.keras.losses import categorical_crossentropy\n",
        "from tensorflow.keras.optimizers import Adam\n",
        "from tensorflow.keras.losses import CategoricalCrossentropy\n",
        "from tensorflow.keras.regularizers import l2\n",
        "from tensorflow.keras.callbacks import ReduceLROnPlateau, EarlyStopping\n",
        "from keras.models import Model\n",
        "from keras.applications.vgg19 import VGG19, preprocess_input\n",
        "from tensorflow.keras.applications.resnet50 import ResNet50, preprocess_input\n",
        "from keras.applications.vgg16 import preprocess_input,VGG16\n",
        "from glob import glob"
      ],
      "metadata": {
        "id": "p8jp7LM7zevo"
      },
      "execution_count": null,
      "outputs": []
    },
    {
      "cell_type": "code",
      "source": [
        "label = {0: \"F\", 1: \"M\",2:\"N\",3:\"Q\",4:\"S\",5:\"V\"}\n",
        "print(label)"
      ],
      "metadata": {
        "id": "FH7rYctNzetR",
        "colab": {
          "base_uri": "https://localhost:8080/"
        },
        "outputId": "393d622c-09e7-40e0-9896-ad5f1ff645af"
      },
      "execution_count": null,
      "outputs": [
        {
          "output_type": "stream",
          "name": "stdout",
          "text": [
            "{0: 'F', 1: 'M', 2: 'N', 3: 'Q', 4: 'S', 5: 'V'}\n"
          ]
        }
      ]
    },
    {
      "cell_type": "code",
      "source": [
        "labels=list(label.values())\n",
        "labels"
      ],
      "metadata": {
        "id": "yzpBbXX_zeow",
        "colab": {
          "base_uri": "https://localhost:8080/"
        },
        "outputId": "a3f9ccf5-43d8-46e3-bdea-e9d03c85f02d"
      },
      "execution_count": null,
      "outputs": [
        {
          "output_type": "execute_result",
          "data": {
            "text/plain": [
              "['F', 'M', 'N', 'Q', 'S', 'V']"
            ]
          },
          "metadata": {},
          "execution_count": 11
        }
      ]
    },
    {
      "cell_type": "code",
      "source": [
        "path='/content/ECG_Image_data/train/'\n",
        "Total_sample=0\n",
        "for i in labels:\n",
        "    print(f'Length of :{i}= {len(os.listdir(os.path.join(path,i)))}')\n",
        "    Total_sample+=len(os.listdir(os.path.join(path,i)))\n",
        "print(f'Total Samples:{Total_sample}')"
      ],
      "metadata": {
        "id": "nQI7ECIQzeZ1",
        "colab": {
          "base_uri": "https://localhost:8080/"
        },
        "outputId": "1f678db8-a029-4d90-817d-4b3536987a49"
      },
      "execution_count": null,
      "outputs": [
        {
          "output_type": "stream",
          "name": "stdout",
          "text": [
            "Length of :F= 2223\n",
            "Length of :M= 8405\n",
            "Length of :N= 75709\n",
            "Length of :Q= 6431\n",
            "Length of :S= 2223\n",
            "Length of :V= 5789\n",
            "Total Samples:100780\n"
          ]
        }
      ]
    },
    {
      "cell_type": "code",
      "source": [
        "from tqdm import tqdm\n",
        "import skimage\n",
        "import cv2\n",
        "from skimage.io import imread,imshow\n",
        "from skimage import transform\n",
        "img_size=150     # 170x170\n",
        "X=[] \n",
        "Y=[]\n",
        "i=0\n",
        "for idx,img in enumerate(labels):\n",
        "    for img_name in tqdm(os.listdir(path+img)):\n",
        "        if i<1000:\n",
        "            img_file=cv2.imread(path+img+'/'+img_name)\n",
        "            if img_file is not None:\n",
        "                img_file=transform.resize(img_file,(img_size,img_size,3))\n",
        "                X.append(img_file)\n",
        "                Y.append(idx)\n",
        "        else:\n",
        "            break\n",
        "        i=i+1\n",
        "    i=0\n",
        "X=np.asarray(X)\n",
        "Y=np.asarray(Y)"
      ],
      "metadata": {
        "id": "_MeZuemezeXO",
        "colab": {
          "base_uri": "https://localhost:8080/"
        },
        "outputId": "60e143a8-d9ab-4be3-a24f-f7474b0ab4de"
      },
      "execution_count": null,
      "outputs": [
        {
          "output_type": "stream",
          "name": "stderr",
          "text": [
            " 45%|████▍     | 1000/2223 [00:15<00:18, 65.69it/s]\n",
            " 12%|█▏        | 1000/8405 [00:16<01:58, 62.32it/s]\n",
            "  1%|▏         | 1000/75709 [00:16<20:08, 61.82it/s]\n",
            " 16%|█▌        | 1000/6431 [00:16<01:27, 62.30it/s]\n",
            " 45%|████▍     | 1000/2223 [00:15<00:19, 63.17it/s]\n",
            " 17%|█▋        | 1000/5789 [00:15<01:16, 62.86it/s]\n"
          ]
        }
      ]
    },
    {
      "cell_type": "code",
      "source": [
        "from random import randint\n",
        "n = 50  # how many digits we will display\n",
        "plt.figure(figsize=(90,40))\n",
        "for i in range(10,20):\n",
        "    # display original\n",
        "    rn=randint(0,987)\n",
        "    ax = plt.subplot(1, n, i + 1)\n",
        "    plt.imshow(X[rn])\n",
        "    plt.title(labels[Y[rn]])\n",
        "    plt.gray()\n",
        "    ax.get_xaxis().set_visible(False)\n",
        "    ax.get_yaxis().set_visible(False)\n",
        "plt.show()\n",
        "plt.close()"
      ],
      "metadata": {
        "colab": {
          "base_uri": "https://localhost:8080/",
          "height": 126
        },
        "id": "9OctWlqizeUJ",
        "outputId": "0a20eeeb-76cb-44e8-d8b5-912e8dafe6cc"
      },
      "execution_count": null,
      "outputs": [
        {
          "output_type": "display_data",
          "data": {
            "text/plain": [
              "<Figure size 6480x2880 with 10 Axes>"
            ],
            "image/png": "[encoded data removed]"
          },
          "metadata": {
            "needs_background": "light"
          }
        }
      ]
    },
    {
      "cell_type": "code",
      "source": [
        "from sklearn.model_selection import train_test_split\n",
        "X_train,X_test,Y_train,Y_test=train_test_split(X,Y,test_size=0.2,stratify=Y,random_state=42)"
      ],
      "metadata": {
        "id": "Nsw0NpHWzeL-"
      },
      "execution_count": null,
      "outputs": []
    },
    {
      "cell_type": "code",
      "source": [
        "print('Shapes of Data Split into Train & Test Part')\n",
        "print(f'Training Data->{X_train.shape},{Y_train.shape} Testing Data->{X_test.shape,Y_test.shape}')"
      ],
      "metadata": {
        "colab": {
          "base_uri": "https://localhost:8080/"
        },
        "id": "j0wRltKOzeIe",
        "outputId": "8b84fd56-9f31-4eba-a613-8835040bdfae"
      },
      "execution_count": null,
      "outputs": [
        {
          "output_type": "stream",
          "name": "stdout",
          "text": [
            "Shapes of Data Split into Train & Test Part\n",
            "Training Data->(4800, 150, 150, 3),(4800,) Testing Data->((1200, 150, 150, 3), (1200,))\n"
          ]
        }
      ]
    },
    {
      "cell_type": "code",
      "source": [
        "from keras.utils.np_utils import to_categorical\n",
        "Y_train=to_categorical(Y_train,num_classes=len(labels))\n",
        "Y_test=to_categorical(Y_test,num_classes=len(labels))"
      ],
      "metadata": {
        "id": "2yjFyjLnzeFn"
      },
      "execution_count": null,
      "outputs": []
    },
    {
      "cell_type": "code",
      "source": [
        "Y_train.shape,Y_test.shape"
      ],
      "metadata": {
        "colab": {
          "base_uri": "https://localhost:8080/"
        },
        "id": "_gosOacNzeCM",
        "outputId": "e0485b42-f993-481b-95d3-9cecd98ce53a"
      },
      "execution_count": null,
      "outputs": [
        {
          "output_type": "execute_result",
          "data": {
            "text/plain": [
              "((4800, 6), (1200, 6))"
            ]
          },
          "metadata": {},
          "execution_count": 18
        }
      ]
    },
    {
      "cell_type": "code",
      "source": [
        "from tensorflow import keras\n",
        "KerasModel = keras.models.Sequential([#bulid nn\n",
        "        keras.layers.Conv2D(200,kernel_size=(3,3),activation='relu',input_shape=(150,150,3)),\n",
        "        #1 convolutional layer 200filter each filter 3*3 relu  input 100*100*3 rgb\n",
        "        keras.layers.Conv2D(150,kernel_size=(3,3),activation='relu'),\n",
        "       #2 convolutional layer 150filter each filter 3*3 relu\n",
        "        keras.layers.MaxPool2D(4,4),\n",
        "        #3 maxpool layer 4*4\n",
        "        keras.layers.Conv2D(120,kernel_size=(3,3),activation='relu'),\n",
        "        #4 convolutional layer 120filter each filter 3*3 relu\n",
        "        keras.layers.Conv2D(80,kernel_size=(3,3),activation='relu'), \n",
        "        #5 convolutional layer 80filter each filter 3*3 relu\n",
        "        keras.layers.Conv2D(50,kernel_size=(3,3),activation='relu'),\n",
        "        #6 convolutional layer 50filter each filter 3*3 relu\n",
        "        keras.layers.MaxPool2D(4,4),#7 maxpool layer 4*4\n",
        "        keras.layers.Flatten(),  #make the matrix flate\n",
        "        keras.layers.Dense(512,activation='relu') , #hidden layer (120cell)   \n",
        "        keras.layers.Dense(100,activation='relu') , #hidden layer (100cell)\n",
        "        keras.layers.Dense(50,activation='relu') ,  #hidden layer (50cell)      \n",
        "        keras.layers.Dropout(rate=0.5) , \n",
        "        #drop some nuron 50% reduces the number of connections to increase speed and reduces the overfit\n",
        "        keras.layers.Dense(6,activation='softmax') ,  #output layer 6  \n",
        "    ])\n",
        "KerasModel.compile(loss='categorical_crossentropy',optimizer='adam',metrics=['accuracy'])\n",
        "KerasModel.summary()"
      ],
      "metadata": {
        "colab": {
          "base_uri": "https://localhost:8080/"
        },
        "id": "qcqR6IArzd6z",
        "outputId": "d3bbd5e6-f3ff-4717-dd9c-00d5a775a1f5"
      },
      "execution_count": null,
      "outputs": [
        {
          "output_type": "stream",
          "name": "stdout",
          "text": [
            "Model: \"sequential\"\n",
            "_________________________________________________________________\n",
            " Layer (type)                Output Shape              Param #   \n",
            "=================================================================\n",
            " conv2d (Conv2D)             (None, 148, 148, 200)     5600      \n",
            "                                                                 \n",
            " conv2d_1 (Conv2D)           (None, 146, 146, 150)     270150    \n",
            "                                                                 \n",
            " max_pooling2d (MaxPooling2D  (None, 36, 36, 150)      0         \n",
            " )                                                               \n",
            "                                                                 \n",
            " conv2d_2 (Conv2D)           (None, 34, 34, 120)       162120    \n",
            "                                                                 \n",
            " conv2d_3 (Conv2D)           (None, 32, 32, 80)        86480     \n",
            "                                                                 \n",
            " conv2d_4 (Conv2D)           (None, 30, 30, 50)        36050     \n",
            "                                                                 \n",
            " max_pooling2d_1 (MaxPooling  (None, 7, 7, 50)         0         \n",
            " 2D)                                                             \n",
            "                                                                 \n",
            " flatten (Flatten)           (None, 2450)              0         \n",
            "                                                                 \n",
            " dense (Dense)               (None, 512)               1254912   \n",
            "                                                                 \n",
            " dense_1 (Dense)             (None, 100)               51300     \n",
            "                                                                 \n",
            " dense_2 (Dense)             (None, 50)                5050      \n",
            "                                                                 \n",
            " dropout (Dropout)           (None, 50)                0         \n",
            "                                                                 \n",
            " dense_3 (Dense)             (None, 6)                 306       \n",
            "                                                                 \n",
            "=================================================================\n",
            "Total params: 1,871,968\n",
            "Trainable params: 1,871,968\n",
            "Non-trainable params: 0\n",
            "_________________________________________________________________\n"
          ]
        }
      ]
    },
    {
      "cell_type": "code",
      "source": [
        "history=KerasModel.fit(X_train,Y_train,validation_data=(X_test,Y_test),epochs=20,batch_size=32,verbose=1)"
      ],
      "metadata": {
        "id": "wZuDU4hHzd3T",
        "colab": {
          "base_uri": "https://localhost:8080/"
        },
        "outputId": "90bf8fb3-2a69-413e-e3a0-a9a8bad94d69"
      },
      "execution_count": null,
      "outputs": [
        {
          "output_type": "stream",
          "name": "stdout",
          "text": [
            "Epoch 1/20\n",
            "150/150 [==============================] - 50s 254ms/step - loss: 1.2515 - accuracy: 0.4625 - val_loss: 0.3751 - val_accuracy: 0.8150\n",
            "Epoch 2/20\n",
            "150/150 [==============================] - 36s 240ms/step - loss: 0.2701 - accuracy: 0.9187 - val_loss: 0.1027 - val_accuracy: 0.9658\n",
            "Epoch 3/20\n",
            "150/150 [==============================] - 36s 242ms/step - loss: 0.2059 - accuracy: 0.9346 - val_loss: 0.0587 - val_accuracy: 0.9758\n",
            "Epoch 4/20\n",
            "150/150 [==============================] - 36s 239ms/step - loss: 0.1060 - accuracy: 0.9631 - val_loss: 0.0559 - val_accuracy: 0.9817\n",
            "Epoch 5/20\n",
            "150/150 [==============================] - 36s 240ms/step - loss: 0.0946 - accuracy: 0.9650 - val_loss: 0.0379 - val_accuracy: 0.9833\n",
            "Epoch 6/20\n",
            "150/150 [==============================] - 36s 240ms/step - loss: 0.0662 - accuracy: 0.9721 - val_loss: 0.0344 - val_accuracy: 0.9892\n",
            "Epoch 7/20\n",
            "150/150 [==============================] - 36s 239ms/step - loss: 0.0931 - accuracy: 0.9708 - val_loss: 0.0262 - val_accuracy: 0.9908\n",
            "Epoch 8/20\n",
            "150/150 [==============================] - 36s 239ms/step - loss: 0.0503 - accuracy: 0.9819 - val_loss: 0.0169 - val_accuracy: 0.9950\n",
            "Epoch 9/20\n",
            "150/150 [==============================] - 36s 239ms/step - loss: 0.0277 - accuracy: 0.9881 - val_loss: 0.1593 - val_accuracy: 0.9725\n",
            "Epoch 10/20\n",
            "150/150 [==============================] - 36s 239ms/step - loss: 0.0563 - accuracy: 0.9831 - val_loss: 0.0234 - val_accuracy: 0.9958\n",
            "Epoch 11/20\n",
            "150/150 [==============================] - 36s 239ms/step - loss: 0.1431 - accuracy: 0.9733 - val_loss: 0.2072 - val_accuracy: 0.9708\n",
            "Epoch 12/20\n",
            "150/150 [==============================] - 36s 239ms/step - loss: 0.2222 - accuracy: 0.9550 - val_loss: 0.0522 - val_accuracy: 0.9883\n",
            "Epoch 13/20\n",
            "150/150 [==============================] - 36s 238ms/step - loss: 0.0210 - accuracy: 0.9921 - val_loss: 0.0245 - val_accuracy: 0.9958\n",
            "Epoch 14/20\n",
            "150/150 [==============================] - 36s 238ms/step - loss: 0.0300 - accuracy: 0.9904 - val_loss: 0.0428 - val_accuracy: 0.9925\n",
            "Epoch 15/20\n",
            "150/150 [==============================] - 36s 238ms/step - loss: 0.0174 - accuracy: 0.9948 - val_loss: 0.0203 - val_accuracy: 0.9975\n",
            "Epoch 16/20\n",
            "150/150 [==============================] - 36s 238ms/step - loss: 0.0255 - accuracy: 0.9931 - val_loss: 0.0136 - val_accuracy: 0.9942\n",
            "Epoch 17/20\n",
            "150/150 [==============================] - 36s 238ms/step - loss: 0.0111 - accuracy: 0.9950 - val_loss: 0.0142 - val_accuracy: 0.9950\n",
            "Epoch 18/20\n",
            "150/150 [==============================] - 36s 238ms/step - loss: 0.0101 - accuracy: 0.9965 - val_loss: 0.0175 - val_accuracy: 0.9975\n",
            "Epoch 19/20\n",
            "150/150 [==============================] - 36s 238ms/step - loss: 0.0067 - accuracy: 0.9979 - val_loss: 0.0259 - val_accuracy: 0.9958\n",
            "Epoch 20/20\n",
            "150/150 [==============================] - 36s 238ms/step - loss: 0.0064 - accuracy: 0.9971 - val_loss: 0.0163 - val_accuracy: 0.9958\n"
          ]
        }
      ]
    },
    {
      "cell_type": "code",
      "source": [
        "path2='/content/ECG_Image_data/test/'\n",
        "img_size=150\n",
        "x_test=[] \n",
        "y_test=[]\n",
        "i=0\n",
        "for idx,img in enumerate(labels):\n",
        "    for img_name in tqdm(os.listdir(path2+img)):\n",
        "        if i<200:\n",
        "            img_file=cv2.imread(path2+img+'/'+img_name)\n",
        "            if img_file is not None:\n",
        "                img_file=transform.resize(img_file,(img_size,img_size,3))\n",
        "                x_test.append(img_file)\n",
        "                y_test.append(idx)\n",
        "        else:\n",
        "            break\n",
        "        i=i+1\n",
        "    i=0\n",
        "x_test=np.asarray(x_test)\n",
        "y_test=np.asarray(y_test)"
      ],
      "metadata": {
        "id": "ud_S6OiFzdhX",
        "colab": {
          "base_uri": "https://localhost:8080/"
        },
        "outputId": "57b4b088-cbab-461b-842c-9804b7f7230e"
      },
      "execution_count": null,
      "outputs": [
        {
          "output_type": "stream",
          "name": "stderr",
          "text": [
            " 36%|███▌      | 200/556 [00:04<00:07, 47.22it/s]\n",
            " 10%|▉         | 200/2101 [00:04<00:38, 49.66it/s]\n",
            "  1%|          | 200/18926 [00:03<05:42, 54.66it/s]\n",
            " 12%|█▏        | 200/1608 [00:03<00:25, 55.97it/s]\n",
            " 36%|███▌      | 200/556 [00:03<00:06, 57.43it/s]\n",
            " 14%|█▍        | 200/1447 [00:03<00:22, 55.61it/s]\n"
          ]
        }
      ]
    },
    {
      "cell_type": "code",
      "source": [
        "y_test=to_categorical(y_test,num_classes=len(labels))\n",
        "print(KerasModel.evaluate(x_test,y_test))"
      ],
      "metadata": {
        "id": "eY-6BXm-zder",
        "colab": {
          "base_uri": "https://localhost:8080/"
        },
        "outputId": "97765048-a107-4118-d1b5-5dc9ba37dcb4"
      },
      "execution_count": null,
      "outputs": [
        {
          "output_type": "stream",
          "name": "stdout",
          "text": [
            "38/38 [==============================] - 3s 80ms/step - loss: 0.0252 - accuracy: 0.9967\n",
            "[0.025190193206071854, 0.996666669845581]\n"
          ]
        }
      ]
    },
    {
      "cell_type": "code",
      "source": [
        "results = KerasModel.evaluate(x_test,y_test)\n",
        "\n",
        "print(\"Test Loss: {:.5f}\".format(results[0]))\n",
        "print(\"Test Accuracy: {:.2f}%\".format(results[1] * 100))"
      ],
      "metadata": {
        "id": "fGUsWR_Dzdcj",
        "colab": {
          "base_uri": "https://localhost:8080/"
        },
        "outputId": "86d1324e-cd62-4c6c-cdbd-16eb4629d66b"
      },
      "execution_count": null,
      "outputs": [
        {
          "output_type": "stream",
          "name": "stdout",
          "text": [
            "38/38 [==============================] - 3s 80ms/step - loss: 0.0252 - accuracy: 0.9967\n",
            "Test Loss: 0.02519\n",
            "Test Accuracy: 99.67%\n"
          ]
        }
      ]
    },
    {
      "cell_type": "code",
      "source": [
        "import matplotlib.pyplot as plt\n",
        "\n",
        "plt.plot(history.history['loss'])\n",
        "plt.plot(history.history['val_loss'])\n",
        "plt.legend(['Training', 'Validation'])\n",
        "plt.title('Training and Validation losses')\n",
        "plt.xlabel('epoch')\n",
        "plt.ylabel('loss')\n",
        "     "
      ],
      "metadata": {
        "id": "SPo8vUYRzdah",
        "colab": {
          "base_uri": "https://localhost:8080/",
          "height": 313
        },
        "outputId": "4d353cb9-89de-4ed5-a6a3-84317cbeb426"
      },
      "execution_count": null,
      "outputs": [
        {
          "output_type": "execute_result",
          "data": {
            "text/plain": [
              "Text(0, 0.5, 'loss')"
            ]
          },
          "metadata": {},
          "execution_count": 24
        },
        {
          "output_type": "display_data",
          "data": {
            "text/plain": [
              "<Figure size 432x288 with 1 Axes>"
            ],
            "image/png": "[encoded data removed]"
          },
          "metadata": {
            "needs_background": "light"
          }
        }
      ]
    },
    {
      "cell_type": "code",
      "source": [
        "plt.plot(history.history['accuracy'])\n",
        "plt.plot(history.history['val_accuracy'])\n",
        "plt.legend(['Training', 'Validation'])\n",
        "plt.title('Training and Validation accuracy')\n",
        "plt.xlabel('epoch')\n",
        "plt.ylabel('accuracy')"
      ],
      "metadata": {
        "id": "UcRuEu0RzdYQ",
        "colab": {
          "base_uri": "https://localhost:8080/",
          "height": 313
        },
        "outputId": "7b24d822-f71c-4597-e4d8-fa6eedf0435a"
      },
      "execution_count": null,
      "outputs": [
        {
          "output_type": "execute_result",
          "data": {
            "text/plain": [
              "Text(0, 0.5, 'accuracy')"
            ]
          },
          "metadata": {},
          "execution_count": 25
        },
        {
          "output_type": "display_data",
          "data": {
            "text/plain": [
              "<Figure size 432x288 with 1 Axes>"
            ],
            "image/png": "[encoded data removed]"
          },
          "metadata": {
            "needs_background": "light"
          }
        }
      ]
    },
    {
      "cell_type": "code",
      "source": [
        "from sklearn.metrics import confusion_matrix,classification_report\n",
        "import seaborn as sns\n",
        "\n",
        "Y_pred = KerasModel.predict(x_test)\n",
        "Y_pred_classes = np.argmax(Y_pred,axis = 1) \n",
        "Y_true = np.argmax(y_test,axis = 1) \n",
        "\n",
        "confusion_mtx = confusion_matrix(Y_true, Y_pred_classes) \n",
        "\n",
        "f,ax = plt.subplots(figsize=(8, 8))\n",
        "sns.heatmap(confusion_mtx, annot=True, linewidths=0.01,cmap=\"Oranges\",linecolor=\"gray\", fmt= '.1f',ax=ax)\n",
        "plt.xlabel(\"Predicted Label\")\n",
        "plt.ylabel(\"True Label\")\n",
        "plt.title(\"Confusion Matrix\")\n",
        "plt.show()"
      ],
      "metadata": {
        "id": "8h-pPy9DzdS0",
        "colab": {
          "base_uri": "https://localhost:8080/",
          "height": 531
        },
        "outputId": "6b62e458-72d4-43c1-80e9-971aad4bc871"
      },
      "execution_count": null,
      "outputs": [
        {
          "output_type": "stream",
          "name": "stdout",
          "text": [
            "38/38 [==============================] - 3s 77ms/step\n"
          ]
        },
        {
          "output_type": "display_data",
          "data": {
            "text/plain": [
              "<Figure size 576x576 with 2 Axes>"
            ],
            "image/png": "[encoded data removed]"
          },
          "metadata": {
            "needs_background": "light"
          }
        }
      ]
    },
    {
      "cell_type": "code",
      "source": [
        "print(classification_report(Y_true, Y_pred_classes))"
      ],
      "metadata": {
        "id": "sLTT0bI_12NP",
        "colab": {
          "base_uri": "https://localhost:8080/"
        },
        "outputId": "7e848ae4-fae0-4bea-fbd9-3e78d23f70c1"
      },
      "execution_count": null,
      "outputs": [
        {
          "output_type": "stream",
          "name": "stdout",
          "text": [
            "              precision    recall  f1-score   support\n",
            "\n",
            "           0       0.99      0.99      0.99       200\n",
            "           1       0.99      0.98      0.99       200\n",
            "           2       1.00      1.00      1.00       200\n",
            "           3       1.00      1.00      1.00       200\n",
            "           4       1.00      1.00      1.00       200\n",
            "           5       1.00      1.00      1.00       200\n",
            "\n",
            "    accuracy                           1.00      1200\n",
            "   macro avg       1.00      1.00      1.00      1200\n",
            "weighted avg       1.00      1.00      1.00      1200\n",
            "\n"
          ]
        }
      ]
    },
    {
      "cell_type": "code",
      "source": [
        "from tensorflow.keras.preprocessing import image\n",
        "test_image_path = '/content/ECG_Image_data/test/V/V1122.png'\n",
        "test_img = image.load_img(test_image_path, target_size=(150, 150))\n",
        "test_img_arr = image.img_to_array(test_img)/255\n",
        "test_img_input = test_img_arr.reshape((1, test_img_arr.shape[0], test_img_arr.shape[1], test_img_arr.shape[2]))\n",
        "\n",
        "# 2. Make Predictions\n",
        "predicted_label = np.argmax(KerasModel.predict(test_img_input))\n",
        "predicted_beat = labels[predicted_label]\n",
        "plt.figure(figsize=(4, 4))\n",
        "plt.imshow(test_img_arr)\n",
        "plt.title(\"Predicted Label: {}, Actual Label: {}\".format(predicted_beat, 'V'))\n",
        "plt.grid()\n",
        "plt.axis('off')\n",
        "plt.show()"
      ],
      "metadata": {
        "id": "2OPPjo8q1_Bs",
        "colab": {
          "base_uri": "https://localhost:8080/",
          "height": 282
        },
        "outputId": "880f6ca4-5127-40ea-d924-c697034b17f2"
      },
      "execution_count": null,
      "outputs": [
        {
          "output_type": "stream",
          "name": "stdout",
          "text": [
            "1/1 [==============================] - 0s 16ms/step\n"
          ]
        },
        {
          "output_type": "display_data",
          "data": {
            "text/plain": [
              "<Figure size 288x288 with 1 Axes>"
            ],
            "image/png": "[encoded data removed]"
          },
          "metadata": {
            "needs_background": "light"
          }
        }
      ]
    },
    {
      "cell_type": "code",
      "source": [],
      "metadata": {
        "id": "0vx4iWQR2Gsh"
      },
      "execution_count": null,
      "outputs": []
    }
  ]
}
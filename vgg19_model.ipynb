{
  "cells": [
    {
      "cell_type": "markdown",
      "metadata": {
        "id": "view-in-github",
        "colab_type": "text"
      },
      "source": [
        "<a href=\"https://colab.research.google.com/github/Anik85/Anik85/blob/main/vgg19_model.ipynb\" target=\"_parent\"><img src=\"https://colab.research.google.com/assets/colab-badge.svg\" alt=\"Open In Colab\"/></a>"
      ]
    },
    {
      "cell_type": "code",
      "execution_count": 4,
      "metadata": {
        "id": "YBQgaLoMLPOq"
      },
      "outputs": [],
      "source": [
        "!mkdir -p ~/.kaggle\n",
        "!cp kaggle.json ~/.kaggle/"
      ]
    },
    {
      "cell_type": "code",
      "execution_count": 5,
      "metadata": {
        "colab": {
          "base_uri": "https://localhost:8080/"
        },
        "id": "qzQoEuMDLaza",
        "outputId": "9a1f5ae0-ba69-451c-c050-5f00916e1fb9"
      },
      "outputs": [
        {
          "output_type": "stream",
          "name": "stdout",
          "text": [
            "Warning: Your Kaggle API key is readable by other users on this system! To fix this, you can run 'chmod 600 /root/.kaggle/kaggle.json'\n",
            "Downloading ecg-image-data.zip to /content\n",
            "100% 858M/858M [00:37<00:00, 25.1MB/s]\n",
            "100% 858M/858M [00:37<00:00, 23.9MB/s]\n"
          ]
        }
      ],
      "source": [
        "!kaggle datasets download -d erhmrai/ecg-image-data"
      ]
    },
    {
      "cell_type": "code",
      "execution_count": 6,
      "metadata": {
        "id": "j-hHZ8a-LawI"
      },
      "outputs": [],
      "source": [
        "import zipfile\n",
        "zip_ref=zipfile.ZipFile('/content/ecg-image-data.zip','r')\n",
        "zip_ref.extractall('/content')\n",
        "zip_ref.close()"
      ]
    },
    {
      "cell_type": "code",
      "execution_count": 7,
      "metadata": {
        "id": "7dJ4DNXoLate"
      },
      "outputs": [],
      "source": [
        "import numpy as np\n",
        "import pandas as pd\n",
        "from pathlib import Path\n",
        "import os.path\n",
        "import matplotlib.pyplot as plt\n",
        "import tensorflow as tf\n",
        "from tensorflow.keras.models import Sequential\n",
        "from tensorflow.keras.layers import Convolution2D\n",
        "from tensorflow.keras.layers import MaxPooling2D\n",
        "from tensorflow.keras.layers import Flatten\n",
        "from tensorflow.keras.layers import Dense\n",
        "from tensorflow.keras.layers import Dropout, Activation , BatchNormalization\n",
        "from tensorflow.keras.preprocessing.image import ImageDataGenerator\n",
        "from tensorflow.keras.layers import Dense, Conv2D, MaxPool2D , Flatten\n",
        "from tensorflow.keras.losses import categorical_crossentropy\n",
        "from tensorflow.keras.optimizers import Adam\n",
        "from tensorflow.keras.losses import CategoricalCrossentropy\n",
        "from tensorflow.keras.regularizers import l2\n",
        "from tensorflow.keras.callbacks import ReduceLROnPlateau, EarlyStopping\n",
        "from keras.models import Model\n",
        "from keras.applications.vgg19 import VGG19, preprocess_input\n",
        "from tensorflow.keras.applications.resnet50 import ResNet50, preprocess_input\n",
        "from keras.applications.vgg16 import preprocess_input,VGG16\n",
        "from glob import glob"
      ]
    },
    {
      "cell_type": "code",
      "execution_count": 8,
      "metadata": {
        "id": "bNS7lHiHLoEU"
      },
      "outputs": [],
      "source": [
        "train_dir = Path('/content/ECG_Image_data/train')\n",
        "test_dir = Path('/content/ECG_Image_data/test')"
      ]
    },
    {
      "cell_type": "code",
      "execution_count": 9,
      "metadata": {
        "colab": {
          "base_uri": "https://localhost:8080/",
          "height": 424
        },
        "id": "oKXcMkpULaql",
        "outputId": "1e771444-1aba-451c-a844-c5baf1a44bc9"
      },
      "outputs": [
        {
          "output_type": "execute_result",
          "data": {
            "text/plain": [
              "                                        Filepath Label\n",
              "0      /content/ECG_Image_data/train/Q/Q1039.png     Q\n",
              "1      /content/ECG_Image_data/train/Q/Q7206.png     Q\n",
              "2       /content/ECG_Image_data/train/Q/Q367.png     Q\n",
              "3      /content/ECG_Image_data/train/Q/Q4548.png     Q\n",
              "4      /content/ECG_Image_data/train/Q/Q6629.png     Q\n",
              "...                                          ...   ...\n",
              "99194  /content/ECG_Image_data/train/M/M2469.png     M\n",
              "99195  /content/ECG_Image_data/train/M/M5724.png     M\n",
              "99196  /content/ECG_Image_data/train/M/M8708.png     M\n",
              "99197  /content/ECG_Image_data/train/M/M9175.png     M\n",
              "99198  /content/ECG_Image_data/train/M/M8996.png     M\n",
              "\n",
              "[99199 rows x 2 columns]"
            ],
            "text/html": [
              "\n",
              "  <div id=\"df-83f559b5-6f26-4a43-8475-5b1e75c56e47\">\n",
              "    <div class=\"colab-df-container\">\n",
              "      <div>\n",
              "<style scoped>\n",
              "    .dataframe tbody tr th:only-of-type {\n",
              "        vertical-align: middle;\n",
              "    }\n",
              "\n",
              "    .dataframe tbody tr th {\n",
              "        vertical-align: top;\n",
              "    }\n",
              "\n",
              "    .dataframe thead th {\n",
              "        text-align: right;\n",
              "    }\n",
              "</style>\n",
              "<table border=\"1\" class=\"dataframe\">\n",
              "  <thead>\n",
              "    <tr style=\"text-align: right;\">\n",
              "      <th></th>\n",
              "      <th>Filepath</th>\n",
              "      <th>Label</th>\n",
              "    </tr>\n",
              "  </thead>\n",
              "  <tbody>\n",
              "    <tr>\n",
              "      <th>0</th>\n",
              "      <td>/content/ECG_Image_data/train/Q/Q1039.png</td>\n",
              "      <td>Q</td>\n",
              "    </tr>\n",
              "    <tr>\n",
              "      <th>1</th>\n",
              "      <td>/content/ECG_Image_data/train/Q/Q7206.png</td>\n",
              "      <td>Q</td>\n",
              "    </tr>\n",
              "    <tr>\n",
              "      <th>2</th>\n",
              "      <td>/content/ECG_Image_data/train/Q/Q367.png</td>\n",
              "      <td>Q</td>\n",
              "    </tr>\n",
              "    <tr>\n",
              "      <th>3</th>\n",
              "      <td>/content/ECG_Image_data/train/Q/Q4548.png</td>\n",
              "      <td>Q</td>\n",
              "    </tr>\n",
              "    <tr>\n",
              "      <th>4</th>\n",
              "      <td>/content/ECG_Image_data/train/Q/Q6629.png</td>\n",
              "      <td>Q</td>\n",
              "    </tr>\n",
              "    <tr>\n",
              "      <th>...</th>\n",
              "      <td>...</td>\n",
              "      <td>...</td>\n",
              "    </tr>\n",
              "    <tr>\n",
              "      <th>99194</th>\n",
              "      <td>/content/ECG_Image_data/train/M/M2469.png</td>\n",
              "      <td>M</td>\n",
              "    </tr>\n",
              "    <tr>\n",
              "      <th>99195</th>\n",
              "      <td>/content/ECG_Image_data/train/M/M5724.png</td>\n",
              "      <td>M</td>\n",
              "    </tr>\n",
              "    <tr>\n",
              "      <th>99196</th>\n",
              "      <td>/content/ECG_Image_data/train/M/M8708.png</td>\n",
              "      <td>M</td>\n",
              "    </tr>\n",
              "    <tr>\n",
              "      <th>99197</th>\n",
              "      <td>/content/ECG_Image_data/train/M/M9175.png</td>\n",
              "      <td>M</td>\n",
              "    </tr>\n",
              "    <tr>\n",
              "      <th>99198</th>\n",
              "      <td>/content/ECG_Image_data/train/M/M8996.png</td>\n",
              "      <td>M</td>\n",
              "    </tr>\n",
              "  </tbody>\n",
              "</table>\n",
              "<p>99199 rows × 2 columns</p>\n",
              "</div>\n",
              "      <button class=\"colab-df-convert\" onclick=\"convertToInteractive('df-83f559b5-6f26-4a43-8475-5b1e75c56e47')\"\n",
              "              title=\"Convert this dataframe to an interactive table.\"\n",
              "              style=\"display:none;\">\n",
              "        \n",
              "  <svg xmlns=\"http://www.w3.org/2000/svg\" height=\"24px\"viewBox=\"0 0 24 24\"\n",
              "       width=\"24px\">\n",
              "    <path d=\"M0 0h24v24H0V0z\" fill=\"none\"/>\n",
              "    <path d=\"M18.56 5.44l.94 2.06.94-2.06 2.06-.94-2.06-.94-.94-2.06-.94 2.06-2.06.94zm-11 1L8.5 8.5l.94-2.06 2.06-.94-2.06-.94L8.5 2.5l-.94 2.06-2.06.94zm10 10l.94 2.06.94-2.06 2.06-.94-2.06-.94-.94-2.06-.94 2.06-2.06.94z\"/><path d=\"M17.41 7.96l-1.37-1.37c-.4-.4-.92-.59-1.43-.59-.52 0-1.04.2-1.43.59L10.3 9.45l-7.72 7.72c-.78.78-.78 2.05 0 2.83L4 21.41c.39.39.9.59 1.41.59.51 0 1.02-.2 1.41-.59l7.78-7.78 2.81-2.81c.8-.78.8-2.07 0-2.86zM5.41 20L4 18.59l7.72-7.72 1.47 1.35L5.41 20z\"/>\n",
              "  </svg>\n",
              "      </button>\n",
              "      \n",
              "  <style>\n",
              "    .colab-df-container {\n",
              "      display:flex;\n",
              "      flex-wrap:wrap;\n",
              "      gap: 12px;\n",
              "    }\n",
              "\n",
              "    .colab-df-convert {\n",
              "      background-color: #E8F0FE;\n",
              "      border: none;\n",
              "      border-radius: 50%;\n",
              "      cursor: pointer;\n",
              "      display: none;\n",
              "      fill: #1967D2;\n",
              "      height: 32px;\n",
              "      padding: 0 0 0 0;\n",
              "      width: 32px;\n",
              "    }\n",
              "\n",
              "    .colab-df-convert:hover {\n",
              "      background-color: #E2EBFA;\n",
              "      box-shadow: 0px 1px 2px rgba(60, 64, 67, 0.3), 0px 1px 3px 1px rgba(60, 64, 67, 0.15);\n",
              "      fill: #174EA6;\n",
              "    }\n",
              "\n",
              "    [theme=dark] .colab-df-convert {\n",
              "      background-color: #3B4455;\n",
              "      fill: #D2E3FC;\n",
              "    }\n",
              "\n",
              "    [theme=dark] .colab-df-convert:hover {\n",
              "      background-color: #434B5C;\n",
              "      box-shadow: 0px 1px 3px 1px rgba(0, 0, 0, 0.15);\n",
              "      filter: drop-shadow(0px 1px 2px rgba(0, 0, 0, 0.3));\n",
              "      fill: #FFFFFF;\n",
              "    }\n",
              "  </style>\n",
              "\n",
              "      <script>\n",
              "        const buttonEl =\n",
              "          document.querySelector('#df-83f559b5-6f26-4a43-8475-5b1e75c56e47 button.colab-df-convert');\n",
              "        buttonEl.style.display =\n",
              "          google.colab.kernel.accessAllowed ? 'block' : 'none';\n",
              "\n",
              "        async function convertToInteractive(key) {\n",
              "          const element = document.querySelector('#df-83f559b5-6f26-4a43-8475-5b1e75c56e47');\n",
              "          const dataTable =\n",
              "            await google.colab.kernel.invokeFunction('convertToInteractive',\n",
              "                                                     [key], {});\n",
              "          if (!dataTable) return;\n",
              "\n",
              "          const docLinkHtml = 'Like what you see? Visit the ' +\n",
              "            '<a target=\"_blank\" href=https://colab.research.google.com/notebooks/data_table.ipynb>data table notebook</a>'\n",
              "            + ' to learn more about interactive tables.';\n",
              "          element.innerHTML = '';\n",
              "          dataTable['output_type'] = 'display_data';\n",
              "          await google.colab.output.renderOutput(dataTable, element);\n",
              "          const docLink = document.createElement('div');\n",
              "          docLink.innerHTML = docLinkHtml;\n",
              "          element.appendChild(docLink);\n",
              "        }\n",
              "      </script>\n",
              "    </div>\n",
              "  </div>\n",
              "  "
            ]
          },
          "metadata": {},
          "execution_count": 9
        }
      ],
      "source": [
        "filepaths = list(train_dir.glob(r'**/*.png'))\n",
        "labels = list(map(lambda x: os.path.split(os.path.split(x)[0])[1], filepaths))\n",
        "\n",
        "\n",
        "filepaths = pd.Series(filepaths, name='Filepath').astype(str)\n",
        "labels = pd.Series(labels, name='Label')\n",
        "\n",
        "dataframe = pd.concat([filepaths , labels] , axis=1)\n",
        "dataframe"
      ]
    },
    {
      "cell_type": "code",
      "execution_count": 10,
      "metadata": {
        "colab": {
          "base_uri": "https://localhost:8080/"
        },
        "id": "UwnneHKYLaoe",
        "outputId": "89daeb4a-3c31-4129-c69a-9c0bd2fd2710"
      },
      "outputs": [
        {
          "output_type": "execute_result",
          "data": {
            "text/plain": [
              "N    75709\n",
              "M     8405\n",
              "Q     6431\n",
              "V     5789\n",
              "S     2223\n",
              "F      642\n",
              "Name: Label, dtype: int64"
            ]
          },
          "metadata": {},
          "execution_count": 10
        }
      ],
      "source": [
        "dataframe['Label'].value_counts()"
      ]
    },
    {
      "cell_type": "code",
      "execution_count": 11,
      "metadata": {
        "colab": {
          "base_uri": "https://localhost:8080/"
        },
        "id": "RkRMZR2dLamB",
        "outputId": "f88e9225-543c-4c0b-d890-5649021e6753"
      },
      "outputs": [
        {
          "output_type": "execute_result",
          "data": {
            "text/plain": [
              "Q    640\n",
              "S    640\n",
              "N    640\n",
              "M    640\n",
              "F    640\n",
              "V    640\n",
              "Name: Label, dtype: int64"
            ]
          },
          "metadata": {},
          "execution_count": 11
        }
      ],
      "source": [
        "samples = []\n",
        "for category in dataframe['Label'].unique():\n",
        "    category_slice = dataframe.query(\"Label == @category\")\n",
        "    samples.append(category_slice.sample(640, random_state=1))\n",
        "\n",
        "dataframe_train = pd.concat(samples, axis=0).sample(frac=1.0, random_state=1).reset_index(drop=True)\n",
        "dataframe_train['Label'].value_counts()"
      ]
    },
    {
      "cell_type": "code",
      "execution_count": 12,
      "metadata": {
        "colab": {
          "base_uri": "https://localhost:8080/",
          "height": 424
        },
        "id": "1T9vhsFuLajp",
        "outputId": "7df608d1-73cb-44ad-cd92-5f5676c5d2f7"
      },
      "outputs": [
        {
          "output_type": "execute_result",
          "data": {
            "text/plain": [
              "                                        Filepath Label\n",
              "0      /content/ECG_Image_data/train/Q/Q6407.png     Q\n",
              "1      /content/ECG_Image_data/train/S/S1238.png     S\n",
              "2     /content/ECG_Image_data/train/N/N10626.png     N\n",
              "3     /content/ECG_Image_data/train/N/N92838.png     N\n",
              "4      /content/ECG_Image_data/train/M/M8289.png     M\n",
              "...                                          ...   ...\n",
              "3835   /content/ECG_Image_data/train/N/N4068.png     N\n",
              "3836     /content/ECG_Image_data/train/F/F40.png     F\n",
              "3837    /content/ECG_Image_data/train/F/F799.png     F\n",
              "3838   /content/ECG_Image_data/train/Q/Q2081.png     Q\n",
              "3839    /content/ECG_Image_data/train/F/F263.png     F\n",
              "\n",
              "[3840 rows x 2 columns]"
            ],
            "text/html": [
              "\n",
              "  <div id=\"df-4d9b7a5a-aef6-41ac-a18d-ff8d20b26551\">\n",
              "    <div class=\"colab-df-container\">\n",
              "      <div>\n",
              "<style scoped>\n",
              "    .dataframe tbody tr th:only-of-type {\n",
              "        vertical-align: middle;\n",
              "    }\n",
              "\n",
              "    .dataframe tbody tr th {\n",
              "        vertical-align: top;\n",
              "    }\n",
              "\n",
              "    .dataframe thead th {\n",
              "        text-align: right;\n",
              "    }\n",
              "</style>\n",
              "<table border=\"1\" class=\"dataframe\">\n",
              "  <thead>\n",
              "    <tr style=\"text-align: right;\">\n",
              "      <th></th>\n",
              "      <th>Filepath</th>\n",
              "      <th>Label</th>\n",
              "    </tr>\n",
              "  </thead>\n",
              "  <tbody>\n",
              "    <tr>\n",
              "      <th>0</th>\n",
              "      <td>/content/ECG_Image_data/train/Q/Q6407.png</td>\n",
              "      <td>Q</td>\n",
              "    </tr>\n",
              "    <tr>\n",
              "      <th>1</th>\n",
              "      <td>/content/ECG_Image_data/train/S/S1238.png</td>\n",
              "      <td>S</td>\n",
              "    </tr>\n",
              "    <tr>\n",
              "      <th>2</th>\n",
              "      <td>/content/ECG_Image_data/train/N/N10626.png</td>\n",
              "      <td>N</td>\n",
              "    </tr>\n",
              "    <tr>\n",
              "      <th>3</th>\n",
              "      <td>/content/ECG_Image_data/train/N/N92838.png</td>\n",
              "      <td>N</td>\n",
              "    </tr>\n",
              "    <tr>\n",
              "      <th>4</th>\n",
              "      <td>/content/ECG_Image_data/train/M/M8289.png</td>\n",
              "      <td>M</td>\n",
              "    </tr>\n",
              "    <tr>\n",
              "      <th>...</th>\n",
              "      <td>...</td>\n",
              "      <td>...</td>\n",
              "    </tr>\n",
              "    <tr>\n",
              "      <th>3835</th>\n",
              "      <td>/content/ECG_Image_data/train/N/N4068.png</td>\n",
              "      <td>N</td>\n",
              "    </tr>\n",
              "    <tr>\n",
              "      <th>3836</th>\n",
              "      <td>/content/ECG_Image_data/train/F/F40.png</td>\n",
              "      <td>F</td>\n",
              "    </tr>\n",
              "    <tr>\n",
              "      <th>3837</th>\n",
              "      <td>/content/ECG_Image_data/train/F/F799.png</td>\n",
              "      <td>F</td>\n",
              "    </tr>\n",
              "    <tr>\n",
              "      <th>3838</th>\n",
              "      <td>/content/ECG_Image_data/train/Q/Q2081.png</td>\n",
              "      <td>Q</td>\n",
              "    </tr>\n",
              "    <tr>\n",
              "      <th>3839</th>\n",
              "      <td>/content/ECG_Image_data/train/F/F263.png</td>\n",
              "      <td>F</td>\n",
              "    </tr>\n",
              "  </tbody>\n",
              "</table>\n",
              "<p>3840 rows × 2 columns</p>\n",
              "</div>\n",
              "      <button class=\"colab-df-convert\" onclick=\"convertToInteractive('df-4d9b7a5a-aef6-41ac-a18d-ff8d20b26551')\"\n",
              "              title=\"Convert this dataframe to an interactive table.\"\n",
              "              style=\"display:none;\">\n",
              "        \n",
              "  <svg xmlns=\"http://www.w3.org/2000/svg\" height=\"24px\"viewBox=\"0 0 24 24\"\n",
              "       width=\"24px\">\n",
              "    <path d=\"M0 0h24v24H0V0z\" fill=\"none\"/>\n",
              "    <path d=\"M18.56 5.44l.94 2.06.94-2.06 2.06-.94-2.06-.94-.94-2.06-.94 2.06-2.06.94zm-11 1L8.5 8.5l.94-2.06 2.06-.94-2.06-.94L8.5 2.5l-.94 2.06-2.06.94zm10 10l.94 2.06.94-2.06 2.06-.94-2.06-.94-.94-2.06-.94 2.06-2.06.94z\"/><path d=\"M17.41 7.96l-1.37-1.37c-.4-.4-.92-.59-1.43-.59-.52 0-1.04.2-1.43.59L10.3 9.45l-7.72 7.72c-.78.78-.78 2.05 0 2.83L4 21.41c.39.39.9.59 1.41.59.51 0 1.02-.2 1.41-.59l7.78-7.78 2.81-2.81c.8-.78.8-2.07 0-2.86zM5.41 20L4 18.59l7.72-7.72 1.47 1.35L5.41 20z\"/>\n",
              "  </svg>\n",
              "      </button>\n",
              "      \n",
              "  <style>\n",
              "    .colab-df-container {\n",
              "      display:flex;\n",
              "      flex-wrap:wrap;\n",
              "      gap: 12px;\n",
              "    }\n",
              "\n",
              "    .colab-df-convert {\n",
              "      background-color: #E8F0FE;\n",
              "      border: none;\n",
              "      border-radius: 50%;\n",
              "      cursor: pointer;\n",
              "      display: none;\n",
              "      fill: #1967D2;\n",
              "      height: 32px;\n",
              "      padding: 0 0 0 0;\n",
              "      width: 32px;\n",
              "    }\n",
              "\n",
              "    .colab-df-convert:hover {\n",
              "      background-color: #E2EBFA;\n",
              "      box-shadow: 0px 1px 2px rgba(60, 64, 67, 0.3), 0px 1px 3px 1px rgba(60, 64, 67, 0.15);\n",
              "      fill: #174EA6;\n",
              "    }\n",
              "\n",
              "    [theme=dark] .colab-df-convert {\n",
              "      background-color: #3B4455;\n",
              "      fill: #D2E3FC;\n",
              "    }\n",
              "\n",
              "    [theme=dark] .colab-df-convert:hover {\n",
              "      background-color: #434B5C;\n",
              "      box-shadow: 0px 1px 3px 1px rgba(0, 0, 0, 0.15);\n",
              "      filter: drop-shadow(0px 1px 2px rgba(0, 0, 0, 0.3));\n",
              "      fill: #FFFFFF;\n",
              "    }\n",
              "  </style>\n",
              "\n",
              "      <script>\n",
              "        const buttonEl =\n",
              "          document.querySelector('#df-4d9b7a5a-aef6-41ac-a18d-ff8d20b26551 button.colab-df-convert');\n",
              "        buttonEl.style.display =\n",
              "          google.colab.kernel.accessAllowed ? 'block' : 'none';\n",
              "\n",
              "        async function convertToInteractive(key) {\n",
              "          const element = document.querySelector('#df-4d9b7a5a-aef6-41ac-a18d-ff8d20b26551');\n",
              "          const dataTable =\n",
              "            await google.colab.kernel.invokeFunction('convertToInteractive',\n",
              "                                                     [key], {});\n",
              "          if (!dataTable) return;\n",
              "\n",
              "          const docLinkHtml = 'Like what you see? Visit the ' +\n",
              "            '<a target=\"_blank\" href=https://colab.research.google.com/notebooks/data_table.ipynb>data table notebook</a>'\n",
              "            + ' to learn more about interactive tables.';\n",
              "          element.innerHTML = '';\n",
              "          dataTable['output_type'] = 'display_data';\n",
              "          await google.colab.output.renderOutput(dataTable, element);\n",
              "          const docLink = document.createElement('div');\n",
              "          docLink.innerHTML = docLinkHtml;\n",
              "          element.appendChild(docLink);\n",
              "        }\n",
              "      </script>\n",
              "    </div>\n",
              "  </div>\n",
              "  "
            ]
          },
          "metadata": {},
          "execution_count": 12
        }
      ],
      "source": [
        "dataframe_train"
      ]
    },
    {
      "cell_type": "code",
      "execution_count": 13,
      "metadata": {
        "colab": {
          "base_uri": "https://localhost:8080/",
          "height": 424
        },
        "id": "SxYX95txLahO",
        "outputId": "6a6e89cf-904c-4c04-8499-5da829625d13"
      },
      "outputs": [
        {
          "output_type": "execute_result",
          "data": {
            "text/plain": [
              "                                       Filepath Label\n",
              "0      /content/ECG_Image_data/test/Q/Q2513.png     Q\n",
              "1      /content/ECG_Image_data/test/Q/Q5854.png     Q\n",
              "2      /content/ECG_Image_data/test/Q/Q7493.png     Q\n",
              "3      /content/ECG_Image_data/test/Q/Q3968.png     Q\n",
              "4      /content/ECG_Image_data/test/Q/Q2804.png     Q\n",
              "...                                         ...   ...\n",
              "24794  /content/ECG_Image_data/test/M/M1245.png     M\n",
              "24795   /content/ECG_Image_data/test/M/M935.png     M\n",
              "24796   /content/ECG_Image_data/test/M/M646.png     M\n",
              "24797   /content/ECG_Image_data/test/M/M400.png     M\n",
              "24798  /content/ECG_Image_data/test/M/M1957.png     M\n",
              "\n",
              "[24799 rows x 2 columns]"
            ],
            "text/html": [
              "\n",
              "  <div id=\"df-a7e616e4-71a6-4ed6-84ff-674601ee6ba1\">\n",
              "    <div class=\"colab-df-container\">\n",
              "      <div>\n",
              "<style scoped>\n",
              "    .dataframe tbody tr th:only-of-type {\n",
              "        vertical-align: middle;\n",
              "    }\n",
              "\n",
              "    .dataframe tbody tr th {\n",
              "        vertical-align: top;\n",
              "    }\n",
              "\n",
              "    .dataframe thead th {\n",
              "        text-align: right;\n",
              "    }\n",
              "</style>\n",
              "<table border=\"1\" class=\"dataframe\">\n",
              "  <thead>\n",
              "    <tr style=\"text-align: right;\">\n",
              "      <th></th>\n",
              "      <th>Filepath</th>\n",
              "      <th>Label</th>\n",
              "    </tr>\n",
              "  </thead>\n",
              "  <tbody>\n",
              "    <tr>\n",
              "      <th>0</th>\n",
              "      <td>/content/ECG_Image_data/test/Q/Q2513.png</td>\n",
              "      <td>Q</td>\n",
              "    </tr>\n",
              "    <tr>\n",
              "      <th>1</th>\n",
              "      <td>/content/ECG_Image_data/test/Q/Q5854.png</td>\n",
              "      <td>Q</td>\n",
              "    </tr>\n",
              "    <tr>\n",
              "      <th>2</th>\n",
              "      <td>/content/ECG_Image_data/test/Q/Q7493.png</td>\n",
              "      <td>Q</td>\n",
              "    </tr>\n",
              "    <tr>\n",
              "      <th>3</th>\n",
              "      <td>/content/ECG_Image_data/test/Q/Q3968.png</td>\n",
              "      <td>Q</td>\n",
              "    </tr>\n",
              "    <tr>\n",
              "      <th>4</th>\n",
              "      <td>/content/ECG_Image_data/test/Q/Q2804.png</td>\n",
              "      <td>Q</td>\n",
              "    </tr>\n",
              "    <tr>\n",
              "      <th>...</th>\n",
              "      <td>...</td>\n",
              "      <td>...</td>\n",
              "    </tr>\n",
              "    <tr>\n",
              "      <th>24794</th>\n",
              "      <td>/content/ECG_Image_data/test/M/M1245.png</td>\n",
              "      <td>M</td>\n",
              "    </tr>\n",
              "    <tr>\n",
              "      <th>24795</th>\n",
              "      <td>/content/ECG_Image_data/test/M/M935.png</td>\n",
              "      <td>M</td>\n",
              "    </tr>\n",
              "    <tr>\n",
              "      <th>24796</th>\n",
              "      <td>/content/ECG_Image_data/test/M/M646.png</td>\n",
              "      <td>M</td>\n",
              "    </tr>\n",
              "    <tr>\n",
              "      <th>24797</th>\n",
              "      <td>/content/ECG_Image_data/test/M/M400.png</td>\n",
              "      <td>M</td>\n",
              "    </tr>\n",
              "    <tr>\n",
              "      <th>24798</th>\n",
              "      <td>/content/ECG_Image_data/test/M/M1957.png</td>\n",
              "      <td>M</td>\n",
              "    </tr>\n",
              "  </tbody>\n",
              "</table>\n",
              "<p>24799 rows × 2 columns</p>\n",
              "</div>\n",
              "      <button class=\"colab-df-convert\" onclick=\"convertToInteractive('df-a7e616e4-71a6-4ed6-84ff-674601ee6ba1')\"\n",
              "              title=\"Convert this dataframe to an interactive table.\"\n",
              "              style=\"display:none;\">\n",
              "        \n",
              "  <svg xmlns=\"http://www.w3.org/2000/svg\" height=\"24px\"viewBox=\"0 0 24 24\"\n",
              "       width=\"24px\">\n",
              "    <path d=\"M0 0h24v24H0V0z\" fill=\"none\"/>\n",
              "    <path d=\"M18.56 5.44l.94 2.06.94-2.06 2.06-.94-2.06-.94-.94-2.06-.94 2.06-2.06.94zm-11 1L8.5 8.5l.94-2.06 2.06-.94-2.06-.94L8.5 2.5l-.94 2.06-2.06.94zm10 10l.94 2.06.94-2.06 2.06-.94-2.06-.94-.94-2.06-.94 2.06-2.06.94z\"/><path d=\"M17.41 7.96l-1.37-1.37c-.4-.4-.92-.59-1.43-.59-.52 0-1.04.2-1.43.59L10.3 9.45l-7.72 7.72c-.78.78-.78 2.05 0 2.83L4 21.41c.39.39.9.59 1.41.59.51 0 1.02-.2 1.41-.59l7.78-7.78 2.81-2.81c.8-.78.8-2.07 0-2.86zM5.41 20L4 18.59l7.72-7.72 1.47 1.35L5.41 20z\"/>\n",
              "  </svg>\n",
              "      </button>\n",
              "      \n",
              "  <style>\n",
              "    .colab-df-container {\n",
              "      display:flex;\n",
              "      flex-wrap:wrap;\n",
              "      gap: 12px;\n",
              "    }\n",
              "\n",
              "    .colab-df-convert {\n",
              "      background-color: #E8F0FE;\n",
              "      border: none;\n",
              "      border-radius: 50%;\n",
              "      cursor: pointer;\n",
              "      display: none;\n",
              "      fill: #1967D2;\n",
              "      height: 32px;\n",
              "      padding: 0 0 0 0;\n",
              "      width: 32px;\n",
              "    }\n",
              "\n",
              "    .colab-df-convert:hover {\n",
              "      background-color: #E2EBFA;\n",
              "      box-shadow: 0px 1px 2px rgba(60, 64, 67, 0.3), 0px 1px 3px 1px rgba(60, 64, 67, 0.15);\n",
              "      fill: #174EA6;\n",
              "    }\n",
              "\n",
              "    [theme=dark] .colab-df-convert {\n",
              "      background-color: #3B4455;\n",
              "      fill: #D2E3FC;\n",
              "    }\n",
              "\n",
              "    [theme=dark] .colab-df-convert:hover {\n",
              "      background-color: #434B5C;\n",
              "      box-shadow: 0px 1px 3px 1px rgba(0, 0, 0, 0.15);\n",
              "      filter: drop-shadow(0px 1px 2px rgba(0, 0, 0, 0.3));\n",
              "      fill: #FFFFFF;\n",
              "    }\n",
              "  </style>\n",
              "\n",
              "      <script>\n",
              "        const buttonEl =\n",
              "          document.querySelector('#df-a7e616e4-71a6-4ed6-84ff-674601ee6ba1 button.colab-df-convert');\n",
              "        buttonEl.style.display =\n",
              "          google.colab.kernel.accessAllowed ? 'block' : 'none';\n",
              "\n",
              "        async function convertToInteractive(key) {\n",
              "          const element = document.querySelector('#df-a7e616e4-71a6-4ed6-84ff-674601ee6ba1');\n",
              "          const dataTable =\n",
              "            await google.colab.kernel.invokeFunction('convertToInteractive',\n",
              "                                                     [key], {});\n",
              "          if (!dataTable) return;\n",
              "\n",
              "          const docLinkHtml = 'Like what you see? Visit the ' +\n",
              "            '<a target=\"_blank\" href=https://colab.research.google.com/notebooks/data_table.ipynb>data table notebook</a>'\n",
              "            + ' to learn more about interactive tables.';\n",
              "          element.innerHTML = '';\n",
              "          dataTable['output_type'] = 'display_data';\n",
              "          await google.colab.output.renderOutput(dataTable, element);\n",
              "          const docLink = document.createElement('div');\n",
              "          docLink.innerHTML = docLinkHtml;\n",
              "          element.appendChild(docLink);\n",
              "        }\n",
              "      </script>\n",
              "    </div>\n",
              "  </div>\n",
              "  "
            ]
          },
          "metadata": {},
          "execution_count": 13
        }
      ],
      "source": [
        "filepaths = list(test_dir.glob(r'**/*.png'))\n",
        "labels = list(map(lambda x: os.path.split(os.path.split(x)[0])[1], filepaths))\n",
        "\n",
        "filepaths = pd.Series(filepaths, name='Filepath').astype(str)\n",
        "labels = pd.Series(labels, name='Label')\n",
        "\n",
        "dataframe_test = pd.concat([filepaths , labels] , axis=1)\n",
        "dataframe_test"
      ]
    },
    {
      "cell_type": "code",
      "execution_count": 14,
      "metadata": {
        "colab": {
          "base_uri": "https://localhost:8080/"
        },
        "id": "QVNHWG5gLaed",
        "outputId": "d76ceeeb-070e-4537-d263-4ed81dc4c745"
      },
      "outputs": [
        {
          "output_type": "execute_result",
          "data": {
            "text/plain": [
              "N    18926\n",
              "M     2101\n",
              "Q     1608\n",
              "V     1447\n",
              "S      556\n",
              "F      161\n",
              "Name: Label, dtype: int64"
            ]
          },
          "metadata": {},
          "execution_count": 14
        }
      ],
      "source": [
        "dataframe_test['Label'].value_counts()"
      ]
    },
    {
      "cell_type": "code",
      "execution_count": 15,
      "metadata": {
        "colab": {
          "base_uri": "https://localhost:8080/"
        },
        "id": "9SkLWOb0LacK",
        "outputId": "e13a3e55-ee78-4a1b-f9d2-f524a5c62c07"
      },
      "outputs": [
        {
          "output_type": "execute_result",
          "data": {
            "text/plain": [
              "F    160\n",
              "M    160\n",
              "S    160\n",
              "Q    160\n",
              "V    160\n",
              "N    160\n",
              "Name: Label, dtype: int64"
            ]
          },
          "metadata": {},
          "execution_count": 15
        }
      ],
      "source": [
        "samples = []\n",
        "for category in dataframe_test['Label'].unique():\n",
        "    category_slice = dataframe_test.query(\"Label == @category\")\n",
        "    samples.append(category_slice.sample(160, random_state=1))\n",
        "\n",
        "dataframe_test = pd.concat(samples, axis=0).sample(frac=1.0, random_state=1).reset_index(drop=True)\n",
        "dataframe_test['Label'].value_counts()"
      ]
    },
    {
      "cell_type": "code",
      "execution_count": 16,
      "metadata": {
        "colab": {
          "base_uri": "https://localhost:8080/",
          "height": 424
        },
        "id": "4TW8gE5mLaZP",
        "outputId": "ee5bd03f-b282-419b-b9f6-89694631e01f"
      },
      "outputs": [
        {
          "output_type": "execute_result",
          "data": {
            "text/plain": [
              "                                      Filepath Label\n",
              "0      /content/ECG_Image_data/test/F/F309.png     F\n",
              "1     /content/ECG_Image_data/test/M/M1867.png     M\n",
              "2     /content/ECG_Image_data/test/S/S1423.png     S\n",
              "3     /content/ECG_Image_data/test/S/S1021.png     S\n",
              "4     /content/ECG_Image_data/test/S/S2257.png     S\n",
              "..                                         ...   ...\n",
              "955  /content/ECG_Image_data/test/N/N26117.png     N\n",
              "956    /content/ECG_Image_data/test/Q/Q119.png     Q\n",
              "957   /content/ECG_Image_data/test/M/M1906.png     M\n",
              "958    /content/ECG_Image_data/test/F/F184.png     F\n",
              "959   /content/ECG_Image_data/test/Q/Q1830.png     Q\n",
              "\n",
              "[960 rows x 2 columns]"
            ],
            "text/html": [
              "\n",
              "  <div id=\"df-f2c9fcc2-a9e9-4d40-ba27-5ee03b5ce41a\">\n",
              "    <div class=\"colab-df-container\">\n",
              "      <div>\n",
              "<style scoped>\n",
              "    .dataframe tbody tr th:only-of-type {\n",
              "        vertical-align: middle;\n",
              "    }\n",
              "\n",
              "    .dataframe tbody tr th {\n",
              "        vertical-align: top;\n",
              "    }\n",
              "\n",
              "    .dataframe thead th {\n",
              "        text-align: right;\n",
              "    }\n",
              "</style>\n",
              "<table border=\"1\" class=\"dataframe\">\n",
              "  <thead>\n",
              "    <tr style=\"text-align: right;\">\n",
              "      <th></th>\n",
              "      <th>Filepath</th>\n",
              "      <th>Label</th>\n",
              "    </tr>\n",
              "  </thead>\n",
              "  <tbody>\n",
              "    <tr>\n",
              "      <th>0</th>\n",
              "      <td>/content/ECG_Image_data/test/F/F309.png</td>\n",
              "      <td>F</td>\n",
              "    </tr>\n",
              "    <tr>\n",
              "      <th>1</th>\n",
              "      <td>/content/ECG_Image_data/test/M/M1867.png</td>\n",
              "      <td>M</td>\n",
              "    </tr>\n",
              "    <tr>\n",
              "      <th>2</th>\n",
              "      <td>/content/ECG_Image_data/test/S/S1423.png</td>\n",
              "      <td>S</td>\n",
              "    </tr>\n",
              "    <tr>\n",
              "      <th>3</th>\n",
              "      <td>/content/ECG_Image_data/test/S/S1021.png</td>\n",
              "      <td>S</td>\n",
              "    </tr>\n",
              "    <tr>\n",
              "      <th>4</th>\n",
              "      <td>/content/ECG_Image_data/test/S/S2257.png</td>\n",
              "      <td>S</td>\n",
              "    </tr>\n",
              "    <tr>\n",
              "      <th>...</th>\n",
              "      <td>...</td>\n",
              "      <td>...</td>\n",
              "    </tr>\n",
              "    <tr>\n",
              "      <th>955</th>\n",
              "      <td>/content/ECG_Image_data/test/N/N26117.png</td>\n",
              "      <td>N</td>\n",
              "    </tr>\n",
              "    <tr>\n",
              "      <th>956</th>\n",
              "      <td>/content/ECG_Image_data/test/Q/Q119.png</td>\n",
              "      <td>Q</td>\n",
              "    </tr>\n",
              "    <tr>\n",
              "      <th>957</th>\n",
              "      <td>/content/ECG_Image_data/test/M/M1906.png</td>\n",
              "      <td>M</td>\n",
              "    </tr>\n",
              "    <tr>\n",
              "      <th>958</th>\n",
              "      <td>/content/ECG_Image_data/test/F/F184.png</td>\n",
              "      <td>F</td>\n",
              "    </tr>\n",
              "    <tr>\n",
              "      <th>959</th>\n",
              "      <td>/content/ECG_Image_data/test/Q/Q1830.png</td>\n",
              "      <td>Q</td>\n",
              "    </tr>\n",
              "  </tbody>\n",
              "</table>\n",
              "<p>960 rows × 2 columns</p>\n",
              "</div>\n",
              "      <button class=\"colab-df-convert\" onclick=\"convertToInteractive('df-f2c9fcc2-a9e9-4d40-ba27-5ee03b5ce41a')\"\n",
              "              title=\"Convert this dataframe to an interactive table.\"\n",
              "              style=\"display:none;\">\n",
              "        \n",
              "  <svg xmlns=\"http://www.w3.org/2000/svg\" height=\"24px\"viewBox=\"0 0 24 24\"\n",
              "       width=\"24px\">\n",
              "    <path d=\"M0 0h24v24H0V0z\" fill=\"none\"/>\n",
              "    <path d=\"M18.56 5.44l.94 2.06.94-2.06 2.06-.94-2.06-.94-.94-2.06-.94 2.06-2.06.94zm-11 1L8.5 8.5l.94-2.06 2.06-.94-2.06-.94L8.5 2.5l-.94 2.06-2.06.94zm10 10l.94 2.06.94-2.06 2.06-.94-2.06-.94-.94-2.06-.94 2.06-2.06.94z\"/><path d=\"M17.41 7.96l-1.37-1.37c-.4-.4-.92-.59-1.43-.59-.52 0-1.04.2-1.43.59L10.3 9.45l-7.72 7.72c-.78.78-.78 2.05 0 2.83L4 21.41c.39.39.9.59 1.41.59.51 0 1.02-.2 1.41-.59l7.78-7.78 2.81-2.81c.8-.78.8-2.07 0-2.86zM5.41 20L4 18.59l7.72-7.72 1.47 1.35L5.41 20z\"/>\n",
              "  </svg>\n",
              "      </button>\n",
              "      \n",
              "  <style>\n",
              "    .colab-df-container {\n",
              "      display:flex;\n",
              "      flex-wrap:wrap;\n",
              "      gap: 12px;\n",
              "    }\n",
              "\n",
              "    .colab-df-convert {\n",
              "      background-color: #E8F0FE;\n",
              "      border: none;\n",
              "      border-radius: 50%;\n",
              "      cursor: pointer;\n",
              "      display: none;\n",
              "      fill: #1967D2;\n",
              "      height: 32px;\n",
              "      padding: 0 0 0 0;\n",
              "      width: 32px;\n",
              "    }\n",
              "\n",
              "    .colab-df-convert:hover {\n",
              "      background-color: #E2EBFA;\n",
              "      box-shadow: 0px 1px 2px rgba(60, 64, 67, 0.3), 0px 1px 3px 1px rgba(60, 64, 67, 0.15);\n",
              "      fill: #174EA6;\n",
              "    }\n",
              "\n",
              "    [theme=dark] .colab-df-convert {\n",
              "      background-color: #3B4455;\n",
              "      fill: #D2E3FC;\n",
              "    }\n",
              "\n",
              "    [theme=dark] .colab-df-convert:hover {\n",
              "      background-color: #434B5C;\n",
              "      box-shadow: 0px 1px 3px 1px rgba(0, 0, 0, 0.15);\n",
              "      filter: drop-shadow(0px 1px 2px rgba(0, 0, 0, 0.3));\n",
              "      fill: #FFFFFF;\n",
              "    }\n",
              "  </style>\n",
              "\n",
              "      <script>\n",
              "        const buttonEl =\n",
              "          document.querySelector('#df-f2c9fcc2-a9e9-4d40-ba27-5ee03b5ce41a button.colab-df-convert');\n",
              "        buttonEl.style.display =\n",
              "          google.colab.kernel.accessAllowed ? 'block' : 'none';\n",
              "\n",
              "        async function convertToInteractive(key) {\n",
              "          const element = document.querySelector('#df-f2c9fcc2-a9e9-4d40-ba27-5ee03b5ce41a');\n",
              "          const dataTable =\n",
              "            await google.colab.kernel.invokeFunction('convertToInteractive',\n",
              "                                                     [key], {});\n",
              "          if (!dataTable) return;\n",
              "\n",
              "          const docLinkHtml = 'Like what you see? Visit the ' +\n",
              "            '<a target=\"_blank\" href=https://colab.research.google.com/notebooks/data_table.ipynb>data table notebook</a>'\n",
              "            + ' to learn more about interactive tables.';\n",
              "          element.innerHTML = '';\n",
              "          dataTable['output_type'] = 'display_data';\n",
              "          await google.colab.output.renderOutput(dataTable, element);\n",
              "          const docLink = document.createElement('div');\n",
              "          docLink.innerHTML = docLinkHtml;\n",
              "          element.appendChild(docLink);\n",
              "        }\n",
              "      </script>\n",
              "    </div>\n",
              "  </div>\n",
              "  "
            ]
          },
          "metadata": {},
          "execution_count": 16
        }
      ],
      "source": [
        "dataframe_test"
      ]
    },
    {
      "cell_type": "code",
      "execution_count": 17,
      "metadata": {
        "colab": {
          "base_uri": "https://localhost:8080/",
          "height": 269
        },
        "id": "3_AcvEhdLaWn",
        "outputId": "90df1a14-3a83-4963-c08e-7b72a218abec"
      },
      "outputs": [
        {
          "output_type": "display_data",
          "data": {
            "text/plain": [
              "<Figure size 432x288 with 1 Axes>"
            ],
            "image/png": "[encoded data removed]"
          },
          "metadata": {
            "needs_background": "light"
          }
        }
      ],
      "source": [
        "from keras.utils import img_to_array,load_img\n",
        "img = load_img(dataframe_test['Filepath'].values[1])\n",
        "plt.imshow(img)\n",
        "plt.axis(\"on\")\n",
        "plt.show()"
      ]
    },
    {
      "cell_type": "code",
      "execution_count": 18,
      "metadata": {
        "colab": {
          "base_uri": "https://localhost:8080/"
        },
        "id": "Y2N-_Z2ELaUZ",
        "outputId": "f3baa57c-caf4-4e62-8e85-3a7f7e37bb02"
      },
      "outputs": [
        {
          "output_type": "stream",
          "name": "stdout",
          "text": [
            "(288, 432, 3)\n"
          ]
        }
      ],
      "source": [
        "array_image = img_to_array(img)\n",
        "print(array_image.shape)"
      ]
    },
    {
      "cell_type": "code",
      "execution_count": 19,
      "metadata": {
        "id": "svsOj-ylLaR8"
      },
      "outputs": [],
      "source": [
        "train_datagen = tf.keras.preprocessing.image.ImageDataGenerator(\n",
        "    preprocessing_function=tf.keras.applications.vgg19.preprocess_input,\n",
        "    rescale=1./255,\n",
        "    validation_split=0.2\n",
        "  \n",
        ")\n",
        "\n",
        "test_datagen = tf.keras.preprocessing.image.ImageDataGenerator(\n",
        "    preprocessing_function=tf.keras.applications.vgg19.preprocess_input,\n",
        "    rescale=1./255\n",
        ")"
      ]
    },
    {
      "cell_type": "code",
      "execution_count": 20,
      "metadata": {
        "colab": {
          "base_uri": "https://localhost:8080/"
        },
        "id": "Oc3lBXSRLaPm",
        "outputId": "e47eba37-377d-4027-d4cf-16c797cc94c1"
      },
      "outputs": [
        {
          "output_type": "stream",
          "name": "stdout",
          "text": [
            "Found 3072 validated image filenames belonging to 6 classes.\n",
            "Found 768 validated image filenames belonging to 6 classes.\n",
            "Found 960 validated image filenames belonging to 6 classes.\n"
          ]
        }
      ],
      "source": [
        "train_generator = train_datagen.flow_from_dataframe(\n",
        "    dataframe=dataframe_train,\n",
        "    x_col='Filepath',\n",
        "    y_col='Label',\n",
        "    target_size=(224, 224),\n",
        "    color_mode='rgb',\n",
        "    class_mode='categorical',\n",
        "    batch_size=32,\n",
        "    shuffle=True,\n",
        "    seed=42,\n",
        "    subset='training'\n",
        ")\n",
        "\n",
        "val_generator = train_datagen.flow_from_dataframe(\n",
        "    dataframe=dataframe_train,\n",
        "    x_col='Filepath',\n",
        "    y_col='Label',\n",
        "    target_size=(224, 224),\n",
        "    color_mode='rgb',\n",
        "    class_mode='categorical',\n",
        "    batch_size=32,\n",
        "    shuffle=True,\n",
        "    seed=42,\n",
        "    subset='validation'\n",
        ")\n",
        "\n",
        "test_generator = test_datagen.flow_from_dataframe(\n",
        "    dataframe=dataframe_test,\n",
        "    x_col='Filepath',\n",
        "    y_col='Label',\n",
        "    target_size=(224, 224),\n",
        "    color_mode='rgb',\n",
        "    class_mode='categorical',\n",
        "    batch_size=32,\n",
        "    shuffle=False\n",
        ")"
      ]
    },
    {
      "cell_type": "code",
      "execution_count": 21,
      "metadata": {
        "colab": {
          "base_uri": "https://localhost:8080/"
        },
        "id": "M0GW4am3LaNF",
        "outputId": "3a0ff787-07f6-492c-fade-0cdfef41c2f8"
      },
      "outputs": [
        {
          "output_type": "execute_result",
          "data": {
            "text/plain": [
              "{'F': 0, 'M': 1, 'N': 2, 'Q': 3, 'S': 4, 'V': 5}"
            ]
          },
          "metadata": {},
          "execution_count": 21
        }
      ],
      "source": [
        "test_generator.class_indices"
      ]
    },
    {
      "cell_type": "code",
      "execution_count": 22,
      "metadata": {
        "colab": {
          "base_uri": "https://localhost:8080/",
          "height": 325
        },
        "id": "34HOAz3kLaKq",
        "outputId": "53b5c112-1ebf-4317-8313-5a57c2c73813"
      },
      "outputs": [
        {
          "output_type": "stream",
          "name": "stderr",
          "text": [
            "WARNING:matplotlib.image:Clipping input data to the valid range for imshow with RGB data ([0..1] for floats or [0..255] for integers).\n"
          ]
        },
        {
          "output_type": "execute_result",
          "data": {
            "text/plain": [
              "<matplotlib.image.AxesImage at 0x7ffae628c550>"
            ]
          },
          "metadata": {},
          "execution_count": 22
        },
        {
          "output_type": "display_data",
          "data": {
            "text/plain": [
              "<Figure size 432x288 with 1 Axes>"
            ],
            "image/png": "[encoded data removed]"
          },
          "metadata": {
            "needs_background": "light"
          }
        }
      ],
      "source": [
        "plt.imshow(test_generator[0][0][3])"
      ]
    },
    {
      "cell_type": "code",
      "source": [
        "folders=glob('/content/ECG_Image_data/test/*')\n",
        "folders"
      ],
      "metadata": {
        "colab": {
          "base_uri": "https://localhost:8080/"
        },
        "id": "SEOU6UJzagIe",
        "outputId": "709f9d55-c1fe-499b-89cb-c5aa4635c479"
      },
      "execution_count": 23,
      "outputs": [
        {
          "output_type": "execute_result",
          "data": {
            "text/plain": [
              "['/content/ECG_Image_data/test/Q',\n",
              " '/content/ECG_Image_data/test/F',\n",
              " '/content/ECG_Image_data/test/S',\n",
              " '/content/ECG_Image_data/test/V',\n",
              " '/content/ECG_Image_data/test/N',\n",
              " '/content/ECG_Image_data/test/M']"
            ]
          },
          "metadata": {},
          "execution_count": 23
        }
      ]
    },
    {
      "cell_type": "code",
      "execution_count": 24,
      "metadata": {
        "colab": {
          "base_uri": "https://localhost:8080/"
        },
        "id": "Ft_oSnbYLaIE",
        "outputId": "bc34128e-49bb-40d7-b437-81b2b87ee72d"
      },
      "outputs": [
        {
          "output_type": "stream",
          "name": "stdout",
          "text": [
            "Downloading data from https://storage.googleapis.com/tensorflow/keras-applications/vgg19/vgg19_weights_tf_dim_ordering_tf_kernels_notop.h5\n",
            "80134624/80134624 [==============================] - 4s 0us/step\n"
          ]
        }
      ],
      "source": [
        "'''pretrained_model = VGG19(\n",
        "                          input_shape=(224,224,3),\n",
        "                          include_top= False,\n",
        "                          weights='imagenet',\n",
        "                          pooling='avg'\n",
        "                          )\n",
        "\n",
        "pretrained_model.trainable = False'''\n",
        "IMAGE_SIZE = [224, 224]\n",
        "vgg = VGG19(input_shape=IMAGE_SIZE + [3], weights='imagenet', include_top=False)"
      ]
    },
    {
      "cell_type": "code",
      "source": [
        "for layer in vgg.layers:\n",
        "  layer.trainable = False"
      ],
      "metadata": {
        "id": "4t6_xn21abS3"
      },
      "execution_count": 25,
      "outputs": []
    },
    {
      "cell_type": "code",
      "source": [
        "x2 = Flatten()(vgg.output)"
      ],
      "metadata": {
        "id": "UOQ_n9zBabMJ"
      },
      "execution_count": 26,
      "outputs": []
    },
    {
      "cell_type": "code",
      "source": [
        "prediction2 = Dense(len(folders), activation='softmax')(x2)"
      ],
      "metadata": {
        "id": "93FYWrjSai4L"
      },
      "execution_count": 27,
      "outputs": []
    },
    {
      "cell_type": "code",
      "execution_count": 28,
      "metadata": {
        "colab": {
          "base_uri": "https://localhost:8080/"
        },
        "id": "aQqjNrXyMbxM",
        "outputId": "739ee8b0-9f06-4c32-8f77-41c180c79c81"
      },
      "outputs": [
        {
          "output_type": "stream",
          "name": "stdout",
          "text": [
            "Model: \"model\"\n",
            "_________________________________________________________________\n",
            " Layer (type)                Output Shape              Param #   \n",
            "=================================================================\n",
            " input_1 (InputLayer)        [(None, 224, 224, 3)]     0         \n",
            "                                                                 \n",
            " block1_conv1 (Conv2D)       (None, 224, 224, 64)      1792      \n",
            "                                                                 \n",
            " block1_conv2 (Conv2D)       (None, 224, 224, 64)      36928     \n",
            "                                                                 \n",
            " block1_pool (MaxPooling2D)  (None, 112, 112, 64)      0         \n",
            "                                                                 \n",
            " block2_conv1 (Conv2D)       (None, 112, 112, 128)     73856     \n",
            "                                                                 \n",
            " block2_conv2 (Conv2D)       (None, 112, 112, 128)     147584    \n",
            "                                                                 \n",
            " block2_pool (MaxPooling2D)  (None, 56, 56, 128)       0         \n",
            "                                                                 \n",
            " block3_conv1 (Conv2D)       (None, 56, 56, 256)       295168    \n",
            "                                                                 \n",
            " block3_conv2 (Conv2D)       (None, 56, 56, 256)       590080    \n",
            "                                                                 \n",
            " block3_conv3 (Conv2D)       (None, 56, 56, 256)       590080    \n",
            "                                                                 \n",
            " block3_conv4 (Conv2D)       (None, 56, 56, 256)       590080    \n",
            "                                                                 \n",
            " block3_pool (MaxPooling2D)  (None, 28, 28, 256)       0         \n",
            "                                                                 \n",
            " block4_conv1 (Conv2D)       (None, 28, 28, 512)       1180160   \n",
            "                                                                 \n",
            " block4_conv2 (Conv2D)       (None, 28, 28, 512)       2359808   \n",
            "                                                                 \n",
            " block4_conv3 (Conv2D)       (None, 28, 28, 512)       2359808   \n",
            "                                                                 \n",
            " block4_conv4 (Conv2D)       (None, 28, 28, 512)       2359808   \n",
            "                                                                 \n",
            " block4_pool (MaxPooling2D)  (None, 14, 14, 512)       0         \n",
            "                                                                 \n",
            " block5_conv1 (Conv2D)       (None, 14, 14, 512)       2359808   \n",
            "                                                                 \n",
            " block5_conv2 (Conv2D)       (None, 14, 14, 512)       2359808   \n",
            "                                                                 \n",
            " block5_conv3 (Conv2D)       (None, 14, 14, 512)       2359808   \n",
            "                                                                 \n",
            " block5_conv4 (Conv2D)       (None, 14, 14, 512)       2359808   \n",
            "                                                                 \n",
            " block5_pool (MaxPooling2D)  (None, 7, 7, 512)         0         \n",
            "                                                                 \n",
            " flatten (Flatten)           (None, 25088)             0         \n",
            "                                                                 \n",
            " dense (Dense)               (None, 6)                 150534    \n",
            "                                                                 \n",
            "=================================================================\n",
            "Total params: 20,174,918\n",
            "Trainable params: 150,534\n",
            "Non-trainable params: 20,024,384\n",
            "_________________________________________________________________\n"
          ]
        }
      ],
      "source": [
        "'''from tensorflow.keras.layers import *\n",
        "from tensorflow.keras.models import *\n",
        "\n",
        "model = Sequential ([\n",
        "                        pretrained_model,\n",
        "                        Flatten(),\n",
        "                        Dropout(0.2),\n",
        "                        Dense(128, activation='relu'),\n",
        "                        Dense(64, activation='relu'),\n",
        "                        Dense(6, activation='softmax')\n",
        "                    ])\n",
        "\n",
        "\n",
        "model.summary()'''\n",
        "vgg_model = Model(inputs=vgg.input, outputs=prediction2)\n",
        "\n",
        "vgg_model.summary()"
      ]
    },
    {
      "cell_type": "code",
      "execution_count": 29,
      "metadata": {
        "id": "LO4qjLk4MbuI"
      },
      "outputs": [],
      "source": [
        "import keras\n",
        "checkpoint = keras.callbacks.ModelCheckpoint(\n",
        "    filepath='best_model.h5',\n",
        "    save_weights_only=False,\n",
        "    monitor='val_accuracy',\n",
        "    mode='max',\n",
        "    save_best_only=True,\n",
        "    verbose=1)"
      ]
    },
    {
      "cell_type": "code",
      "execution_count": 30,
      "metadata": {
        "id": "EvcTF7iQMbr3"
      },
      "outputs": [],
      "source": [
        "vgg_model.compile(\n",
        "    optimizer='adam',\n",
        "    loss='categorical_crossentropy',\n",
        "    metrics=['accuracy']\n",
        ")"
      ]
    },
    {
      "cell_type": "code",
      "execution_count": 31,
      "metadata": {
        "colab": {
          "base_uri": "https://localhost:8080/"
        },
        "id": "jEcJloiRMbpc",
        "outputId": "89dd7b80-46b9-4763-f984-462f5254f940"
      },
      "outputs": [
        {
          "output_type": "stream",
          "name": "stdout",
          "text": [
            "Epoch 1/30\n",
            "96/96 [==============================] - ETA: 0s - loss: 0.5118 - accuracy: 0.8659\n",
            "Epoch 1: val_accuracy improved from -inf to 0.99349, saving model to best_model.h5\n",
            "96/96 [==============================] - 32s 216ms/step - loss: 0.5118 - accuracy: 0.8659 - val_loss: 0.0572 - val_accuracy: 0.9935\n",
            "Epoch 2/30\n",
            "96/96 [==============================] - ETA: 0s - loss: 0.0350 - accuracy: 0.9984\n",
            "Epoch 2: val_accuracy improved from 0.99349 to 0.99870, saving model to best_model.h5\n",
            "96/96 [==============================] - 21s 217ms/step - loss: 0.0350 - accuracy: 0.9984 - val_loss: 0.0280 - val_accuracy: 0.9987\n",
            "Epoch 3/30\n",
            "96/96 [==============================] - ETA: 0s - loss: 0.0180 - accuracy: 0.9993\n",
            "Epoch 3: val_accuracy did not improve from 0.99870\n",
            "96/96 [==============================] - 21s 218ms/step - loss: 0.0180 - accuracy: 0.9993 - val_loss: 0.0179 - val_accuracy: 0.9987\n",
            "Epoch 4/30\n",
            "96/96 [==============================] - ETA: 0s - loss: 0.0105 - accuracy: 1.0000\n",
            "Epoch 4: val_accuracy improved from 0.99870 to 1.00000, saving model to best_model.h5\n",
            "96/96 [==============================] - 24s 250ms/step - loss: 0.0105 - accuracy: 1.0000 - val_loss: 0.0127 - val_accuracy: 1.0000\n",
            "Epoch 5/30\n",
            "96/96 [==============================] - ETA: 0s - loss: 0.0071 - accuracy: 1.0000\n",
            "Epoch 5: val_accuracy did not improve from 1.00000\n",
            "96/96 [==============================] - 22s 226ms/step - loss: 0.0071 - accuracy: 1.0000 - val_loss: 0.0105 - val_accuracy: 1.0000\n",
            "Epoch 6/30\n",
            "96/96 [==============================] - ETA: 0s - loss: 0.0052 - accuracy: 1.0000\n",
            "Epoch 6: val_accuracy did not improve from 1.00000\n",
            "96/96 [==============================] - 21s 222ms/step - loss: 0.0052 - accuracy: 1.0000 - val_loss: 0.0083 - val_accuracy: 1.0000\n",
            "Epoch 7/30\n",
            "96/96 [==============================] - ETA: 0s - loss: 0.0041 - accuracy: 1.0000\n",
            "Epoch 7: val_accuracy did not improve from 1.00000\n",
            "96/96 [==============================] - 21s 220ms/step - loss: 0.0041 - accuracy: 1.0000 - val_loss: 0.0074 - val_accuracy: 1.0000\n",
            "Epoch 8/30\n",
            "96/96 [==============================] - ETA: 0s - loss: 0.0033 - accuracy: 1.0000\n",
            "Epoch 8: val_accuracy did not improve from 1.00000\n",
            "96/96 [==============================] - 22s 228ms/step - loss: 0.0033 - accuracy: 1.0000 - val_loss: 0.0066 - val_accuracy: 1.0000\n",
            "Epoch 9/30\n",
            "96/96 [==============================] - ETA: 0s - loss: 0.0027 - accuracy: 1.0000\n",
            "Epoch 9: val_accuracy did not improve from 1.00000\n",
            "96/96 [==============================] - 21s 223ms/step - loss: 0.0027 - accuracy: 1.0000 - val_loss: 0.0053 - val_accuracy: 1.0000\n",
            "Epoch 10/30\n",
            "96/96 [==============================] - ETA: 0s - loss: 0.0023 - accuracy: 1.0000\n",
            "Epoch 10: val_accuracy did not improve from 1.00000\n",
            "96/96 [==============================] - 21s 222ms/step - loss: 0.0023 - accuracy: 1.0000 - val_loss: 0.0058 - val_accuracy: 1.0000\n",
            "Epoch 11/30\n",
            "96/96 [==============================] - ETA: 0s - loss: 0.0020 - accuracy: 1.0000\n",
            "Epoch 11: val_accuracy did not improve from 1.00000\n",
            "96/96 [==============================] - 22s 228ms/step - loss: 0.0020 - accuracy: 1.0000 - val_loss: 0.0046 - val_accuracy: 1.0000\n",
            "Epoch 12/30\n",
            "96/96 [==============================] - ETA: 0s - loss: 0.0017 - accuracy: 1.0000\n",
            "Epoch 12: val_accuracy did not improve from 1.00000\n",
            "96/96 [==============================] - 21s 223ms/step - loss: 0.0017 - accuracy: 1.0000 - val_loss: 0.0041 - val_accuracy: 1.0000\n",
            "Epoch 13/30\n",
            "96/96 [==============================] - ETA: 0s - loss: 0.0015 - accuracy: 1.0000\n",
            "Epoch 13: val_accuracy did not improve from 1.00000\n",
            "96/96 [==============================] - 21s 220ms/step - loss: 0.0015 - accuracy: 1.0000 - val_loss: 0.0037 - val_accuracy: 1.0000\n",
            "Epoch 14/30\n",
            "96/96 [==============================] - ETA: 0s - loss: 0.0013 - accuracy: 1.0000\n",
            "Epoch 14: val_accuracy did not improve from 1.00000\n",
            "96/96 [==============================] - 21s 221ms/step - loss: 0.0013 - accuracy: 1.0000 - val_loss: 0.0035 - val_accuracy: 1.0000\n",
            "Epoch 15/30\n",
            "96/96 [==============================] - ETA: 0s - loss: 0.0012 - accuracy: 1.0000\n",
            "Epoch 15: val_accuracy did not improve from 1.00000\n",
            "96/96 [==============================] - 22s 224ms/step - loss: 0.0012 - accuracy: 1.0000 - val_loss: 0.0032 - val_accuracy: 1.0000\n",
            "Epoch 16/30\n",
            "96/96 [==============================] - ETA: 0s - loss: 0.0011 - accuracy: 1.0000\n",
            "Epoch 16: val_accuracy did not improve from 1.00000\n",
            "96/96 [==============================] - 21s 223ms/step - loss: 0.0011 - accuracy: 1.0000 - val_loss: 0.0031 - val_accuracy: 1.0000\n",
            "Epoch 17/30\n",
            "96/96 [==============================] - ETA: 0s - loss: 9.3125e-04 - accuracy: 1.0000\n",
            "Epoch 17: val_accuracy did not improve from 1.00000\n",
            "96/96 [==============================] - 21s 221ms/step - loss: 9.3125e-04 - accuracy: 1.0000 - val_loss: 0.0030 - val_accuracy: 1.0000\n",
            "Epoch 18/30\n",
            "96/96 [==============================] - ETA: 0s - loss: 8.4547e-04 - accuracy: 1.0000\n",
            "Epoch 18: val_accuracy did not improve from 1.00000\n",
            "96/96 [==============================] - 21s 222ms/step - loss: 8.4547e-04 - accuracy: 1.0000 - val_loss: 0.0028 - val_accuracy: 1.0000\n",
            "Epoch 19/30\n",
            "96/96 [==============================] - ETA: 0s - loss: 7.5978e-04 - accuracy: 1.0000\n",
            "Epoch 19: val_accuracy did not improve from 1.00000\n",
            "96/96 [==============================] - 21s 223ms/step - loss: 7.5978e-04 - accuracy: 1.0000 - val_loss: 0.0025 - val_accuracy: 1.0000\n",
            "Epoch 20/30\n",
            "96/96 [==============================] - ETA: 0s - loss: 6.9996e-04 - accuracy: 1.0000\n",
            "Epoch 20: val_accuracy did not improve from 1.00000\n",
            "96/96 [==============================] - 21s 222ms/step - loss: 6.9996e-04 - accuracy: 1.0000 - val_loss: 0.0025 - val_accuracy: 1.0000\n",
            "Epoch 21/30\n",
            "96/96 [==============================] - ETA: 0s - loss: 6.3904e-04 - accuracy: 1.0000\n",
            "Epoch 21: val_accuracy did not improve from 1.00000\n",
            "96/96 [==============================] - 21s 221ms/step - loss: 6.3904e-04 - accuracy: 1.0000 - val_loss: 0.0026 - val_accuracy: 1.0000\n",
            "Epoch 22/30\n",
            "96/96 [==============================] - ETA: 0s - loss: 5.9023e-04 - accuracy: 1.0000\n",
            "Epoch 22: val_accuracy did not improve from 1.00000\n",
            "96/96 [==============================] - 21s 222ms/step - loss: 5.9023e-04 - accuracy: 1.0000 - val_loss: 0.0022 - val_accuracy: 1.0000\n",
            "Epoch 23/30\n",
            "96/96 [==============================] - ETA: 0s - loss: 5.4182e-04 - accuracy: 1.0000\n",
            "Epoch 23: val_accuracy did not improve from 1.00000\n",
            "96/96 [==============================] - 21s 222ms/step - loss: 5.4182e-04 - accuracy: 1.0000 - val_loss: 0.0020 - val_accuracy: 1.0000\n",
            "Epoch 24/30\n",
            "96/96 [==============================] - ETA: 0s - loss: 5.0116e-04 - accuracy: 1.0000\n",
            "Epoch 24: val_accuracy did not improve from 1.00000\n",
            "96/96 [==============================] - 21s 222ms/step - loss: 5.0116e-04 - accuracy: 1.0000 - val_loss: 0.0020 - val_accuracy: 1.0000\n",
            "Epoch 25/30\n",
            "96/96 [==============================] - ETA: 0s - loss: 4.6497e-04 - accuracy: 1.0000\n",
            "Epoch 25: val_accuracy did not improve from 1.00000\n",
            "96/96 [==============================] - 21s 222ms/step - loss: 4.6497e-04 - accuracy: 1.0000 - val_loss: 0.0019 - val_accuracy: 1.0000\n",
            "Epoch 26/30\n",
            "96/96 [==============================] - ETA: 0s - loss: 4.2007e-04 - accuracy: 1.0000\n",
            "Epoch 26: val_accuracy did not improve from 1.00000\n",
            "96/96 [==============================] - 21s 222ms/step - loss: 4.2007e-04 - accuracy: 1.0000 - val_loss: 0.0018 - val_accuracy: 1.0000\n",
            "Epoch 27/30\n",
            "96/96 [==============================] - ETA: 0s - loss: 3.9577e-04 - accuracy: 1.0000\n",
            "Epoch 27: val_accuracy did not improve from 1.00000\n",
            "96/96 [==============================] - 21s 222ms/step - loss: 3.9577e-04 - accuracy: 1.0000 - val_loss: 0.0018 - val_accuracy: 1.0000\n",
            "Epoch 28/30\n",
            "96/96 [==============================] - ETA: 0s - loss: 3.6590e-04 - accuracy: 1.0000\n",
            "Epoch 28: val_accuracy did not improve from 1.00000\n",
            "96/96 [==============================] - 21s 223ms/step - loss: 3.6590e-04 - accuracy: 1.0000 - val_loss: 0.0017 - val_accuracy: 1.0000\n",
            "Epoch 29/30\n",
            "96/96 [==============================] - ETA: 0s - loss: 3.4119e-04 - accuracy: 1.0000\n",
            "Epoch 29: val_accuracy did not improve from 1.00000\n",
            "96/96 [==============================] - 22s 228ms/step - loss: 3.4119e-04 - accuracy: 1.0000 - val_loss: 0.0016 - val_accuracy: 1.0000\n",
            "Epoch 30/30\n",
            "96/96 [==============================] - ETA: 0s - loss: 3.1627e-04 - accuracy: 1.0000\n",
            "Epoch 30: val_accuracy did not improve from 1.00000\n",
            "96/96 [==============================] - 22s 224ms/step - loss: 3.1627e-04 - accuracy: 1.0000 - val_loss: 0.0017 - val_accuracy: 1.0000\n"
          ]
        }
      ],
      "source": [
        "result=vgg_model.fit(\n",
        "    train_generator,\n",
        "    validation_data=val_generator,\n",
        "    epochs=30,\n",
        "    callbacks=[checkpoint]\n",
        ")"
      ]
    },
    {
      "cell_type": "code",
      "execution_count": 32,
      "metadata": {
        "id": "DDZlYJpWRlYC",
        "colab": {
          "base_uri": "https://localhost:8080/"
        },
        "outputId": "6968b155-1b41-4084-a443-a34707afe8d4"
      },
      "outputs": [
        {
          "output_type": "stream",
          "name": "stdout",
          "text": [
            "    Test Loss: 0.00128\n",
            "Test Accuracy: 100.00%\n"
          ]
        }
      ],
      "source": [
        "results1 = vgg_model.evaluate(test_generator, verbose=0)\n",
        "\n",
        "print(\"    Test Loss: {:.5f}\".format(results1[0]))\n",
        "print(\"Test Accuracy: {:.2f}%\".format(results1[1] * 100))"
      ]
    },
    {
      "cell_type": "code",
      "execution_count": 33,
      "metadata": {
        "id": "NJI3ToU4Mbm7",
        "colab": {
          "base_uri": "https://localhost:8080/"
        },
        "outputId": "991c7dbc-da04-4840-f77e-a3b34f29cabb"
      },
      "outputs": [
        {
          "output_type": "stream",
          "name": "stdout",
          "text": [
            "    Test Loss: 0.01261\n",
            "Test Accuracy: 100.00%\n"
          ]
        }
      ],
      "source": [
        "from keras.models import load_model\n",
        "best_model=load_model('/content/best_model.h5')\n",
        "results = best_model.evaluate(test_generator, verbose=0)\n",
        "\n",
        "print(\"    Test Loss: {:.5f}\".format(results[0]))\n",
        "print(\"Test Accuracy: {:.2f}%\".format(results[1] * 100))"
      ]
    },
    {
      "cell_type": "code",
      "execution_count": 34,
      "metadata": {
        "id": "n7WSwEvyMbkX",
        "colab": {
          "base_uri": "https://localhost:8080/",
          "height": 313
        },
        "outputId": "317a163a-f642-4d11-860c-0379c6c62eb0"
      },
      "outputs": [
        {
          "output_type": "execute_result",
          "data": {
            "text/plain": [
              "Text(0, 0.5, 'loss')"
            ]
          },
          "metadata": {},
          "execution_count": 34
        },
        {
          "output_type": "display_data",
          "data": {
            "text/plain": [
              "<Figure size 432x288 with 1 Axes>"
            ],
            "image/png": "[encoded data removed]"
          },
          "metadata": {
            "needs_background": "light"
          }
        }
      ],
      "source": [
        "import matplotlib.pyplot as plt\n",
        "\n",
        "plt.plot(result.history['loss'])\n",
        "plt.plot(result.history['val_loss'])\n",
        "plt.legend(['Training', 'Validation'])\n",
        "plt.title('Training and Validation losses')\n",
        "plt.xlabel('epoch')\n",
        "plt.ylabel('loss')"
      ]
    },
    {
      "cell_type": "code",
      "execution_count": 35,
      "metadata": {
        "id": "9FGSlgn1QJdW",
        "colab": {
          "base_uri": "https://localhost:8080/",
          "height": 313
        },
        "outputId": "635c834a-05d0-4698-dc79-64341bffe379"
      },
      "outputs": [
        {
          "output_type": "execute_result",
          "data": {
            "text/plain": [
              "Text(0, 0.5, 'accuracy')"
            ]
          },
          "metadata": {},
          "execution_count": 35
        },
        {
          "output_type": "display_data",
          "data": {
            "text/plain": [
              "<Figure size 432x288 with 1 Axes>"
            ],
            "image/png": "[encoded data removed]"
          },
          "metadata": {
            "needs_background": "light"
          }
        }
      ],
      "source": [
        "plt.plot(result.history['accuracy'])\n",
        "plt.plot(result.history['val_accuracy'])\n",
        "plt.legend(['Training', 'Validation'])\n",
        "plt.title('Training and Validation accuracy')\n",
        "plt.xlabel('epoch')\n",
        "plt.ylabel('accuracy')"
      ]
    },
    {
      "cell_type": "code",
      "execution_count": 36,
      "metadata": {
        "id": "n2BmZ8m_QJaC",
        "colab": {
          "base_uri": "https://localhost:8080/"
        },
        "outputId": "73b14ecb-a805-4c98-93f4-7cd459769e17"
      },
      "outputs": [
        {
          "output_type": "stream",
          "name": "stdout",
          "text": [
            "30/30 [==============================] - 5s 171ms/step\n"
          ]
        },
        {
          "output_type": "execute_result",
          "data": {
            "text/plain": [
              "array([[9.9973780e-01, 1.3570011e-05, 1.3159425e-04, 1.2915179e-06,\n",
              "        5.6390454e-05, 5.9297890e-05],\n",
              "       [1.4313331e-04, 9.9863631e-01, 1.0068761e-03, 3.5367015e-05,\n",
              "        1.6850387e-04, 9.7785232e-06],\n",
              "       [1.1900670e-05, 2.6908201e-06, 3.3593631e-05, 6.5520862e-06,\n",
              "        9.9994278e-01, 2.5498730e-06],\n",
              "       ...,\n",
              "       [9.1809336e-05, 9.9865037e-01, 8.5494062e-04, 8.8062690e-05,\n",
              "        2.4749120e-04, 6.7389155e-05],\n",
              "       [7.0222867e-01, 5.4678195e-03, 2.8599086e-01, 3.2059327e-04,\n",
              "        5.1258244e-03, 8.6622371e-04],\n",
              "       [1.2293202e-06, 5.8674104e-06, 4.8203634e-05, 9.9953246e-01,\n",
              "        2.2919214e-05, 3.8921586e-04]], dtype=float32)"
            ]
          },
          "metadata": {},
          "execution_count": 36
        }
      ],
      "source": [
        "y_pred = best_model.predict(test_generator)\n",
        "y_pred"
      ]
    },
    {
      "cell_type": "code",
      "execution_count": 37,
      "metadata": {
        "id": "7Da6_MwXQJXf",
        "colab": {
          "base_uri": "https://localhost:8080/"
        },
        "outputId": "1a6901c1-4c95-4fe2-bd2b-a54f6157d325"
      },
      "outputs": [
        {
          "output_type": "execute_result",
          "data": {
            "text/plain": [
              "array([0, 1, 4, 4, 4, 0, 1, 0, 3, 3, 5, 4, 0, 3, 2, 2, 3, 2, 5, 3, 0, 4,\n",
              "       2, 3, 2, 2, 0, 4, 3, 5, 4, 0, 3, 4, 3, 4, 0, 5, 0, 5, 1, 5, 0, 4,\n",
              "       0, 2, 0, 2, 0, 1, 3, 3, 1, 4, 4, 1, 1, 1, 2, 1, 4, 5, 3, 5, 4, 1,\n",
              "       5, 4, 0, 5, 0, 5, 5, 5, 5, 4, 1, 3, 1, 3, 1, 1, 2, 4, 3, 5, 3, 2,\n",
              "       5, 5, 2, 5, 1, 0, 2, 3, 2, 0, 2, 3, 5, 3, 2, 5, 2, 2, 0, 1, 0, 2,\n",
              "       3, 2, 2, 5, 3, 3, 3, 4, 4, 4, 1, 3, 2, 1, 0, 4, 2, 0, 0, 5, 2, 5,\n",
              "       3, 2, 3, 1, 4, 4, 3, 1, 0, 3, 0, 4, 1, 1, 2, 4, 3, 0, 5, 4, 2, 2,\n",
              "       0, 3, 0, 4, 5, 4, 4, 5, 5, 4, 2, 0, 2, 1, 4, 1, 5, 2, 0, 0, 1, 5,\n",
              "       3, 5, 5, 3, 5, 1, 0, 4, 2, 0, 2, 0, 2, 3, 0, 2, 4, 2, 0, 2, 1, 1,\n",
              "       5, 0, 5, 5, 5, 1, 0, 3, 1, 3, 2, 1, 1, 4, 1, 2, 3, 2, 0, 1, 5, 1,\n",
              "       5, 1, 4, 3, 0, 3, 1, 5, 3, 2, 0, 3, 2, 1, 5, 3, 5, 5, 2, 0, 4, 3,\n",
              "       2, 2, 5, 5, 1, 4, 3, 4, 3, 2, 3, 4, 2, 2, 4, 4, 1, 1, 2, 1, 3, 0,\n",
              "       5, 0, 4, 3, 5, 5, 0, 5, 4, 5, 1, 3, 1, 0, 2, 5, 2, 2, 1, 1, 3, 4,\n",
              "       4, 3, 1, 5, 2, 4, 0, 3, 0, 1, 0, 1, 5, 3, 4, 3, 1, 2, 5, 2, 5, 0,\n",
              "       2, 2, 0, 0, 0, 2, 5, 1, 5, 1, 5, 0, 5, 0, 0, 3, 3, 1, 3, 1, 4, 3,\n",
              "       5, 5, 3, 0, 0, 1, 1, 3, 3, 0, 1, 3, 5, 1, 3, 2, 3, 4, 1, 5, 1, 1,\n",
              "       4, 1, 5, 3, 3, 4, 2, 2, 3, 0, 0, 5, 3, 2, 1, 3, 4, 4, 2, 5, 2, 3,\n",
              "       0, 4, 2, 1, 3, 0, 0, 2, 4, 2, 1, 2, 5, 0, 1, 5, 0, 0, 3, 4, 1, 1,\n",
              "       0, 4, 1, 5, 3, 5, 2, 3, 1, 5, 4, 2, 4, 3, 3, 0, 2, 0, 2, 2, 3, 1,\n",
              "       2, 2, 1, 4, 4, 4, 2, 3, 3, 2, 5, 3, 2, 3, 0, 1, 1, 2, 2, 4, 3, 4,\n",
              "       5, 5, 4, 0, 0, 3, 0, 4, 4, 0, 0, 4, 3, 2, 1, 3, 2, 0, 3, 5, 4, 4,\n",
              "       0, 2, 1, 3, 0, 2, 4, 2, 5, 0, 1, 3, 5, 4, 3, 4, 1, 4, 5, 5, 0, 3,\n",
              "       3, 3, 3, 3, 5, 4, 2, 4, 4, 0, 2, 3, 2, 2, 0, 4, 2, 1, 5, 5, 3, 4,\n",
              "       5, 4, 5, 2, 5, 1, 4, 2, 4, 1, 0, 4, 3, 4, 5, 4, 0, 3, 2, 5, 5, 1,\n",
              "       2, 1, 2, 1, 2, 5, 4, 0, 1, 5, 4, 5, 2, 5, 3, 3, 4, 0, 4, 2, 2, 5,\n",
              "       2, 5, 0, 5, 4, 0, 4, 3, 1, 1, 5, 5, 0, 4, 5, 2, 1, 0, 3, 0, 0, 1,\n",
              "       4, 5, 4, 2, 5, 3, 0, 4, 4, 2, 3, 3, 1, 3, 3, 3, 4, 4, 4, 5, 4, 1,\n",
              "       0, 1, 2, 4, 1, 0, 1, 1, 1, 3, 2, 0, 3, 5, 1, 1, 1, 2, 3, 1, 3, 1,\n",
              "       5, 5, 0, 5, 4, 0, 4, 2, 2, 5, 4, 1, 4, 0, 4, 5, 1, 4, 2, 3, 1, 5,\n",
              "       2, 2, 4, 3, 5, 1, 1, 1, 0, 4, 3, 4, 0, 5, 0, 4, 2, 3, 3, 3, 5, 0,\n",
              "       1, 4, 0, 0, 5, 0, 2, 0, 0, 1, 4, 4, 2, 1, 4, 0, 0, 3, 0, 5, 0, 4,\n",
              "       2, 2, 1, 1, 5, 3, 1, 2, 1, 1, 0, 2, 3, 0, 4, 1, 3, 4, 1, 1, 2, 0,\n",
              "       5, 4, 2, 0, 3, 3, 3, 0, 5, 0, 5, 1, 5, 5, 3, 5, 3, 3, 4, 0, 3, 0,\n",
              "       2, 3, 1, 1, 1, 3, 1, 1, 2, 5, 4, 5, 3, 4, 4, 1, 4, 4, 2, 0, 2, 5,\n",
              "       4, 4, 1, 0, 1, 2, 0, 1, 0, 3, 4, 4, 0, 4, 3, 5, 2, 2, 2, 5, 0, 1,\n",
              "       1, 1, 5, 2, 0, 4, 2, 5, 0, 0, 1, 1, 2, 5, 5, 5, 0, 5, 3, 0, 4, 1,\n",
              "       5, 0, 4, 2, 0, 4, 1, 2, 0, 5, 2, 5, 3, 4, 1, 5, 5, 5, 0, 3, 4, 2,\n",
              "       4, 2, 3, 1, 3, 0, 3, 0, 1, 2, 5, 1, 2, 5, 1, 5, 1, 4, 3, 2, 3, 0,\n",
              "       1, 3, 1, 5, 1, 4, 5, 2, 4, 0, 2, 1, 4, 4, 2, 3, 1, 0, 0, 5, 4, 0,\n",
              "       2, 3, 2, 2, 1, 2, 4, 0, 2, 0, 5, 1, 3, 4, 4, 0, 3, 2, 2, 3, 5, 2,\n",
              "       0, 4, 2, 4, 3, 0, 3, 3, 4, 0, 1, 5, 4, 1, 3, 5, 3, 5, 2, 5, 1, 5,\n",
              "       4, 4, 3, 5, 4, 5, 4, 5, 2, 2, 0, 0, 0, 1, 5, 0, 5, 1, 0, 3, 4, 3,\n",
              "       3, 1, 4, 5, 2, 0, 5, 5, 4, 1, 2, 5, 0, 1, 4, 1, 4, 0, 0, 0, 0, 4,\n",
              "       5, 2, 5, 3, 3, 1, 2, 2, 1, 2, 3, 1, 0, 3])"
            ]
          },
          "metadata": {},
          "execution_count": 37
        }
      ],
      "source": [
        "y_pred = np.argmax(y_pred, axis=1)\n",
        "y_pred"
      ]
    },
    {
      "cell_type": "code",
      "execution_count": 38,
      "metadata": {
        "id": "6KTM-eeGQJUv",
        "colab": {
          "base_uri": "https://localhost:8080/"
        },
        "outputId": "8a1bbb91-f6ae-4fce-a48d-b6e6e82ed850"
      },
      "outputs": [
        {
          "output_type": "stream",
          "name": "stdout",
          "text": [
            "[[160   0   0   0   0   0]\n",
            " [  0 160   0   0   0   0]\n",
            " [  0   0 160   0   0   0]\n",
            " [  0   0   0 160   0   0]\n",
            " [  0   0   0   0 160   0]\n",
            " [  0   0   0   0   0 160]]\n",
            "classification report\n",
            "              precision    recall  f1-score   support\n",
            "\n",
            "           0       1.00      1.00      1.00       160\n",
            "           1       1.00      1.00      1.00       160\n",
            "           2       1.00      1.00      1.00       160\n",
            "           3       1.00      1.00      1.00       160\n",
            "           4       1.00      1.00      1.00       160\n",
            "           5       1.00      1.00      1.00       160\n",
            "\n",
            "    accuracy                           1.00       960\n",
            "   macro avg       1.00      1.00      1.00       960\n",
            "weighted avg       1.00      1.00      1.00       960\n",
            "\n"
          ]
        }
      ],
      "source": [
        "from sklearn.metrics import confusion_matrix, classification_report\n",
        "\n",
        "\n",
        "cm = confusion_matrix(test_generator.labels, y_pred)\n",
        "print(cm)\n",
        "print('classification report')\n",
        "print( classification_report(test_generator.labels, y_pred))"
      ]
    },
    {
      "cell_type": "code",
      "execution_count": 39,
      "metadata": {
        "id": "CzgMXUVRQSLO",
        "colab": {
          "base_uri": "https://localhost:8080/",
          "height": 513
        },
        "outputId": "a204b1ca-b237-4d52-d3ad-bd90dc52e883"
      },
      "outputs": [
        {
          "output_type": "display_data",
          "data": {
            "text/plain": [
              "<Figure size 576x576 with 2 Axes>"
            ],
            "image/png": "[encoded data removed]"
          },
          "metadata": {
            "needs_background": "light"
          }
        }
      ],
      "source": [
        "import seaborn as sns\n",
        "f,ax = plt.subplots(figsize=(8, 8))\n",
        "sns.heatmap(cm, annot=True, linewidths=0.01,cmap=\"Oranges\",linecolor=\"gray\", fmt= '.1f',ax=ax)\n",
        "plt.xlabel(\"Predicted Label\")\n",
        "plt.ylabel(\"True Label\")\n",
        "plt.title(\"Confusion Matrix\")\n",
        "plt.show()"
      ]
    },
    {
      "cell_type": "code",
      "execution_count": 38,
      "metadata": {
        "id": "EnmKRQtoQSID"
      },
      "outputs": [],
      "source": []
    }
  ],
  "metadata": {
    "accelerator": "GPU",
    "colab": {
      "provenance": [],
      "authorship_tag": "ABX9TyOOHJ4CeBk7EzwQ/X7BA4eB",
      "include_colab_link": true
    },
    "gpuClass": "standard",
    "kernelspec": {
      "display_name": "Python 3",
      "name": "python3"
    },
    "language_info": {
      "name": "python"
    }
  },
  "nbformat": 4,
  "nbformat_minor": 0
}
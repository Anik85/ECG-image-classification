{
  "cells": [
    {
      "cell_type": "markdown",
      "metadata": {
        "id": "view-in-github",
        "colab_type": "text"
      },
      "source": [
        "<a href=\"https://colab.research.google.com/github/Anik85/Anik85/blob/main/vgg19_model.ipynb\" target=\"_parent\"><img src=\"https://colab.research.google.com/assets/colab-badge.svg\" alt=\"Open In Colab\"/></a>"
      ]
    },
    {
      "cell_type": "code",
      "execution_count": 1,
      "metadata": {
        "id": "YBQgaLoMLPOq"
      },
      "outputs": [],
      "source": [
        "!mkdir -p ~/.kaggle\n",
        "!cp kaggle.json ~/.kaggle/"
      ]
    },
    {
      "cell_type": "code",
      "execution_count": 2,
      "metadata": {
        "colab": {
          "base_uri": "https://localhost:8080/"
        },
        "id": "qzQoEuMDLaza",
        "outputId": "3b458aa9-e149-40d3-d613-7a4c9755f599"
      },
      "outputs": [
        {
          "output_type": "stream",
          "name": "stdout",
          "text": [
            "Warning: Your Kaggle API key is readable by other users on this system! To fix this, you can run 'chmod 600 /root/.kaggle/kaggle.json'\n",
            "Downloading ecg-image-data.zip to /content\n",
            " 98% 841M/858M [00:05<00:00, 180MB/s]\n",
            "100% 858M/858M [00:05<00:00, 160MB/s]\n"
          ]
        }
      ],
      "source": [
        "!kaggle datasets download -d erhmrai/ecg-image-data"
      ]
    },
    {
      "cell_type": "code",
      "execution_count": 3,
      "metadata": {
        "id": "j-hHZ8a-LawI"
      },
      "outputs": [],
      "source": [
        "import zipfile\n",
        "zip_ref=zipfile.ZipFile('/content/ecg-image-data.zip','r')\n",
        "zip_ref.extractall('/content')\n",
        "zip_ref.close()"
      ]
    },
    {
      "cell_type": "code",
      "execution_count": 4,
      "metadata": {
        "id": "7dJ4DNXoLate"
      },
      "outputs": [],
      "source": [
        "import numpy as np\n",
        "import pandas as pd\n",
        "from pathlib import Path\n",
        "import os.path\n",
        "import matplotlib.pyplot as plt\n",
        "import tensorflow as tf\n",
        "from tensorflow.keras.models import Sequential\n",
        "from tensorflow.keras.layers import Convolution2D\n",
        "from tensorflow.keras.layers import MaxPooling2D\n",
        "from tensorflow.keras.layers import Flatten\n",
        "from tensorflow.keras.layers import Dense\n",
        "from tensorflow.keras.layers import Dropout, Activation , BatchNormalization\n",
        "from tensorflow.keras.preprocessing.image import ImageDataGenerator\n",
        "from tensorflow.keras.layers import Dense, Conv2D, MaxPool2D , Flatten\n",
        "from tensorflow.keras.losses import categorical_crossentropy\n",
        "from tensorflow.keras.optimizers import Adam\n",
        "from tensorflow.keras.losses import CategoricalCrossentropy\n",
        "from tensorflow.keras.regularizers import l2\n",
        "from tensorflow.keras.callbacks import ReduceLROnPlateau, EarlyStopping\n",
        "from keras.models import Model\n",
        "from keras.applications.vgg19 import VGG19, preprocess_input\n",
        "from tensorflow.keras.applications.resnet50 import ResNet50, preprocess_input\n",
        "from keras.applications.vgg16 import preprocess_input,VGG16\n",
        "from glob import glob"
      ]
    },
    {
      "cell_type": "code",
      "execution_count": 5,
      "metadata": {
        "id": "bNS7lHiHLoEU"
      },
      "outputs": [],
      "source": [
        "train_dir = Path('/content/ECG_Image_data/train')\n",
        "test_dir = Path('/content/ECG_Image_data/test')"
      ]
    },
    {
      "cell_type": "code",
      "execution_count": 6,
      "metadata": {
        "colab": {
          "base_uri": "https://localhost:8080/",
          "height": 424
        },
        "id": "oKXcMkpULaql",
        "outputId": "a3e66810-eb2f-4620-9ea8-bfe52d8dc193"
      },
      "outputs": [
        {
          "output_type": "execute_result",
          "data": {
            "text/plain": [
              "                                        Filepath Label\n",
              "0         /content/ECG_Image_data/train/F/F7.png     F\n",
              "1       /content/ECG_Image_data/train/F/F692.png     F\n",
              "2       /content/ECG_Image_data/train/F/F144.png     F\n",
              "3       /content/ECG_Image_data/train/F/F114.png     F\n",
              "4       /content/ECG_Image_data/train/F/F243.png     F\n",
              "...                                          ...   ...\n",
              "99194  /content/ECG_Image_data/train/S/S1056.png     S\n",
              "99195  /content/ECG_Image_data/train/S/S1298.png     S\n",
              "99196  /content/ECG_Image_data/train/S/S2180.png     S\n",
              "99197   /content/ECG_Image_data/train/S/S233.png     S\n",
              "99198   /content/ECG_Image_data/train/S/S224.png     S\n",
              "\n",
              "[99199 rows x 2 columns]"
            ],
            "text/html": [
              "\n",
              "  <div id=\"df-a6738e0d-0de1-458b-8ba8-94175a9829f9\">\n",
              "    <div class=\"colab-df-container\">\n",
              "      <div>\n",
              "<style scoped>\n",
              "    .dataframe tbody tr th:only-of-type {\n",
              "        vertical-align: middle;\n",
              "    }\n",
              "\n",
              "    .dataframe tbody tr th {\n",
              "        vertical-align: top;\n",
              "    }\n",
              "\n",
              "    .dataframe thead th {\n",
              "        text-align: right;\n",
              "    }\n",
              "</style>\n",
              "<table border=\"1\" class=\"dataframe\">\n",
              "  <thead>\n",
              "    <tr style=\"text-align: right;\">\n",
              "      <th></th>\n",
              "      <th>Filepath</th>\n",
              "      <th>Label</th>\n",
              "    </tr>\n",
              "  </thead>\n",
              "  <tbody>\n",
              "    <tr>\n",
              "      <th>0</th>\n",
              "      <td>/content/ECG_Image_data/train/F/F7.png</td>\n",
              "      <td>F</td>\n",
              "    </tr>\n",
              "    <tr>\n",
              "      <th>1</th>\n",
              "      <td>/content/ECG_Image_data/train/F/F692.png</td>\n",
              "      <td>F</td>\n",
              "    </tr>\n",
              "    <tr>\n",
              "      <th>2</th>\n",
              "      <td>/content/ECG_Image_data/train/F/F144.png</td>\n",
              "      <td>F</td>\n",
              "    </tr>\n",
              "    <tr>\n",
              "      <th>3</th>\n",
              "      <td>/content/ECG_Image_data/train/F/F114.png</td>\n",
              "      <td>F</td>\n",
              "    </tr>\n",
              "    <tr>\n",
              "      <th>4</th>\n",
              "      <td>/content/ECG_Image_data/train/F/F243.png</td>\n",
              "      <td>F</td>\n",
              "    </tr>\n",
              "    <tr>\n",
              "      <th>...</th>\n",
              "      <td>...</td>\n",
              "      <td>...</td>\n",
              "    </tr>\n",
              "    <tr>\n",
              "      <th>99194</th>\n",
              "      <td>/content/ECG_Image_data/train/S/S1056.png</td>\n",
              "      <td>S</td>\n",
              "    </tr>\n",
              "    <tr>\n",
              "      <th>99195</th>\n",
              "      <td>/content/ECG_Image_data/train/S/S1298.png</td>\n",
              "      <td>S</td>\n",
              "    </tr>\n",
              "    <tr>\n",
              "      <th>99196</th>\n",
              "      <td>/content/ECG_Image_data/train/S/S2180.png</td>\n",
              "      <td>S</td>\n",
              "    </tr>\n",
              "    <tr>\n",
              "      <th>99197</th>\n",
              "      <td>/content/ECG_Image_data/train/S/S233.png</td>\n",
              "      <td>S</td>\n",
              "    </tr>\n",
              "    <tr>\n",
              "      <th>99198</th>\n",
              "      <td>/content/ECG_Image_data/train/S/S224.png</td>\n",
              "      <td>S</td>\n",
              "    </tr>\n",
              "  </tbody>\n",
              "</table>\n",
              "<p>99199 rows × 2 columns</p>\n",
              "</div>\n",
              "      <button class=\"colab-df-convert\" onclick=\"convertToInteractive('df-a6738e0d-0de1-458b-8ba8-94175a9829f9')\"\n",
              "              title=\"Convert this dataframe to an interactive table.\"\n",
              "              style=\"display:none;\">\n",
              "        \n",
              "  <svg xmlns=\"http://www.w3.org/2000/svg\" height=\"24px\"viewBox=\"0 0 24 24\"\n",
              "       width=\"24px\">\n",
              "    <path d=\"M0 0h24v24H0V0z\" fill=\"none\"/>\n",
              "    <path d=\"M18.56 5.44l.94 2.06.94-2.06 2.06-.94-2.06-.94-.94-2.06-.94 2.06-2.06.94zm-11 1L8.5 8.5l.94-2.06 2.06-.94-2.06-.94L8.5 2.5l-.94 2.06-2.06.94zm10 10l.94 2.06.94-2.06 2.06-.94-2.06-.94-.94-2.06-.94 2.06-2.06.94z\"/><path d=\"M17.41 7.96l-1.37-1.37c-.4-.4-.92-.59-1.43-.59-.52 0-1.04.2-1.43.59L10.3 9.45l-7.72 7.72c-.78.78-.78 2.05 0 2.83L4 21.41c.39.39.9.59 1.41.59.51 0 1.02-.2 1.41-.59l7.78-7.78 2.81-2.81c.8-.78.8-2.07 0-2.86zM5.41 20L4 18.59l7.72-7.72 1.47 1.35L5.41 20z\"/>\n",
              "  </svg>\n",
              "      </button>\n",
              "      \n",
              "  <style>\n",
              "    .colab-df-container {\n",
              "      display:flex;\n",
              "      flex-wrap:wrap;\n",
              "      gap: 12px;\n",
              "    }\n",
              "\n",
              "    .colab-df-convert {\n",
              "      background-color: #E8F0FE;\n",
              "      border: none;\n",
              "      border-radius: 50%;\n",
              "      cursor: pointer;\n",
              "      display: none;\n",
              "      fill: #1967D2;\n",
              "      height: 32px;\n",
              "      padding: 0 0 0 0;\n",
              "      width: 32px;\n",
              "    }\n",
              "\n",
              "    .colab-df-convert:hover {\n",
              "      background-color: #E2EBFA;\n",
              "      box-shadow: 0px 1px 2px rgba(60, 64, 67, 0.3), 0px 1px 3px 1px rgba(60, 64, 67, 0.15);\n",
              "      fill: #174EA6;\n",
              "    }\n",
              "\n",
              "    [theme=dark] .colab-df-convert {\n",
              "      background-color: #3B4455;\n",
              "      fill: #D2E3FC;\n",
              "    }\n",
              "\n",
              "    [theme=dark] .colab-df-convert:hover {\n",
              "      background-color: #434B5C;\n",
              "      box-shadow: 0px 1px 3px 1px rgba(0, 0, 0, 0.15);\n",
              "      filter: drop-shadow(0px 1px 2px rgba(0, 0, 0, 0.3));\n",
              "      fill: #FFFFFF;\n",
              "    }\n",
              "  </style>\n",
              "\n",
              "      <script>\n",
              "        const buttonEl =\n",
              "          document.querySelector('#df-a6738e0d-0de1-458b-8ba8-94175a9829f9 button.colab-df-convert');\n",
              "        buttonEl.style.display =\n",
              "          google.colab.kernel.accessAllowed ? 'block' : 'none';\n",
              "\n",
              "        async function convertToInteractive(key) {\n",
              "          const element = document.querySelector('#df-a6738e0d-0de1-458b-8ba8-94175a9829f9');\n",
              "          const dataTable =\n",
              "            await google.colab.kernel.invokeFunction('convertToInteractive',\n",
              "                                                     [key], {});\n",
              "          if (!dataTable) return;\n",
              "\n",
              "          const docLinkHtml = 'Like what you see? Visit the ' +\n",
              "            '<a target=\"_blank\" href=https://colab.research.google.com/notebooks/data_table.ipynb>data table notebook</a>'\n",
              "            + ' to learn more about interactive tables.';\n",
              "          element.innerHTML = '';\n",
              "          dataTable['output_type'] = 'display_data';\n",
              "          await google.colab.output.renderOutput(dataTable, element);\n",
              "          const docLink = document.createElement('div');\n",
              "          docLink.innerHTML = docLinkHtml;\n",
              "          element.appendChild(docLink);\n",
              "        }\n",
              "      </script>\n",
              "    </div>\n",
              "  </div>\n",
              "  "
            ]
          },
          "metadata": {},
          "execution_count": 6
        }
      ],
      "source": [
        "filepaths = list(train_dir.glob(r'**/*.png'))\n",
        "labels = list(map(lambda x: os.path.split(os.path.split(x)[0])[1], filepaths))\n",
        "\n",
        "\n",
        "filepaths = pd.Series(filepaths, name='Filepath').astype(str)\n",
        "labels = pd.Series(labels, name='Label')\n",
        "\n",
        "dataframe = pd.concat([filepaths , labels] , axis=1)\n",
        "dataframe"
      ]
    },
    {
      "cell_type": "code",
      "execution_count": 7,
      "metadata": {
        "colab": {
          "base_uri": "https://localhost:8080/"
        },
        "id": "UwnneHKYLaoe",
        "outputId": "a95eaa89-2c90-47cb-d035-216c3403dd28"
      },
      "outputs": [
        {
          "output_type": "execute_result",
          "data": {
            "text/plain": [
              "N    75709\n",
              "M     8405\n",
              "Q     6431\n",
              "V     5789\n",
              "S     2223\n",
              "F      642\n",
              "Name: Label, dtype: int64"
            ]
          },
          "metadata": {},
          "execution_count": 7
        }
      ],
      "source": [
        "dataframe['Label'].value_counts()"
      ]
    },
    {
      "cell_type": "code",
      "execution_count": 8,
      "metadata": {
        "colab": {
          "base_uri": "https://localhost:8080/"
        },
        "id": "RkRMZR2dLamB",
        "outputId": "7935488f-0fed-46fe-e880-d4e709c2cb6f"
      },
      "outputs": [
        {
          "output_type": "execute_result",
          "data": {
            "text/plain": [
              "F    640\n",
              "V    640\n",
              "N    640\n",
              "S    640\n",
              "M    640\n",
              "Q    640\n",
              "Name: Label, dtype: int64"
            ]
          },
          "metadata": {},
          "execution_count": 8
        }
      ],
      "source": [
        "train_samples = []\n",
        "for category in dataframe['Label'].unique():\n",
        "    train_category = dataframe.query(\"Label == @category\")\n",
        "    train_samples.append(train_category.sample(640, random_state=1))\n",
        "\n",
        "dataframe_train = pd.concat(train_samples, axis=0).sample(frac=1.0, random_state=1).reset_index(drop=True)\n",
        "dataframe_train['Label'].value_counts()"
      ]
    },
    {
      "cell_type": "code",
      "execution_count": 9,
      "metadata": {
        "colab": {
          "base_uri": "https://localhost:8080/",
          "height": 424
        },
        "id": "1T9vhsFuLajp",
        "outputId": "300a7f14-7a88-45ec-827e-8960d59380a0"
      },
      "outputs": [
        {
          "output_type": "execute_result",
          "data": {
            "text/plain": [
              "                                        Filepath Label\n",
              "0       /content/ECG_Image_data/train/F/F528.png     F\n",
              "1      /content/ECG_Image_data/train/V/V5621.png     V\n",
              "2     /content/ECG_Image_data/train/N/N18718.png     N\n",
              "3     /content/ECG_Image_data/train/N/N61775.png     N\n",
              "4       /content/ECG_Image_data/train/S/S510.png     S\n",
              "...                                          ...   ...\n",
              "3835  /content/ECG_Image_data/train/N/N26501.png     N\n",
              "3836   /content/ECG_Image_data/train/M/M2168.png     M\n",
              "3837   /content/ECG_Image_data/train/M/M4005.png     M\n",
              "3838    /content/ECG_Image_data/train/F/F340.png     F\n",
              "3839   /content/ECG_Image_data/train/M/M4919.png     M\n",
              "\n",
              "[3840 rows x 2 columns]"
            ],
            "text/html": [
              "\n",
              "  <div id=\"df-687b272b-a6ba-41fc-ab41-1465e646b4e1\">\n",
              "    <div class=\"colab-df-container\">\n",
              "      <div>\n",
              "<style scoped>\n",
              "    .dataframe tbody tr th:only-of-type {\n",
              "        vertical-align: middle;\n",
              "    }\n",
              "\n",
              "    .dataframe tbody tr th {\n",
              "        vertical-align: top;\n",
              "    }\n",
              "\n",
              "    .dataframe thead th {\n",
              "        text-align: right;\n",
              "    }\n",
              "</style>\n",
              "<table border=\"1\" class=\"dataframe\">\n",
              "  <thead>\n",
              "    <tr style=\"text-align: right;\">\n",
              "      <th></th>\n",
              "      <th>Filepath</th>\n",
              "      <th>Label</th>\n",
              "    </tr>\n",
              "  </thead>\n",
              "  <tbody>\n",
              "    <tr>\n",
              "      <th>0</th>\n",
              "      <td>/content/ECG_Image_data/train/F/F528.png</td>\n",
              "      <td>F</td>\n",
              "    </tr>\n",
              "    <tr>\n",
              "      <th>1</th>\n",
              "      <td>/content/ECG_Image_data/train/V/V5621.png</td>\n",
              "      <td>V</td>\n",
              "    </tr>\n",
              "    <tr>\n",
              "      <th>2</th>\n",
              "      <td>/content/ECG_Image_data/train/N/N18718.png</td>\n",
              "      <td>N</td>\n",
              "    </tr>\n",
              "    <tr>\n",
              "      <th>3</th>\n",
              "      <td>/content/ECG_Image_data/train/N/N61775.png</td>\n",
              "      <td>N</td>\n",
              "    </tr>\n",
              "    <tr>\n",
              "      <th>4</th>\n",
              "      <td>/content/ECG_Image_data/train/S/S510.png</td>\n",
              "      <td>S</td>\n",
              "    </tr>\n",
              "    <tr>\n",
              "      <th>...</th>\n",
              "      <td>...</td>\n",
              "      <td>...</td>\n",
              "    </tr>\n",
              "    <tr>\n",
              "      <th>3835</th>\n",
              "      <td>/content/ECG_Image_data/train/N/N26501.png</td>\n",
              "      <td>N</td>\n",
              "    </tr>\n",
              "    <tr>\n",
              "      <th>3836</th>\n",
              "      <td>/content/ECG_Image_data/train/M/M2168.png</td>\n",
              "      <td>M</td>\n",
              "    </tr>\n",
              "    <tr>\n",
              "      <th>3837</th>\n",
              "      <td>/content/ECG_Image_data/train/M/M4005.png</td>\n",
              "      <td>M</td>\n",
              "    </tr>\n",
              "    <tr>\n",
              "      <th>3838</th>\n",
              "      <td>/content/ECG_Image_data/train/F/F340.png</td>\n",
              "      <td>F</td>\n",
              "    </tr>\n",
              "    <tr>\n",
              "      <th>3839</th>\n",
              "      <td>/content/ECG_Image_data/train/M/M4919.png</td>\n",
              "      <td>M</td>\n",
              "    </tr>\n",
              "  </tbody>\n",
              "</table>\n",
              "<p>3840 rows × 2 columns</p>\n",
              "</div>\n",
              "      <button class=\"colab-df-convert\" onclick=\"convertToInteractive('df-687b272b-a6ba-41fc-ab41-1465e646b4e1')\"\n",
              "              title=\"Convert this dataframe to an interactive table.\"\n",
              "              style=\"display:none;\">\n",
              "        \n",
              "  <svg xmlns=\"http://www.w3.org/2000/svg\" height=\"24px\"viewBox=\"0 0 24 24\"\n",
              "       width=\"24px\">\n",
              "    <path d=\"M0 0h24v24H0V0z\" fill=\"none\"/>\n",
              "    <path d=\"M18.56 5.44l.94 2.06.94-2.06 2.06-.94-2.06-.94-.94-2.06-.94 2.06-2.06.94zm-11 1L8.5 8.5l.94-2.06 2.06-.94-2.06-.94L8.5 2.5l-.94 2.06-2.06.94zm10 10l.94 2.06.94-2.06 2.06-.94-2.06-.94-.94-2.06-.94 2.06-2.06.94z\"/><path d=\"M17.41 7.96l-1.37-1.37c-.4-.4-.92-.59-1.43-.59-.52 0-1.04.2-1.43.59L10.3 9.45l-7.72 7.72c-.78.78-.78 2.05 0 2.83L4 21.41c.39.39.9.59 1.41.59.51 0 1.02-.2 1.41-.59l7.78-7.78 2.81-2.81c.8-.78.8-2.07 0-2.86zM5.41 20L4 18.59l7.72-7.72 1.47 1.35L5.41 20z\"/>\n",
              "  </svg>\n",
              "      </button>\n",
              "      \n",
              "  <style>\n",
              "    .colab-df-container {\n",
              "      display:flex;\n",
              "      flex-wrap:wrap;\n",
              "      gap: 12px;\n",
              "    }\n",
              "\n",
              "    .colab-df-convert {\n",
              "      background-color: #E8F0FE;\n",
              "      border: none;\n",
              "      border-radius: 50%;\n",
              "      cursor: pointer;\n",
              "      display: none;\n",
              "      fill: #1967D2;\n",
              "      height: 32px;\n",
              "      padding: 0 0 0 0;\n",
              "      width: 32px;\n",
              "    }\n",
              "\n",
              "    .colab-df-convert:hover {\n",
              "      background-color: #E2EBFA;\n",
              "      box-shadow: 0px 1px 2px rgba(60, 64, 67, 0.3), 0px 1px 3px 1px rgba(60, 64, 67, 0.15);\n",
              "      fill: #174EA6;\n",
              "    }\n",
              "\n",
              "    [theme=dark] .colab-df-convert {\n",
              "      background-color: #3B4455;\n",
              "      fill: #D2E3FC;\n",
              "    }\n",
              "\n",
              "    [theme=dark] .colab-df-convert:hover {\n",
              "      background-color: #434B5C;\n",
              "      box-shadow: 0px 1px 3px 1px rgba(0, 0, 0, 0.15);\n",
              "      filter: drop-shadow(0px 1px 2px rgba(0, 0, 0, 0.3));\n",
              "      fill: #FFFFFF;\n",
              "    }\n",
              "  </style>\n",
              "\n",
              "      <script>\n",
              "        const buttonEl =\n",
              "          document.querySelector('#df-687b272b-a6ba-41fc-ab41-1465e646b4e1 button.colab-df-convert');\n",
              "        buttonEl.style.display =\n",
              "          google.colab.kernel.accessAllowed ? 'block' : 'none';\n",
              "\n",
              "        async function convertToInteractive(key) {\n",
              "          const element = document.querySelector('#df-687b272b-a6ba-41fc-ab41-1465e646b4e1');\n",
              "          const dataTable =\n",
              "            await google.colab.kernel.invokeFunction('convertToInteractive',\n",
              "                                                     [key], {});\n",
              "          if (!dataTable) return;\n",
              "\n",
              "          const docLinkHtml = 'Like what you see? Visit the ' +\n",
              "            '<a target=\"_blank\" href=https://colab.research.google.com/notebooks/data_table.ipynb>data table notebook</a>'\n",
              "            + ' to learn more about interactive tables.';\n",
              "          element.innerHTML = '';\n",
              "          dataTable['output_type'] = 'display_data';\n",
              "          await google.colab.output.renderOutput(dataTable, element);\n",
              "          const docLink = document.createElement('div');\n",
              "          docLink.innerHTML = docLinkHtml;\n",
              "          element.appendChild(docLink);\n",
              "        }\n",
              "      </script>\n",
              "    </div>\n",
              "  </div>\n",
              "  "
            ]
          },
          "metadata": {},
          "execution_count": 9
        }
      ],
      "source": [
        "dataframe_train"
      ]
    },
    {
      "cell_type": "code",
      "execution_count": 10,
      "metadata": {
        "colab": {
          "base_uri": "https://localhost:8080/",
          "height": 424
        },
        "id": "SxYX95txLahO",
        "outputId": "f77e6910-0d47-4424-bc15-d6b1f6924655"
      },
      "outputs": [
        {
          "output_type": "execute_result",
          "data": {
            "text/plain": [
              "                                       Filepath Label\n",
              "0       /content/ECG_Image_data/test/F/F613.png     F\n",
              "1       /content/ECG_Image_data/test/F/F619.png     F\n",
              "2       /content/ECG_Image_data/test/F/F500.png     F\n",
              "3       /content/ECG_Image_data/test/F/F503.png     F\n",
              "4       /content/ECG_Image_data/test/F/F135.png     F\n",
              "...                                         ...   ...\n",
              "24794  /content/ECG_Image_data/test/S/S2400.png     S\n",
              "24795  /content/ECG_Image_data/test/S/S1764.png     S\n",
              "24796  /content/ECG_Image_data/test/S/S2604.png     S\n",
              "24797  /content/ECG_Image_data/test/S/S1100.png     S\n",
              "24798   /content/ECG_Image_data/test/S/S878.png     S\n",
              "\n",
              "[24799 rows x 2 columns]"
            ],
            "text/html": [
              "\n",
              "  <div id=\"df-6d30064e-488a-4d88-a8f8-412f5d67a104\">\n",
              "    <div class=\"colab-df-container\">\n",
              "      <div>\n",
              "<style scoped>\n",
              "    .dataframe tbody tr th:only-of-type {\n",
              "        vertical-align: middle;\n",
              "    }\n",
              "\n",
              "    .dataframe tbody tr th {\n",
              "        vertical-align: top;\n",
              "    }\n",
              "\n",
              "    .dataframe thead th {\n",
              "        text-align: right;\n",
              "    }\n",
              "</style>\n",
              "<table border=\"1\" class=\"dataframe\">\n",
              "  <thead>\n",
              "    <tr style=\"text-align: right;\">\n",
              "      <th></th>\n",
              "      <th>Filepath</th>\n",
              "      <th>Label</th>\n",
              "    </tr>\n",
              "  </thead>\n",
              "  <tbody>\n",
              "    <tr>\n",
              "      <th>0</th>\n",
              "      <td>/content/ECG_Image_data/test/F/F613.png</td>\n",
              "      <td>F</td>\n",
              "    </tr>\n",
              "    <tr>\n",
              "      <th>1</th>\n",
              "      <td>/content/ECG_Image_data/test/F/F619.png</td>\n",
              "      <td>F</td>\n",
              "    </tr>\n",
              "    <tr>\n",
              "      <th>2</th>\n",
              "      <td>/content/ECG_Image_data/test/F/F500.png</td>\n",
              "      <td>F</td>\n",
              "    </tr>\n",
              "    <tr>\n",
              "      <th>3</th>\n",
              "      <td>/content/ECG_Image_data/test/F/F503.png</td>\n",
              "      <td>F</td>\n",
              "    </tr>\n",
              "    <tr>\n",
              "      <th>4</th>\n",
              "      <td>/content/ECG_Image_data/test/F/F135.png</td>\n",
              "      <td>F</td>\n",
              "    </tr>\n",
              "    <tr>\n",
              "      <th>...</th>\n",
              "      <td>...</td>\n",
              "      <td>...</td>\n",
              "    </tr>\n",
              "    <tr>\n",
              "      <th>24794</th>\n",
              "      <td>/content/ECG_Image_data/test/S/S2400.png</td>\n",
              "      <td>S</td>\n",
              "    </tr>\n",
              "    <tr>\n",
              "      <th>24795</th>\n",
              "      <td>/content/ECG_Image_data/test/S/S1764.png</td>\n",
              "      <td>S</td>\n",
              "    </tr>\n",
              "    <tr>\n",
              "      <th>24796</th>\n",
              "      <td>/content/ECG_Image_data/test/S/S2604.png</td>\n",
              "      <td>S</td>\n",
              "    </tr>\n",
              "    <tr>\n",
              "      <th>24797</th>\n",
              "      <td>/content/ECG_Image_data/test/S/S1100.png</td>\n",
              "      <td>S</td>\n",
              "    </tr>\n",
              "    <tr>\n",
              "      <th>24798</th>\n",
              "      <td>/content/ECG_Image_data/test/S/S878.png</td>\n",
              "      <td>S</td>\n",
              "    </tr>\n",
              "  </tbody>\n",
              "</table>\n",
              "<p>24799 rows × 2 columns</p>\n",
              "</div>\n",
              "      <button class=\"colab-df-convert\" onclick=\"convertToInteractive('df-6d30064e-488a-4d88-a8f8-412f5d67a104')\"\n",
              "              title=\"Convert this dataframe to an interactive table.\"\n",
              "              style=\"display:none;\">\n",
              "        \n",
              "  <svg xmlns=\"http://www.w3.org/2000/svg\" height=\"24px\"viewBox=\"0 0 24 24\"\n",
              "       width=\"24px\">\n",
              "    <path d=\"M0 0h24v24H0V0z\" fill=\"none\"/>\n",
              "    <path d=\"M18.56 5.44l.94 2.06.94-2.06 2.06-.94-2.06-.94-.94-2.06-.94 2.06-2.06.94zm-11 1L8.5 8.5l.94-2.06 2.06-.94-2.06-.94L8.5 2.5l-.94 2.06-2.06.94zm10 10l.94 2.06.94-2.06 2.06-.94-2.06-.94-.94-2.06-.94 2.06-2.06.94z\"/><path d=\"M17.41 7.96l-1.37-1.37c-.4-.4-.92-.59-1.43-.59-.52 0-1.04.2-1.43.59L10.3 9.45l-7.72 7.72c-.78.78-.78 2.05 0 2.83L4 21.41c.39.39.9.59 1.41.59.51 0 1.02-.2 1.41-.59l7.78-7.78 2.81-2.81c.8-.78.8-2.07 0-2.86zM5.41 20L4 18.59l7.72-7.72 1.47 1.35L5.41 20z\"/>\n",
              "  </svg>\n",
              "      </button>\n",
              "      \n",
              "  <style>\n",
              "    .colab-df-container {\n",
              "      display:flex;\n",
              "      flex-wrap:wrap;\n",
              "      gap: 12px;\n",
              "    }\n",
              "\n",
              "    .colab-df-convert {\n",
              "      background-color: #E8F0FE;\n",
              "      border: none;\n",
              "      border-radius: 50%;\n",
              "      cursor: pointer;\n",
              "      display: none;\n",
              "      fill: #1967D2;\n",
              "      height: 32px;\n",
              "      padding: 0 0 0 0;\n",
              "      width: 32px;\n",
              "    }\n",
              "\n",
              "    .colab-df-convert:hover {\n",
              "      background-color: #E2EBFA;\n",
              "      box-shadow: 0px 1px 2px rgba(60, 64, 67, 0.3), 0px 1px 3px 1px rgba(60, 64, 67, 0.15);\n",
              "      fill: #174EA6;\n",
              "    }\n",
              "\n",
              "    [theme=dark] .colab-df-convert {\n",
              "      background-color: #3B4455;\n",
              "      fill: #D2E3FC;\n",
              "    }\n",
              "\n",
              "    [theme=dark] .colab-df-convert:hover {\n",
              "      background-color: #434B5C;\n",
              "      box-shadow: 0px 1px 3px 1px rgba(0, 0, 0, 0.15);\n",
              "      filter: drop-shadow(0px 1px 2px rgba(0, 0, 0, 0.3));\n",
              "      fill: #FFFFFF;\n",
              "    }\n",
              "  </style>\n",
              "\n",
              "      <script>\n",
              "        const buttonEl =\n",
              "          document.querySelector('#df-6d30064e-488a-4d88-a8f8-412f5d67a104 button.colab-df-convert');\n",
              "        buttonEl.style.display =\n",
              "          google.colab.kernel.accessAllowed ? 'block' : 'none';\n",
              "\n",
              "        async function convertToInteractive(key) {\n",
              "          const element = document.querySelector('#df-6d30064e-488a-4d88-a8f8-412f5d67a104');\n",
              "          const dataTable =\n",
              "            await google.colab.kernel.invokeFunction('convertToInteractive',\n",
              "                                                     [key], {});\n",
              "          if (!dataTable) return;\n",
              "\n",
              "          const docLinkHtml = 'Like what you see? Visit the ' +\n",
              "            '<a target=\"_blank\" href=https://colab.research.google.com/notebooks/data_table.ipynb>data table notebook</a>'\n",
              "            + ' to learn more about interactive tables.';\n",
              "          element.innerHTML = '';\n",
              "          dataTable['output_type'] = 'display_data';\n",
              "          await google.colab.output.renderOutput(dataTable, element);\n",
              "          const docLink = document.createElement('div');\n",
              "          docLink.innerHTML = docLinkHtml;\n",
              "          element.appendChild(docLink);\n",
              "        }\n",
              "      </script>\n",
              "    </div>\n",
              "  </div>\n",
              "  "
            ]
          },
          "metadata": {},
          "execution_count": 10
        }
      ],
      "source": [
        "filepaths = list(test_dir.glob(r'**/*.png'))\n",
        "labels = list(map(lambda x: os.path.split(os.path.split(x)[0])[1], filepaths))\n",
        "\n",
        "filepaths = pd.Series(filepaths, name='Filepath').astype(str)\n",
        "labels = pd.Series(labels, name='Label')\n",
        "\n",
        "dataframe_test = pd.concat([filepaths , labels] , axis=1)\n",
        "dataframe_test"
      ]
    },
    {
      "cell_type": "code",
      "execution_count": 11,
      "metadata": {
        "colab": {
          "base_uri": "https://localhost:8080/"
        },
        "id": "QVNHWG5gLaed",
        "outputId": "fe228bda-95ec-46e6-a670-4eab85b411e7"
      },
      "outputs": [
        {
          "output_type": "execute_result",
          "data": {
            "text/plain": [
              "N    18926\n",
              "M     2101\n",
              "Q     1608\n",
              "V     1447\n",
              "S      556\n",
              "F      161\n",
              "Name: Label, dtype: int64"
            ]
          },
          "metadata": {},
          "execution_count": 11
        }
      ],
      "source": [
        "dataframe_test['Label'].value_counts()"
      ]
    },
    {
      "cell_type": "code",
      "execution_count": 12,
      "metadata": {
        "colab": {
          "base_uri": "https://localhost:8080/"
        },
        "id": "9SkLWOb0LacK",
        "outputId": "d8fdfb3e-e373-4116-85a1-4b987e96ba24"
      },
      "outputs": [
        {
          "output_type": "execute_result",
          "data": {
            "text/plain": [
              "M    160\n",
              "S    160\n",
              "V    160\n",
              "F    160\n",
              "Q    160\n",
              "N    160\n",
              "Name: Label, dtype: int64"
            ]
          },
          "metadata": {},
          "execution_count": 12
        }
      ],
      "source": [
        "test_samples = []\n",
        "for category in dataframe_test['Label'].unique():\n",
        "    test_category = dataframe_test.query(\"Label == @category\")\n",
        "    test_samples.append(test_category.sample(160, random_state=1))\n",
        "\n",
        "dataframe_test = pd.concat(test_samples, axis=0).sample(frac=1.0, random_state=1).reset_index(drop=True)\n",
        "dataframe_test['Label'].value_counts()"
      ]
    },
    {
      "cell_type": "code",
      "execution_count": 13,
      "metadata": {
        "colab": {
          "base_uri": "https://localhost:8080/",
          "height": 424
        },
        "id": "4TW8gE5mLaZP",
        "outputId": "dd245787-d1ee-4a57-b186-98d4d4e304e4"
      },
      "outputs": [
        {
          "output_type": "execute_result",
          "data": {
            "text/plain": [
              "                                      Filepath Label\n",
              "0     /content/ECG_Image_data/test/M/M1825.png     M\n",
              "1     /content/ECG_Image_data/test/S/S1143.png     S\n",
              "2     /content/ECG_Image_data/test/V/V3972.png     V\n",
              "3     /content/ECG_Image_data/test/V/V6970.png     V\n",
              "4      /content/ECG_Image_data/test/V/V559.png     V\n",
              "..                                         ...   ...\n",
              "955  /content/ECG_Image_data/test/N/N85777.png     N\n",
              "956    /content/ECG_Image_data/test/F/F773.png     F\n",
              "957   /content/ECG_Image_data/test/S/S2067.png     S\n",
              "958    /content/ECG_Image_data/test/M/M411.png     M\n",
              "959    /content/ECG_Image_data/test/F/F511.png     F\n",
              "\n",
              "[960 rows x 2 columns]"
            ],
            "text/html": [
              "\n",
              "  <div id=\"df-72439fa4-8224-4bd4-ad95-2efb6c4c279b\">\n",
              "    <div class=\"colab-df-container\">\n",
              "      <div>\n",
              "<style scoped>\n",
              "    .dataframe tbody tr th:only-of-type {\n",
              "        vertical-align: middle;\n",
              "    }\n",
              "\n",
              "    .dataframe tbody tr th {\n",
              "        vertical-align: top;\n",
              "    }\n",
              "\n",
              "    .dataframe thead th {\n",
              "        text-align: right;\n",
              "    }\n",
              "</style>\n",
              "<table border=\"1\" class=\"dataframe\">\n",
              "  <thead>\n",
              "    <tr style=\"text-align: right;\">\n",
              "      <th></th>\n",
              "      <th>Filepath</th>\n",
              "      <th>Label</th>\n",
              "    </tr>\n",
              "  </thead>\n",
              "  <tbody>\n",
              "    <tr>\n",
              "      <th>0</th>\n",
              "      <td>/content/ECG_Image_data/test/M/M1825.png</td>\n",
              "      <td>M</td>\n",
              "    </tr>\n",
              "    <tr>\n",
              "      <th>1</th>\n",
              "      <td>/content/ECG_Image_data/test/S/S1143.png</td>\n",
              "      <td>S</td>\n",
              "    </tr>\n",
              "    <tr>\n",
              "      <th>2</th>\n",
              "      <td>/content/ECG_Image_data/test/V/V3972.png</td>\n",
              "      <td>V</td>\n",
              "    </tr>\n",
              "    <tr>\n",
              "      <th>3</th>\n",
              "      <td>/content/ECG_Image_data/test/V/V6970.png</td>\n",
              "      <td>V</td>\n",
              "    </tr>\n",
              "    <tr>\n",
              "      <th>4</th>\n",
              "      <td>/content/ECG_Image_data/test/V/V559.png</td>\n",
              "      <td>V</td>\n",
              "    </tr>\n",
              "    <tr>\n",
              "      <th>...</th>\n",
              "      <td>...</td>\n",
              "      <td>...</td>\n",
              "    </tr>\n",
              "    <tr>\n",
              "      <th>955</th>\n",
              "      <td>/content/ECG_Image_data/test/N/N85777.png</td>\n",
              "      <td>N</td>\n",
              "    </tr>\n",
              "    <tr>\n",
              "      <th>956</th>\n",
              "      <td>/content/ECG_Image_data/test/F/F773.png</td>\n",
              "      <td>F</td>\n",
              "    </tr>\n",
              "    <tr>\n",
              "      <th>957</th>\n",
              "      <td>/content/ECG_Image_data/test/S/S2067.png</td>\n",
              "      <td>S</td>\n",
              "    </tr>\n",
              "    <tr>\n",
              "      <th>958</th>\n",
              "      <td>/content/ECG_Image_data/test/M/M411.png</td>\n",
              "      <td>M</td>\n",
              "    </tr>\n",
              "    <tr>\n",
              "      <th>959</th>\n",
              "      <td>/content/ECG_Image_data/test/F/F511.png</td>\n",
              "      <td>F</td>\n",
              "    </tr>\n",
              "  </tbody>\n",
              "</table>\n",
              "<p>960 rows × 2 columns</p>\n",
              "</div>\n",
              "      <button class=\"colab-df-convert\" onclick=\"convertToInteractive('df-72439fa4-8224-4bd4-ad95-2efb6c4c279b')\"\n",
              "              title=\"Convert this dataframe to an interactive table.\"\n",
              "              style=\"display:none;\">\n",
              "        \n",
              "  <svg xmlns=\"http://www.w3.org/2000/svg\" height=\"24px\"viewBox=\"0 0 24 24\"\n",
              "       width=\"24px\">\n",
              "    <path d=\"M0 0h24v24H0V0z\" fill=\"none\"/>\n",
              "    <path d=\"M18.56 5.44l.94 2.06.94-2.06 2.06-.94-2.06-.94-.94-2.06-.94 2.06-2.06.94zm-11 1L8.5 8.5l.94-2.06 2.06-.94-2.06-.94L8.5 2.5l-.94 2.06-2.06.94zm10 10l.94 2.06.94-2.06 2.06-.94-2.06-.94-.94-2.06-.94 2.06-2.06.94z\"/><path d=\"M17.41 7.96l-1.37-1.37c-.4-.4-.92-.59-1.43-.59-.52 0-1.04.2-1.43.59L10.3 9.45l-7.72 7.72c-.78.78-.78 2.05 0 2.83L4 21.41c.39.39.9.59 1.41.59.51 0 1.02-.2 1.41-.59l7.78-7.78 2.81-2.81c.8-.78.8-2.07 0-2.86zM5.41 20L4 18.59l7.72-7.72 1.47 1.35L5.41 20z\"/>\n",
              "  </svg>\n",
              "      </button>\n",
              "      \n",
              "  <style>\n",
              "    .colab-df-container {\n",
              "      display:flex;\n",
              "      flex-wrap:wrap;\n",
              "      gap: 12px;\n",
              "    }\n",
              "\n",
              "    .colab-df-convert {\n",
              "      background-color: #E8F0FE;\n",
              "      border: none;\n",
              "      border-radius: 50%;\n",
              "      cursor: pointer;\n",
              "      display: none;\n",
              "      fill: #1967D2;\n",
              "      height: 32px;\n",
              "      padding: 0 0 0 0;\n",
              "      width: 32px;\n",
              "    }\n",
              "\n",
              "    .colab-df-convert:hover {\n",
              "      background-color: #E2EBFA;\n",
              "      box-shadow: 0px 1px 2px rgba(60, 64, 67, 0.3), 0px 1px 3px 1px rgba(60, 64, 67, 0.15);\n",
              "      fill: #174EA6;\n",
              "    }\n",
              "\n",
              "    [theme=dark] .colab-df-convert {\n",
              "      background-color: #3B4455;\n",
              "      fill: #D2E3FC;\n",
              "    }\n",
              "\n",
              "    [theme=dark] .colab-df-convert:hover {\n",
              "      background-color: #434B5C;\n",
              "      box-shadow: 0px 1px 3px 1px rgba(0, 0, 0, 0.15);\n",
              "      filter: drop-shadow(0px 1px 2px rgba(0, 0, 0, 0.3));\n",
              "      fill: #FFFFFF;\n",
              "    }\n",
              "  </style>\n",
              "\n",
              "      <script>\n",
              "        const buttonEl =\n",
              "          document.querySelector('#df-72439fa4-8224-4bd4-ad95-2efb6c4c279b button.colab-df-convert');\n",
              "        buttonEl.style.display =\n",
              "          google.colab.kernel.accessAllowed ? 'block' : 'none';\n",
              "\n",
              "        async function convertToInteractive(key) {\n",
              "          const element = document.querySelector('#df-72439fa4-8224-4bd4-ad95-2efb6c4c279b');\n",
              "          const dataTable =\n",
              "            await google.colab.kernel.invokeFunction('convertToInteractive',\n",
              "                                                     [key], {});\n",
              "          if (!dataTable) return;\n",
              "\n",
              "          const docLinkHtml = 'Like what you see? Visit the ' +\n",
              "            '<a target=\"_blank\" href=https://colab.research.google.com/notebooks/data_table.ipynb>data table notebook</a>'\n",
              "            + ' to learn more about interactive tables.';\n",
              "          element.innerHTML = '';\n",
              "          dataTable['output_type'] = 'display_data';\n",
              "          await google.colab.output.renderOutput(dataTable, element);\n",
              "          const docLink = document.createElement('div');\n",
              "          docLink.innerHTML = docLinkHtml;\n",
              "          element.appendChild(docLink);\n",
              "        }\n",
              "      </script>\n",
              "    </div>\n",
              "  </div>\n",
              "  "
            ]
          },
          "metadata": {},
          "execution_count": 13
        }
      ],
      "source": [
        "dataframe_test"
      ]
    },
    {
      "cell_type": "code",
      "execution_count": 14,
      "metadata": {
        "colab": {
          "base_uri": "https://localhost:8080/",
          "height": 269
        },
        "id": "3_AcvEhdLaWn",
        "outputId": "0fed0609-88bd-45b7-c8a1-432018ad9533"
      },
      "outputs": [
        {
          "output_type": "display_data",
          "data": {
            "text/plain": [
              "<Figure size 432x288 with 1 Axes>"
            ],
            "image/png": "[encoded data removed]"
          },
          "metadata": {
            "needs_background": "light"
          }
        }
      ],
      "source": [
        "from keras.utils import img_to_array,load_img\n",
        "img = load_img(dataframe_test['Filepath'].values[1])\n",
        "plt.imshow(img)\n",
        "plt.axis(\"on\")\n",
        "plt.show()"
      ]
    },
    {
      "cell_type": "code",
      "execution_count": 15,
      "metadata": {
        "colab": {
          "base_uri": "https://localhost:8080/"
        },
        "id": "Y2N-_Z2ELaUZ",
        "outputId": "0e18c346-cc80-4b17-8bff-8c2627ac6f03"
      },
      "outputs": [
        {
          "output_type": "stream",
          "name": "stdout",
          "text": [
            "(288, 432, 3)\n"
          ]
        }
      ],
      "source": [
        "array_image = img_to_array(img)\n",
        "print(array_image.shape)"
      ]
    },
    {
      "cell_type": "code",
      "execution_count": 16,
      "metadata": {
        "id": "svsOj-ylLaR8"
      },
      "outputs": [],
      "source": [
        "train_datagen = tf.keras.preprocessing.image.ImageDataGenerator(\n",
        "    #preprocessing_function=tf.keras.applications.vgg19.preprocess_input,\n",
        "    rescale=1./255,\n",
        "    shear_range = 0.2,\n",
        "    horizontal_flip=True,\n",
        "    zoom_range = 0.2,\n",
        "    validation_split=0.2\n",
        "  \n",
        ")\n",
        "\n",
        "test_datagen = tf.keras.preprocessing.image.ImageDataGenerator(\n",
        "    #preprocessing_function=tf.keras.applications.vgg19.preprocess_input,\n",
        "    rescale=1./255\n",
        ")"
      ]
    },
    {
      "cell_type": "code",
      "execution_count": 17,
      "metadata": {
        "colab": {
          "base_uri": "https://localhost:8080/"
        },
        "id": "Oc3lBXSRLaPm",
        "outputId": "a09b109e-9fad-47eb-8719-92a984295d82"
      },
      "outputs": [
        {
          "output_type": "stream",
          "name": "stdout",
          "text": [
            "Found 3072 validated image filenames belonging to 6 classes.\n",
            "Found 768 validated image filenames belonging to 6 classes.\n",
            "Found 960 validated image filenames belonging to 6 classes.\n"
          ]
        }
      ],
      "source": [
        "train_generator = train_datagen.flow_from_dataframe(\n",
        "    dataframe=dataframe_train,\n",
        "    x_col='Filepath',\n",
        "    y_col='Label',\n",
        "    target_size=(224, 224),\n",
        "    color_mode='rgb',\n",
        "    class_mode='categorical',\n",
        "    batch_size=32,\n",
        "    shuffle=True,\n",
        "    seed=42,\n",
        "    subset='training'\n",
        ")\n",
        "\n",
        "val_generator = train_datagen.flow_from_dataframe(\n",
        "    dataframe=dataframe_train,\n",
        "    x_col='Filepath',\n",
        "    y_col='Label',\n",
        "    target_size=(224, 224),\n",
        "    color_mode='rgb',\n",
        "    class_mode='categorical',\n",
        "    batch_size=32,\n",
        "    shuffle=True,\n",
        "    seed=42,\n",
        "    subset='validation'\n",
        ")\n",
        "\n",
        "test_generator = test_datagen.flow_from_dataframe(\n",
        "    dataframe=dataframe_test,\n",
        "    x_col='Filepath',\n",
        "    y_col='Label',\n",
        "    target_size=(224, 224),\n",
        "    color_mode='rgb',\n",
        "    class_mode='categorical',\n",
        "    batch_size=32,\n",
        "    shuffle=False\n",
        ")"
      ]
    },
    {
      "cell_type": "code",
      "execution_count": 18,
      "metadata": {
        "colab": {
          "base_uri": "https://localhost:8080/"
        },
        "id": "M0GW4am3LaNF",
        "outputId": "2e697139-2d6d-4459-8f9c-57add1fd50d6"
      },
      "outputs": [
        {
          "output_type": "execute_result",
          "data": {
            "text/plain": [
              "{'F': 0, 'M': 1, 'N': 2, 'Q': 3, 'S': 4, 'V': 5}"
            ]
          },
          "metadata": {},
          "execution_count": 18
        }
      ],
      "source": [
        "test_generator.class_indices"
      ]
    },
    {
      "cell_type": "code",
      "execution_count": 19,
      "metadata": {
        "colab": {
          "base_uri": "https://localhost:8080/",
          "height": 287
        },
        "id": "34HOAz3kLaKq",
        "outputId": "8c2ae32e-48e8-4007-96a9-1923bf865a4b"
      },
      "outputs": [
        {
          "output_type": "execute_result",
          "data": {
            "text/plain": [
              "<matplotlib.image.AxesImage at 0x7f6f80eb35b0>"
            ]
          },
          "metadata": {},
          "execution_count": 19
        },
        {
          "output_type": "display_data",
          "data": {
            "text/plain": [
              "<Figure size 432x288 with 1 Axes>"
            ],
            "image/png": "[encoded data removed]"
          },
          "metadata": {
            "needs_background": "light"
          }
        }
      ],
      "source": [
        "plt.imshow(test_generator[0][0][3])"
      ]
    },
    {
      "cell_type": "code",
      "source": [
        "folders=glob('/content/ECG_Image_data/test/*')\n",
        "folders"
      ],
      "metadata": {
        "colab": {
          "base_uri": "https://localhost:8080/"
        },
        "id": "SEOU6UJzagIe",
        "outputId": "a8da5a8d-a5cc-4ee7-a719-79b6021bbbdd"
      },
      "execution_count": 20,
      "outputs": [
        {
          "output_type": "execute_result",
          "data": {
            "text/plain": [
              "['/content/ECG_Image_data/test/F',\n",
              " '/content/ECG_Image_data/test/M',\n",
              " '/content/ECG_Image_data/test/V',\n",
              " '/content/ECG_Image_data/test/Q',\n",
              " '/content/ECG_Image_data/test/N',\n",
              " '/content/ECG_Image_data/test/S']"
            ]
          },
          "metadata": {},
          "execution_count": 20
        }
      ]
    },
    {
      "cell_type": "code",
      "execution_count": 21,
      "metadata": {
        "colab": {
          "base_uri": "https://localhost:8080/"
        },
        "id": "Ft_oSnbYLaIE",
        "outputId": "6e396cba-907e-4c57-b7a4-fe737ad5f22b"
      },
      "outputs": [
        {
          "output_type": "stream",
          "name": "stdout",
          "text": [
            "Downloading data from https://storage.googleapis.com/tensorflow/keras-applications/vgg19/vgg19_weights_tf_dim_ordering_tf_kernels_notop.h5\n",
            "80134624/80134624 [==============================] - 1s 0us/step\n"
          ]
        }
      ],
      "source": [
        "'''pretrained_model = VGG19(\n",
        "                          input_shape=(224,224,3),\n",
        "                          include_top= False,\n",
        "                          weights='imagenet',\n",
        "                          pooling='avg'\n",
        "                          )\n",
        "\n",
        "pretrained_model.trainable = False'''\n",
        "IMAGE_SIZE = [224, 224]\n",
        "vgg = VGG19(input_shape=IMAGE_SIZE + [3], weights='imagenet', include_top=False)"
      ]
    },
    {
      "cell_type": "code",
      "source": [
        "for layer in vgg.layers:\n",
        "  layer.trainable = False"
      ],
      "metadata": {
        "id": "4t6_xn21abS3"
      },
      "execution_count": 22,
      "outputs": []
    },
    {
      "cell_type": "code",
      "source": [
        "x2 = Flatten()(vgg.output)"
      ],
      "metadata": {
        "id": "UOQ_n9zBabMJ"
      },
      "execution_count": 23,
      "outputs": []
    },
    {
      "cell_type": "code",
      "source": [
        "prediction2 = Dense(len(folders), activation='softmax')(x2)"
      ],
      "metadata": {
        "id": "93FYWrjSai4L"
      },
      "execution_count": 24,
      "outputs": []
    },
    {
      "cell_type": "code",
      "execution_count": 25,
      "metadata": {
        "colab": {
          "base_uri": "https://localhost:8080/"
        },
        "id": "aQqjNrXyMbxM",
        "outputId": "2be8d189-95e8-4008-ec39-014effcfafcf"
      },
      "outputs": [
        {
          "output_type": "stream",
          "name": "stdout",
          "text": [
            "Model: \"model\"\n",
            "_________________________________________________________________\n",
            " Layer (type)                Output Shape              Param #   \n",
            "=================================================================\n",
            " input_1 (InputLayer)        [(None, 224, 224, 3)]     0         \n",
            "                                                                 \n",
            " block1_conv1 (Conv2D)       (None, 224, 224, 64)      1792      \n",
            "                                                                 \n",
            " block1_conv2 (Conv2D)       (None, 224, 224, 64)      36928     \n",
            "                                                                 \n",
            " block1_pool (MaxPooling2D)  (None, 112, 112, 64)      0         \n",
            "                                                                 \n",
            " block2_conv1 (Conv2D)       (None, 112, 112, 128)     73856     \n",
            "                                                                 \n",
            " block2_conv2 (Conv2D)       (None, 112, 112, 128)     147584    \n",
            "                                                                 \n",
            " block2_pool (MaxPooling2D)  (None, 56, 56, 128)       0         \n",
            "                                                                 \n",
            " block3_conv1 (Conv2D)       (None, 56, 56, 256)       295168    \n",
            "                                                                 \n",
            " block3_conv2 (Conv2D)       (None, 56, 56, 256)       590080    \n",
            "                                                                 \n",
            " block3_conv3 (Conv2D)       (None, 56, 56, 256)       590080    \n",
            "                                                                 \n",
            " block3_conv4 (Conv2D)       (None, 56, 56, 256)       590080    \n",
            "                                                                 \n",
            " block3_pool (MaxPooling2D)  (None, 28, 28, 256)       0         \n",
            "                                                                 \n",
            " block4_conv1 (Conv2D)       (None, 28, 28, 512)       1180160   \n",
            "                                                                 \n",
            " block4_conv2 (Conv2D)       (None, 28, 28, 512)       2359808   \n",
            "                                                                 \n",
            " block4_conv3 (Conv2D)       (None, 28, 28, 512)       2359808   \n",
            "                                                                 \n",
            " block4_conv4 (Conv2D)       (None, 28, 28, 512)       2359808   \n",
            "                                                                 \n",
            " block4_pool (MaxPooling2D)  (None, 14, 14, 512)       0         \n",
            "                                                                 \n",
            " block5_conv1 (Conv2D)       (None, 14, 14, 512)       2359808   \n",
            "                                                                 \n",
            " block5_conv2 (Conv2D)       (None, 14, 14, 512)       2359808   \n",
            "                                                                 \n",
            " block5_conv3 (Conv2D)       (None, 14, 14, 512)       2359808   \n",
            "                                                                 \n",
            " block5_conv4 (Conv2D)       (None, 14, 14, 512)       2359808   \n",
            "                                                                 \n",
            " block5_pool (MaxPooling2D)  (None, 7, 7, 512)         0         \n",
            "                                                                 \n",
            " flatten (Flatten)           (None, 25088)             0         \n",
            "                                                                 \n",
            " dense (Dense)               (None, 6)                 150534    \n",
            "                                                                 \n",
            "=================================================================\n",
            "Total params: 20,174,918\n",
            "Trainable params: 150,534\n",
            "Non-trainable params: 20,024,384\n",
            "_________________________________________________________________\n"
          ]
        }
      ],
      "source": [
        "'''from tensorflow.keras.layers import *\n",
        "from tensorflow.keras.models import *\n",
        "\n",
        "model = Sequential ([\n",
        "                        pretrained_model,\n",
        "                        Flatten(),\n",
        "                        Dropout(0.2),\n",
        "                        Dense(128, activation='relu'),\n",
        "                        Dense(64, activation='relu'),\n",
        "                        Dense(6, activation='softmax')\n",
        "                    ])\n",
        "\n",
        "\n",
        "model.summary()'''\n",
        "vgg_model = Model(inputs=vgg.input, outputs=prediction2)\n",
        "\n",
        "vgg_model.summary()"
      ]
    },
    {
      "cell_type": "code",
      "execution_count": 26,
      "metadata": {
        "id": "LO4qjLk4MbuI"
      },
      "outputs": [],
      "source": [
        "import keras\n",
        "checkpoint = keras.callbacks.ModelCheckpoint(\n",
        "    filepath='best_model.h5',\n",
        "    save_weights_only=False,\n",
        "    monitor='val_accuracy',\n",
        "    mode='max',\n",
        "    save_best_only=True,\n",
        "    verbose=1)"
      ]
    },
    {
      "cell_type": "code",
      "execution_count": 27,
      "metadata": {
        "id": "EvcTF7iQMbr3"
      },
      "outputs": [],
      "source": [
        "vgg_model.compile(\n",
        "    optimizer='adam',\n",
        "    loss='categorical_crossentropy',\n",
        "    metrics=['accuracy']\n",
        ")"
      ]
    },
    {
      "cell_type": "code",
      "execution_count": 28,
      "metadata": {
        "colab": {
          "base_uri": "https://localhost:8080/"
        },
        "id": "jEcJloiRMbpc",
        "outputId": "dc6b8c0a-a247-4d28-ead0-20dd1ad2eb80"
      },
      "outputs": [
        {
          "output_type": "stream",
          "name": "stdout",
          "text": [
            "Epoch 1/20\n",
            "96/96 [==============================] - ETA: 0s - loss: 0.4206 - accuracy: 0.8665\n",
            "Epoch 1: val_accuracy improved from -inf to 0.97786, saving model to best_model.h5\n",
            "96/96 [==============================] - 59s 513ms/step - loss: 0.4206 - accuracy: 0.8665 - val_loss: 0.1044 - val_accuracy: 0.9779\n",
            "Epoch 2/20\n",
            "96/96 [==============================] - ETA: 0s - loss: 0.0654 - accuracy: 0.9883\n",
            "Epoch 2: val_accuracy improved from 0.97786 to 0.98698, saving model to best_model.h5\n",
            "96/96 [==============================] - 49s 510ms/step - loss: 0.0654 - accuracy: 0.9883 - val_loss: 0.0576 - val_accuracy: 0.9870\n",
            "Epoch 3/20\n",
            "96/96 [==============================] - ETA: 0s - loss: 0.0435 - accuracy: 0.9909\n",
            "Epoch 3: val_accuracy improved from 0.98698 to 0.99349, saving model to best_model.h5\n",
            "96/96 [==============================] - 49s 513ms/step - loss: 0.0435 - accuracy: 0.9909 - val_loss: 0.0377 - val_accuracy: 0.9935\n",
            "Epoch 4/20\n",
            "96/96 [==============================] - ETA: 0s - loss: 0.0245 - accuracy: 0.9964\n",
            "Epoch 4: val_accuracy improved from 0.99349 to 0.99609, saving model to best_model.h5\n",
            "96/96 [==============================] - 50s 518ms/step - loss: 0.0245 - accuracy: 0.9964 - val_loss: 0.0283 - val_accuracy: 0.9961\n",
            "Epoch 5/20\n",
            "96/96 [==============================] - ETA: 0s - loss: 0.0189 - accuracy: 0.9980\n",
            "Epoch 5: val_accuracy did not improve from 0.99609\n",
            "96/96 [==============================] - 49s 512ms/step - loss: 0.0189 - accuracy: 0.9980 - val_loss: 0.0294 - val_accuracy: 0.9935\n",
            "Epoch 6/20\n",
            "96/96 [==============================] - ETA: 0s - loss: 0.0152 - accuracy: 0.9977\n",
            "Epoch 6: val_accuracy improved from 0.99609 to 0.99870, saving model to best_model.h5\n",
            "96/96 [==============================] - 49s 511ms/step - loss: 0.0152 - accuracy: 0.9977 - val_loss: 0.0164 - val_accuracy: 0.9987\n",
            "Epoch 7/20\n",
            "96/96 [==============================] - ETA: 0s - loss: 0.0104 - accuracy: 1.0000\n",
            "Epoch 7: val_accuracy did not improve from 0.99870\n",
            "96/96 [==============================] - 50s 518ms/step - loss: 0.0104 - accuracy: 1.0000 - val_loss: 0.0247 - val_accuracy: 0.9935\n",
            "Epoch 8/20\n",
            "96/96 [==============================] - ETA: 0s - loss: 0.0106 - accuracy: 0.9993\n",
            "Epoch 8: val_accuracy did not improve from 0.99870\n",
            "96/96 [==============================] - 49s 515ms/step - loss: 0.0106 - accuracy: 0.9993 - val_loss: 0.0124 - val_accuracy: 0.9974\n",
            "Epoch 9/20\n",
            "96/96 [==============================] - ETA: 0s - loss: 0.0073 - accuracy: 1.0000\n",
            "Epoch 9: val_accuracy did not improve from 0.99870\n",
            "96/96 [==============================] - 49s 514ms/step - loss: 0.0073 - accuracy: 1.0000 - val_loss: 0.0106 - val_accuracy: 0.9987\n",
            "Epoch 10/20\n",
            "96/96 [==============================] - ETA: 0s - loss: 0.0055 - accuracy: 1.0000\n",
            "Epoch 10: val_accuracy improved from 0.99870 to 1.00000, saving model to best_model.h5\n",
            "96/96 [==============================] - 52s 540ms/step - loss: 0.0055 - accuracy: 1.0000 - val_loss: 0.0069 - val_accuracy: 1.0000\n",
            "Epoch 11/20\n",
            "96/96 [==============================] - ETA: 0s - loss: 0.0051 - accuracy: 0.9997\n",
            "Epoch 11: val_accuracy did not improve from 1.00000\n",
            "96/96 [==============================] - 49s 511ms/step - loss: 0.0051 - accuracy: 0.9997 - val_loss: 0.0092 - val_accuracy: 0.9987\n",
            "Epoch 12/20\n",
            "96/96 [==============================] - ETA: 0s - loss: 0.0052 - accuracy: 0.9990\n",
            "Epoch 12: val_accuracy did not improve from 1.00000\n",
            "96/96 [==============================] - 49s 512ms/step - loss: 0.0052 - accuracy: 0.9990 - val_loss: 0.0057 - val_accuracy: 1.0000\n",
            "Epoch 13/20\n",
            "96/96 [==============================] - ETA: 0s - loss: 0.0050 - accuracy: 1.0000\n",
            "Epoch 13: val_accuracy did not improve from 1.00000\n",
            "96/96 [==============================] - 49s 513ms/step - loss: 0.0050 - accuracy: 1.0000 - val_loss: 0.0096 - val_accuracy: 0.9987\n",
            "Epoch 14/20\n",
            "96/96 [==============================] - ETA: 0s - loss: 0.0032 - accuracy: 1.0000\n",
            "Epoch 14: val_accuracy did not improve from 1.00000\n",
            "96/96 [==============================] - 49s 512ms/step - loss: 0.0032 - accuracy: 1.0000 - val_loss: 0.0048 - val_accuracy: 1.0000\n",
            "Epoch 15/20\n",
            "96/96 [==============================] - ETA: 0s - loss: 0.0036 - accuracy: 0.9997\n",
            "Epoch 15: val_accuracy did not improve from 1.00000\n",
            "96/96 [==============================] - 51s 534ms/step - loss: 0.0036 - accuracy: 0.9997 - val_loss: 0.0063 - val_accuracy: 0.9987\n",
            "Epoch 16/20\n",
            "96/96 [==============================] - ETA: 0s - loss: 0.0024 - accuracy: 1.0000\n",
            "Epoch 16: val_accuracy did not improve from 1.00000\n",
            "96/96 [==============================] - 52s 537ms/step - loss: 0.0024 - accuracy: 1.0000 - val_loss: 0.0042 - val_accuracy: 1.0000\n",
            "Epoch 17/20\n",
            "96/96 [==============================] - ETA: 0s - loss: 0.0019 - accuracy: 1.0000\n",
            "Epoch 17: val_accuracy did not improve from 1.00000\n",
            "96/96 [==============================] - 48s 504ms/step - loss: 0.0019 - accuracy: 1.0000 - val_loss: 0.0040 - val_accuracy: 1.0000\n",
            "Epoch 18/20\n",
            "96/96 [==============================] - ETA: 0s - loss: 0.0023 - accuracy: 1.0000\n",
            "Epoch 18: val_accuracy did not improve from 1.00000\n",
            "96/96 [==============================] - 48s 500ms/step - loss: 0.0023 - accuracy: 1.0000 - val_loss: 0.0111 - val_accuracy: 0.9974\n",
            "Epoch 19/20\n",
            "96/96 [==============================] - ETA: 0s - loss: 0.0018 - accuracy: 1.0000\n",
            "Epoch 19: val_accuracy did not improve from 1.00000\n",
            "96/96 [==============================] - 49s 512ms/step - loss: 0.0018 - accuracy: 1.0000 - val_loss: 0.0055 - val_accuracy: 0.9987\n",
            "Epoch 20/20\n",
            "96/96 [==============================] - ETA: 0s - loss: 0.0016 - accuracy: 1.0000\n",
            "Epoch 20: val_accuracy did not improve from 1.00000\n",
            "96/96 [==============================] - 48s 504ms/step - loss: 0.0016 - accuracy: 1.0000 - val_loss: 0.0048 - val_accuracy: 0.9987\n"
          ]
        }
      ],
      "source": [
        "result=vgg_model.fit(\n",
        "    train_generator,\n",
        "    validation_data=val_generator,\n",
        "    epochs=20,#30\n",
        "    callbacks=[checkpoint]\n",
        ")"
      ]
    },
    {
      "cell_type": "code",
      "source": [
        "vgg_model.save('best.h5')"
      ],
      "metadata": {
        "id": "C15zqv8PDBY9"
      },
      "execution_count": 29,
      "outputs": []
    },
    {
      "cell_type": "code",
      "execution_count": 30,
      "metadata": {
        "id": "DDZlYJpWRlYC",
        "colab": {
          "base_uri": "https://localhost:8080/"
        },
        "outputId": "bf33ad80-866a-49e9-900a-1dd4d4927507"
      },
      "outputs": [
        {
          "output_type": "stream",
          "name": "stdout",
          "text": [
            "    Test Loss: 0.00331\n",
            "Test Accuracy: 100.00%\n"
          ]
        }
      ],
      "source": [
        "from keras.models import load_model\n",
        "best_model1=load_model('/content/best.h5')\n",
        "results1 = best_model1.evaluate(test_generator, verbose=0)\n",
        "\n",
        "print(\"    Test Loss: {:.5f}\".format(results1[0]))\n",
        "print(\"Test Accuracy: {:.2f}%\".format(results1[1] * 100))"
      ]
    },
    {
      "cell_type": "code",
      "execution_count": 31,
      "metadata": {
        "id": "NJI3ToU4Mbm7",
        "colab": {
          "base_uri": "https://localhost:8080/"
        },
        "outputId": "b8a8619b-d0e9-41f9-d9f6-7d036d252872"
      },
      "outputs": [
        {
          "output_type": "stream",
          "name": "stdout",
          "text": [
            "    Test Loss: 0.00719\n",
            "Test Accuracy: 99.90%\n"
          ]
        }
      ],
      "source": [
        "from keras.models import load_model\n",
        "best_model=load_model('/content/best_model.h5')\n",
        "results = best_model.evaluate(test_generator, verbose=0)\n",
        "\n",
        "print(\"    Test Loss: {:.5f}\".format(results[0]))\n",
        "print(\"Test Accuracy: {:.2f}%\".format(results[1] * 100))"
      ]
    },
    {
      "cell_type": "code",
      "execution_count": 32,
      "metadata": {
        "id": "n7WSwEvyMbkX",
        "colab": {
          "base_uri": "https://localhost:8080/",
          "height": 313
        },
        "outputId": "757d97dd-7b14-42f6-ef5e-3f0c9d58594e"
      },
      "outputs": [
        {
          "output_type": "execute_result",
          "data": {
            "text/plain": [
              "Text(0, 0.5, 'loss')"
            ]
          },
          "metadata": {},
          "execution_count": 32
        },
        {
          "output_type": "display_data",
          "data": {
            "text/plain": [
              "<Figure size 432x288 with 1 Axes>"
            ],
            "image/png": "[encoded data removed]"
          },
          "metadata": {
            "needs_background": "light"
          }
        }
      ],
      "source": [
        "import matplotlib.pyplot as plt\n",
        "\n",
        "plt.plot(result.history['loss'])\n",
        "plt.plot(result.history['val_loss'])\n",
        "plt.legend(['Training', 'Validation'])\n",
        "plt.title('Training and Validation losses')\n",
        "plt.xlabel('epoch')\n",
        "plt.ylabel('loss')"
      ]
    },
    {
      "cell_type": "code",
      "execution_count": 33,
      "metadata": {
        "id": "9FGSlgn1QJdW",
        "colab": {
          "base_uri": "https://localhost:8080/",
          "height": 313
        },
        "outputId": "b89f8293-a9f5-497c-bbb8-959a08893226"
      },
      "outputs": [
        {
          "output_type": "execute_result",
          "data": {
            "text/plain": [
              "Text(0, 0.5, 'accuracy')"
            ]
          },
          "metadata": {},
          "execution_count": 33
        },
        {
          "output_type": "display_data",
          "data": {
            "text/plain": [
              "<Figure size 432x288 with 1 Axes>"
            ],
            "image/png": "[encoded data removed]"
          },
          "metadata": {
            "needs_background": "light"
          }
        }
      ],
      "source": [
        "plt.plot(result.history['accuracy'])\n",
        "plt.plot(result.history['val_accuracy'])\n",
        "plt.legend(['Training', 'Validation'])\n",
        "plt.title('Training and Validation accuracy')\n",
        "plt.xlabel('epoch')\n",
        "plt.ylabel('accuracy')"
      ]
    },
    {
      "cell_type": "code",
      "execution_count": 34,
      "metadata": {
        "id": "n2BmZ8m_QJaC",
        "colab": {
          "base_uri": "https://localhost:8080/"
        },
        "outputId": "fc5a97c7-4987-4a5a-e6ca-8631abb07f08"
      },
      "outputs": [
        {
          "output_type": "stream",
          "name": "stdout",
          "text": [
            "30/30 [==============================] - 6s 195ms/step\n"
          ]
        },
        {
          "output_type": "execute_result",
          "data": {
            "text/plain": [
              "array([[5.0985759e-06, 9.9874085e-01, 9.4140874e-04, 3.2071082e-06,\n",
              "        3.0306893e-04, 6.3779203e-06],\n",
              "       [3.9647833e-07, 5.8075000e-10, 6.2791417e-10, 3.2625037e-06,\n",
              "        9.9999619e-01, 1.4373578e-07],\n",
              "       [3.7750340e-06, 1.8981790e-06, 5.0950161e-04, 2.0895668e-04,\n",
              "        9.2570583e-05, 9.9918336e-01],\n",
              "       ...,\n",
              "       [6.9678528e-05, 2.5006451e-05, 6.5178995e-08, 3.1272901e-04,\n",
              "        9.9958307e-01, 9.4672696e-06],\n",
              "       [8.1594470e-07, 9.9995399e-01, 3.0176490e-05, 7.8965559e-06,\n",
              "        6.9776179e-06, 1.1960617e-07],\n",
              "       [9.9999201e-01, 5.8847403e-09, 1.1157720e-07, 7.2565554e-10,\n",
              "        7.7931272e-06, 3.2009744e-08]], dtype=float32)"
            ]
          },
          "metadata": {},
          "execution_count": 34
        }
      ],
      "source": [
        "y_pred = best_model1.predict(test_generator)\n",
        "y_pred"
      ]
    },
    {
      "cell_type": "code",
      "execution_count": 35,
      "metadata": {
        "id": "7Da6_MwXQJXf",
        "colab": {
          "base_uri": "https://localhost:8080/"
        },
        "outputId": "26a5a127-21c7-43ad-e0fa-c895e76222b5"
      },
      "outputs": [
        {
          "output_type": "execute_result",
          "data": {
            "text/plain": [
              "array([1, 4, 5, 5, 5, 1, 4, 1, 0, 0, 3, 5, 1, 0, 2, 2, 0, 2, 3, 0, 1, 5,\n",
              "       2, 0, 2, 2, 1, 5, 0, 3, 5, 1, 0, 5, 0, 5, 1, 3, 1, 3, 4, 3, 1, 5,\n",
              "       1, 2, 1, 2, 1, 4, 0, 0, 4, 5, 5, 4, 4, 4, 2, 4, 5, 3, 0, 3, 5, 4,\n",
              "       3, 5, 1, 3, 1, 3, 3, 3, 3, 5, 4, 0, 4, 0, 4, 4, 2, 5, 0, 3, 0, 2,\n",
              "       3, 3, 2, 3, 4, 1, 2, 0, 2, 1, 2, 0, 3, 0, 2, 3, 2, 2, 1, 4, 1, 2,\n",
              "       0, 2, 2, 3, 0, 0, 0, 5, 5, 5, 4, 0, 2, 4, 1, 5, 2, 1, 1, 3, 2, 3,\n",
              "       0, 2, 0, 4, 5, 5, 0, 4, 1, 0, 1, 5, 4, 4, 2, 5, 0, 1, 3, 5, 2, 2,\n",
              "       1, 0, 1, 5, 3, 5, 5, 3, 3, 5, 2, 1, 2, 4, 5, 4, 3, 2, 1, 1, 4, 3,\n",
              "       0, 3, 3, 0, 3, 4, 1, 5, 2, 1, 2, 1, 2, 0, 1, 2, 5, 2, 1, 2, 4, 4,\n",
              "       3, 1, 3, 3, 3, 4, 1, 0, 4, 0, 2, 4, 4, 5, 4, 2, 0, 2, 1, 4, 3, 4,\n",
              "       3, 4, 5, 0, 1, 0, 4, 3, 0, 2, 1, 0, 2, 4, 3, 0, 3, 3, 2, 1, 5, 0,\n",
              "       2, 2, 3, 3, 4, 5, 0, 5, 0, 2, 0, 5, 2, 2, 5, 5, 4, 4, 2, 4, 0, 1,\n",
              "       3, 1, 5, 0, 3, 3, 1, 3, 5, 3, 4, 0, 4, 1, 2, 3, 2, 2, 4, 4, 0, 5,\n",
              "       5, 0, 4, 3, 2, 5, 1, 0, 1, 4, 1, 4, 3, 0, 5, 0, 4, 2, 3, 2, 3, 1,\n",
              "       2, 2, 1, 1, 1, 2, 3, 4, 3, 4, 3, 1, 3, 1, 1, 0, 0, 4, 0, 4, 5, 0,\n",
              "       3, 3, 0, 1, 1, 4, 4, 0, 0, 1, 4, 0, 3, 4, 0, 2, 0, 5, 4, 3, 4, 4,\n",
              "       5, 4, 3, 0, 0, 5, 2, 2, 0, 1, 1, 3, 0, 2, 4, 0, 5, 5, 2, 3, 2, 0,\n",
              "       1, 5, 2, 4, 0, 1, 1, 2, 5, 2, 4, 2, 3, 1, 4, 3, 1, 1, 0, 5, 4, 4,\n",
              "       1, 5, 4, 3, 0, 3, 2, 0, 4, 3, 5, 2, 5, 0, 0, 1, 2, 1, 2, 2, 0, 4,\n",
              "       2, 2, 4, 5, 5, 5, 2, 0, 0, 2, 3, 0, 2, 0, 1, 4, 4, 2, 2, 5, 0, 5,\n",
              "       3, 3, 5, 1, 1, 0, 1, 5, 5, 1, 1, 5, 0, 2, 4, 0, 2, 1, 0, 3, 5, 5,\n",
              "       1, 2, 4, 0, 1, 2, 5, 2, 3, 1, 4, 0, 3, 5, 0, 5, 4, 5, 3, 3, 1, 0,\n",
              "       0, 0, 0, 0, 3, 5, 2, 5, 5, 1, 2, 0, 2, 2, 1, 5, 2, 4, 3, 3, 0, 5,\n",
              "       3, 5, 3, 2, 3, 4, 5, 2, 5, 4, 1, 5, 0, 5, 3, 5, 1, 0, 2, 3, 3, 4,\n",
              "       2, 4, 2, 4, 2, 3, 5, 1, 4, 3, 5, 3, 2, 3, 0, 0, 5, 1, 5, 2, 2, 3,\n",
              "       2, 3, 1, 3, 5, 1, 5, 0, 4, 4, 3, 3, 1, 5, 3, 2, 4, 1, 0, 1, 1, 4,\n",
              "       5, 3, 5, 2, 3, 0, 1, 5, 5, 2, 0, 0, 4, 0, 0, 0, 5, 5, 5, 3, 5, 4,\n",
              "       1, 4, 2, 5, 4, 1, 4, 4, 4, 0, 2, 1, 0, 3, 4, 4, 4, 2, 0, 4, 0, 4,\n",
              "       3, 3, 1, 3, 5, 1, 5, 2, 2, 3, 5, 4, 5, 1, 5, 3, 4, 5, 2, 0, 4, 3,\n",
              "       2, 2, 5, 0, 3, 4, 4, 4, 1, 5, 0, 5, 1, 3, 1, 5, 2, 0, 0, 0, 3, 1,\n",
              "       4, 5, 1, 1, 3, 1, 2, 1, 1, 4, 5, 5, 2, 4, 5, 1, 1, 0, 1, 3, 1, 5,\n",
              "       2, 2, 4, 4, 3, 0, 4, 2, 4, 4, 1, 2, 0, 1, 5, 4, 0, 5, 4, 4, 2, 1,\n",
              "       3, 5, 2, 1, 0, 0, 0, 1, 3, 1, 3, 4, 3, 3, 0, 3, 0, 0, 5, 1, 0, 1,\n",
              "       2, 0, 4, 4, 4, 0, 4, 4, 2, 3, 5, 3, 0, 5, 5, 4, 5, 5, 2, 1, 2, 3,\n",
              "       5, 5, 4, 1, 4, 2, 1, 4, 1, 0, 5, 5, 1, 5, 0, 3, 2, 2, 2, 3, 1, 4,\n",
              "       4, 4, 3, 2, 1, 5, 2, 3, 1, 1, 4, 4, 2, 3, 3, 3, 1, 3, 0, 1, 5, 4,\n",
              "       3, 1, 5, 2, 1, 5, 4, 2, 1, 3, 2, 3, 0, 5, 4, 3, 3, 3, 1, 0, 5, 2,\n",
              "       5, 2, 0, 4, 0, 1, 0, 1, 4, 2, 3, 4, 2, 3, 4, 3, 4, 5, 0, 2, 0, 1,\n",
              "       4, 0, 4, 3, 4, 5, 3, 2, 5, 1, 2, 4, 5, 5, 2, 0, 4, 1, 1, 3, 5, 1,\n",
              "       2, 0, 2, 2, 4, 2, 5, 1, 2, 1, 3, 4, 0, 5, 5, 1, 0, 2, 2, 0, 3, 2,\n",
              "       1, 5, 2, 5, 0, 1, 0, 0, 5, 1, 4, 3, 5, 4, 0, 3, 0, 3, 2, 3, 4, 3,\n",
              "       5, 5, 0, 3, 5, 3, 5, 3, 2, 2, 1, 1, 1, 4, 3, 1, 3, 4, 1, 0, 5, 0,\n",
              "       0, 4, 5, 3, 2, 1, 3, 3, 5, 4, 2, 3, 1, 4, 5, 4, 5, 1, 1, 1, 1, 5,\n",
              "       3, 2, 3, 0, 0, 4, 2, 2, 4, 2, 0, 4, 1, 0])"
            ]
          },
          "metadata": {},
          "execution_count": 35
        }
      ],
      "source": [
        "y_pred = np.argmax(y_pred, axis=1)\n",
        "y_pred"
      ]
    },
    {
      "cell_type": "code",
      "execution_count": 36,
      "metadata": {
        "id": "6KTM-eeGQJUv",
        "colab": {
          "base_uri": "https://localhost:8080/"
        },
        "outputId": "a4433ac7-11b0-4722-a25b-04ac5962b4a0"
      },
      "outputs": [
        {
          "output_type": "stream",
          "name": "stdout",
          "text": [
            "[[160   0   0   0   0   0]\n",
            " [  0 160   0   0   0   0]\n",
            " [  0   0 160   0   0   0]\n",
            " [  0   0   0 160   0   0]\n",
            " [  0   0   0   0 160   0]\n",
            " [  0   0   0   0   0 160]]\n",
            "classification report\n",
            "              precision    recall  f1-score   support\n",
            "\n",
            "           0       1.00      1.00      1.00       160\n",
            "           1       1.00      1.00      1.00       160\n",
            "           2       1.00      1.00      1.00       160\n",
            "           3       1.00      1.00      1.00       160\n",
            "           4       1.00      1.00      1.00       160\n",
            "           5       1.00      1.00      1.00       160\n",
            "\n",
            "    accuracy                           1.00       960\n",
            "   macro avg       1.00      1.00      1.00       960\n",
            "weighted avg       1.00      1.00      1.00       960\n",
            "\n"
          ]
        }
      ],
      "source": [
        "from sklearn.metrics import confusion_matrix, classification_report\n",
        "\n",
        "\n",
        "cm = confusion_matrix(test_generator.labels, y_pred)\n",
        "print(cm)\n",
        "print('classification report')\n",
        "print( classification_report(test_generator.labels, y_pred))"
      ]
    },
    {
      "cell_type": "code",
      "execution_count": 37,
      "metadata": {
        "id": "CzgMXUVRQSLO",
        "colab": {
          "base_uri": "https://localhost:8080/",
          "height": 513
        },
        "outputId": "c667b6c0-e5cc-4d6c-fb5f-0e8981868c3f"
      },
      "outputs": [
        {
          "output_type": "display_data",
          "data": {
            "text/plain": [
              "<Figure size 576x576 with 2 Axes>"
            ],
            "image/png": "[encoded data removed]"
          },
          "metadata": {
            "needs_background": "light"
          }
        }
      ],
      "source": [
        "import seaborn as sns\n",
        "f,ax = plt.subplots(figsize=(8, 8))\n",
        "sns.heatmap(cm, annot=True, linewidths=0.01,cmap=\"Oranges\",linecolor=\"gray\", fmt= '.1f',ax=ax)\n",
        "plt.xlabel(\"Predicted Label\")\n",
        "plt.ylabel(\"True Label\")\n",
        "plt.title(\"Confusion Matrix\")\n",
        "plt.show()"
      ]
    },
    {
      "cell_type": "code",
      "source": [
        "class_map = dict([(v, k) for k, v in train_generator.class_indices.items()])\n",
        "print(class_map)"
      ],
      "metadata": {
        "colab": {
          "base_uri": "https://localhost:8080/"
        },
        "id": "058WTTqI_eBG",
        "outputId": "052f35a7-06a6-44df-bfe0-fbef7c1eb5a3"
      },
      "execution_count": 38,
      "outputs": [
        {
          "output_type": "stream",
          "name": "stdout",
          "text": [
            "{0: 'F', 1: 'M', 2: 'N', 3: 'Q', 4: 'S', 5: 'V'}\n"
          ]
        }
      ]
    },
    {
      "cell_type": "code",
      "source": [
        "from tensorflow.keras.models import load_model\n",
        "from tensorflow.keras.preprocessing import image\n",
        "test_image_path = '/content/ECG_Image_data/train/F/F105.png'\n",
        "\n",
        "def generate_predictions(test_image_path, actual_label):\n",
        "    \n",
        "    # 1. Load and preprocess the image\n",
        "    test_img = image.load_img(test_image_path, target_size=(224, 224))\n",
        "    test_img_arr = image.img_to_array(test_img)/255.0\n",
        "    test_img_input = test_img_arr.reshape((1, test_img_arr.shape[0], test_img_arr.shape[1], test_img_arr.shape[2]))\n",
        "\n",
        "    # 2. Make Predictions\n",
        "    predicted_label = np.argmax(best_model1.predict(test_img_input))\n",
        "    predicted_beat = class_map[predicted_label]\n",
        "    plt.figure(figsize=(4, 4))\n",
        "    plt.imshow(test_img_arr)\n",
        "    plt.title(\"Predicted Label: {}, Actual Label: {}\".format(predicted_beat, actual_label))\n",
        "    plt.grid()\n",
        "    plt.axis('off')\n",
        "    plt.show()\n",
        "\n",
        "# call the function\n",
        "generate_predictions(test_image_path, actual_label='F')"
      ],
      "metadata": {
        "colab": {
          "base_uri": "https://localhost:8080/",
          "height": 282
        },
        "id": "nKDhjcoi_d6W",
        "outputId": "b2cf76da-8a46-4fad-a550-8626294b7882"
      },
      "execution_count": 39,
      "outputs": [
        {
          "output_type": "stream",
          "name": "stdout",
          "text": [
            "1/1 [==============================] - 1s 770ms/step\n"
          ]
        },
        {
          "output_type": "display_data",
          "data": {
            "text/plain": [
              "<Figure size 288x288 with 1 Axes>"
            ],
            "image/png": "[encoded data removed]"
          },
          "metadata": {
            "needs_background": "light"
          }
        }
      ]
    },
    {
      "cell_type": "code",
      "execution_count": 40,
      "metadata": {
        "id": "EnmKRQtoQSID"
      },
      "outputs": [],
      "source": [
        "#from tensorflow.keras.models import load_model\n",
        "#from tensorflow.keras.preprocessing import image\n"
      ]
    },
    {
      "cell_type": "code",
      "source": [
        "#img=image.load_img('/content/ECG_Image_data/test/N/N10007.png',target_size=(224,224))"
      ],
      "metadata": {
        "id": "ZRMZ836cBf_O"
      },
      "execution_count": 41,
      "outputs": []
    },
    {
      "cell_type": "code",
      "source": [
        "#plt.imshow(img)"
      ],
      "metadata": {
        "id": "kWg-L30K-oTL",
        "colab": {
          "base_uri": "https://localhost:8080/",
          "height": 287
        },
        "outputId": "7670d136-1250-4b05-f419-ced536cf3634"
      },
      "execution_count": 42,
      "outputs": [
        {
          "output_type": "execute_result",
          "data": {
            "text/plain": [
              "<matplotlib.image.AxesImage at 0x7f6ef8fe3250>"
            ]
          },
          "metadata": {},
          "execution_count": 42
        },
        {
          "output_type": "display_data",
          "data": {
            "text/plain": [
              "<Figure size 432x288 with 1 Axes>"
            ],
            "image/png": "[encoded data removed]"
          },
          "metadata": {
            "needs_background": "light"
          }
        }
      ]
    },
    {
      "cell_type": "code",
      "source": [
        "#x=image.img_to_array(img)\n",
        "#x"
      ],
      "metadata": {
        "id": "8-9AzqGsBf7y",
        "colab": {
          "base_uri": "https://localhost:8080/"
        },
        "outputId": "8aaaf938-48c3-4146-fba3-1ec2d4794cb2"
      },
      "execution_count": 43,
      "outputs": [
        {
          "output_type": "execute_result",
          "data": {
            "text/plain": [
              "array([[[255., 255., 255.],\n",
              "        [255., 255., 255.],\n",
              "        [255., 255., 255.],\n",
              "        ...,\n",
              "        [255., 255., 255.],\n",
              "        [255., 255., 255.],\n",
              "        [255., 255., 255.]],\n",
              "\n",
              "       [[255., 255., 255.],\n",
              "        [255., 255., 255.],\n",
              "        [255., 255., 255.],\n",
              "        ...,\n",
              "        [255., 255., 255.],\n",
              "        [255., 255., 255.],\n",
              "        [255., 255., 255.]],\n",
              "\n",
              "       [[255., 255., 255.],\n",
              "        [255., 255., 255.],\n",
              "        [255., 255., 255.],\n",
              "        ...,\n",
              "        [255., 255., 255.],\n",
              "        [255., 255., 255.],\n",
              "        [255., 255., 255.]],\n",
              "\n",
              "       ...,\n",
              "\n",
              "       [[255., 255., 255.],\n",
              "        [255., 255., 255.],\n",
              "        [255., 255., 255.],\n",
              "        ...,\n",
              "        [255., 255., 255.],\n",
              "        [255., 255., 255.],\n",
              "        [255., 255., 255.]],\n",
              "\n",
              "       [[255., 255., 255.],\n",
              "        [255., 255., 255.],\n",
              "        [255., 255., 255.],\n",
              "        ...,\n",
              "        [255., 255., 255.],\n",
              "        [255., 255., 255.],\n",
              "        [255., 255., 255.]],\n",
              "\n",
              "       [[255., 255., 255.],\n",
              "        [255., 255., 255.],\n",
              "        [255., 255., 255.],\n",
              "        ...,\n",
              "        [255., 255., 255.],\n",
              "        [255., 255., 255.],\n",
              "        [255., 255., 255.]]], dtype=float32)"
            ]
          },
          "metadata": {},
          "execution_count": 43
        }
      ]
    },
    {
      "cell_type": "code",
      "source": [
        "#x.shape"
      ],
      "metadata": {
        "id": "KD6O6ZTM4pJI",
        "colab": {
          "base_uri": "https://localhost:8080/"
        },
        "outputId": "a4401abb-12d5-45c0-ad39-9252d46f50ac"
      },
      "execution_count": 44,
      "outputs": [
        {
          "output_type": "execute_result",
          "data": {
            "text/plain": [
              "(224, 224, 3)"
            ]
          },
          "metadata": {},
          "execution_count": 44
        }
      ]
    },
    {
      "cell_type": "code",
      "source": [
        "#x=x/255"
      ],
      "metadata": {
        "id": "u9kxdSjr4t9v"
      },
      "execution_count": 45,
      "outputs": []
    },
    {
      "cell_type": "code",
      "source": [
        "'''Y=np.expand_dims(x,axis=0)\n",
        "img_data=preprocess_input(Y)\n",
        "img_data.shape'''\n"
      ],
      "metadata": {
        "id": "CCfbaDAB6_Lf",
        "colab": {
          "base_uri": "https://localhost:8080/"
        },
        "outputId": "1200976b-f75b-46d1-af8c-0260414dec4d"
      },
      "execution_count": 46,
      "outputs": [
        {
          "output_type": "execute_result",
          "data": {
            "text/plain": [
              "(1, 224, 224, 3)"
            ]
          },
          "metadata": {},
          "execution_count": 46
        }
      ]
    },
    {
      "cell_type": "code",
      "source": [
        "#best_model1.predict(img_data)"
      ],
      "metadata": {
        "id": "ZTx0Ljns4yxq",
        "colab": {
          "base_uri": "https://localhost:8080/"
        },
        "outputId": "cfd26f8b-9a72-4d54-e5b8-4250b53464a1"
      },
      "execution_count": 47,
      "outputs": [
        {
          "output_type": "stream",
          "name": "stdout",
          "text": [
            "1/1 [==============================] - 0s 15ms/step\n"
          ]
        },
        {
          "output_type": "execute_result",
          "data": {
            "text/plain": [
              "array([[1.99040915e-05, 7.35723506e-06, 9.89771783e-01, 1.02008916e-02,\n",
              "        1.64863467e-09, 1.37065975e-11]], dtype=float32)"
            ]
          },
          "metadata": {},
          "execution_count": 47
        }
      ]
    },
    {
      "cell_type": "code",
      "source": [
        "#a=np.argmax(best_model1.predict(img_data))"
      ],
      "metadata": {
        "id": "2EcS0idg46Lg",
        "colab": {
          "base_uri": "https://localhost:8080/"
        },
        "outputId": "7fc6157d-6b9d-4184-b663-e461bbd01b18"
      },
      "execution_count": 48,
      "outputs": [
        {
          "output_type": "stream",
          "name": "stdout",
          "text": [
            "1/1 [==============================] - 0s 14ms/step\n"
          ]
        }
      ]
    },
    {
      "cell_type": "code",
      "source": [
        "'''predicted_vegetable = class_map[a]\n",
        "plt.figure(figsize=(4, 4))\n",
        "plt.imshow(x)\n",
        "plt.title(\"Predicted Label: {}, Actual Label: {}\".format(predicted_vegetable, 'N'))\n",
        "plt.grid()\n",
        "plt.axis('off')\n",
        "plt.show()\n",
        "'''"
      ],
      "metadata": {
        "colab": {
          "base_uri": "https://localhost:8080/",
          "height": 302
        },
        "id": "4qNR2synKKzn",
        "outputId": "8c7aba31-5ddb-4a60-91d7-780aad89021c"
      },
      "execution_count": 49,
      "outputs": [
        {
          "output_type": "stream",
          "name": "stderr",
          "text": [
            "WARNING:matplotlib.image:Clipping input data to the valid range for imshow with RGB data ([0..1] for floats or [0..255] for integers).\n"
          ]
        },
        {
          "output_type": "display_data",
          "data": {
            "text/plain": [
              "<Figure size 288x288 with 1 Axes>"
            ],
            "image/png": "[encoded data removed]"
          },
          "metadata": {
            "needs_background": "light"
          }
        }
      ]
    },
    {
      "cell_type": "code",
      "source": [
        "#import cv2"
      ],
      "metadata": {
        "id": "lXWeY7Ee5Cfh"
      },
      "execution_count": 50,
      "outputs": []
    },
    {
      "cell_type": "code",
      "source": [
        "#test_img=cv2.imread('/content/ECG_Image_data/test/N/N10007.png')"
      ],
      "metadata": {
        "id": "6SXnQayk0Ndn"
      },
      "execution_count": 51,
      "outputs": []
    },
    {
      "cell_type": "code",
      "source": [
        "#plt.imshow(test_img)"
      ],
      "metadata": {
        "id": "aJ5UfaZ-0NLA",
        "colab": {
          "base_uri": "https://localhost:8080/",
          "height": 287
        },
        "outputId": "aeae78e2-f3c1-4616-b056-a7137bd9c083"
      },
      "execution_count": 52,
      "outputs": [
        {
          "output_type": "execute_result",
          "data": {
            "text/plain": [
              "<matplotlib.image.AxesImage at 0x7f6e681b5460>"
            ]
          },
          "metadata": {},
          "execution_count": 52
        },
        {
          "output_type": "display_data",
          "data": {
            "text/plain": [
              "<Figure size 432x288 with 1 Axes>"
            ],
            "image/png": "[encoded data removed]"
          },
          "metadata": {
            "needs_background": "light"
          }
        }
      ]
    },
    {
      "cell_type": "code",
      "source": [
        "#test_img=cv2.resize(test_img,(224,224))"
      ],
      "metadata": {
        "id": "IX3-M9zS0NBl"
      },
      "execution_count": 53,
      "outputs": []
    },
    {
      "cell_type": "code",
      "source": [
        "#test_img.shape"
      ],
      "metadata": {
        "id": "OTU0X2b302dB",
        "colab": {
          "base_uri": "https://localhost:8080/"
        },
        "outputId": "40ec2516-9794-4420-b571-97542e54d17b"
      },
      "execution_count": 54,
      "outputs": [
        {
          "output_type": "execute_result",
          "data": {
            "text/plain": [
              "(224, 224, 3)"
            ]
          },
          "metadata": {},
          "execution_count": 54
        }
      ]
    },
    {
      "cell_type": "code",
      "source": [
        "#test_input=test_img.reshape((1,224,224,3))"
      ],
      "metadata": {
        "id": "NsIlXnq002Zq"
      },
      "execution_count": 55,
      "outputs": []
    },
    {
      "cell_type": "code",
      "source": [
        "#vgg_model.predict(test_input)"
      ],
      "metadata": {
        "id": "RtlPlja2064B",
        "colab": {
          "base_uri": "https://localhost:8080/"
        },
        "outputId": "4d284954-496a-4299-8d5f-75e31fb808ce"
      },
      "execution_count": 56,
      "outputs": [
        {
          "output_type": "stream",
          "name": "stdout",
          "text": [
            "1/1 [==============================] - 0s 136ms/step\n"
          ]
        },
        {
          "output_type": "execute_result",
          "data": {
            "text/plain": [
              "array([[1.0000000e+00, 0.0000000e+00, 0.0000000e+00, 0.0000000e+00,\n",
              "        6.1191703e-18, 0.0000000e+00]], dtype=float32)"
            ]
          },
          "metadata": {},
          "execution_count": 56
        }
      ]
    },
    {
      "cell_type": "code",
      "source": [],
      "metadata": {
        "id": "0SQ_m9YG060q"
      },
      "execution_count": 56,
      "outputs": []
    }
  ],
  "metadata": {
    "accelerator": "GPU",
    "colab": {
      "provenance": [],
      "authorship_tag": "ABX9TyMoLrmdHxePtYjCGeNUmYO2",
      "include_colab_link": true
    },
    "gpuClass": "standard",
    "kernelspec": {
      "display_name": "Python 3",
      "name": "python3"
    },
    "language_info": {
      "name": "python"
    }
  },
  "nbformat": 4,
  "nbformat_minor": 0
}
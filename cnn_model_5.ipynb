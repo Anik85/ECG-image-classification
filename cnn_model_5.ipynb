{
  "cells": [
    {
      "cell_type": "markdown",
      "metadata": {
        "id": "view-in-github",
        "colab_type": "text"
      },
      "source": [
        "<a href=\"https://colab.research.google.com/github/Anik85/Anik85/blob/main/cnn_model_5.ipynb\" target=\"_parent\"><img src=\"https://colab.research.google.com/assets/colab-badge.svg\" alt=\"Open In Colab\"/></a>"
      ]
    },
    {
      "cell_type": "code",
      "execution_count": 1,
      "metadata": {
        "id": "BhFw9w2e4Ei2"
      },
      "outputs": [],
      "source": [
        "!mkdir -p ~/.kaggle\n",
        "!cp kaggle.json ~/.kaggle/"
      ]
    },
    {
      "cell_type": "code",
      "execution_count": 2,
      "metadata": {
        "colab": {
          "base_uri": "https://localhost:8080/"
        },
        "id": "3EwKB0RA6-NP",
        "outputId": "5e0fda29-8c5f-42ac-fcf2-0df42e5f379a"
      },
      "outputs": [
        {
          "output_type": "stream",
          "name": "stdout",
          "text": [
            "Warning: Your Kaggle API key is readable by other users on this system! To fix this, you can run 'chmod 600 /root/.kaggle/kaggle.json'\n",
            "Downloading ecg-image-data.zip to /content\n",
            "100% 857M/858M [00:43<00:00, 21.6MB/s]\n",
            "100% 858M/858M [00:43<00:00, 20.7MB/s]\n"
          ]
        }
      ],
      "source": [
        "!kaggle datasets download -d erhmrai/ecg-image-data"
      ]
    },
    {
      "cell_type": "code",
      "execution_count": 3,
      "metadata": {
        "id": "6Xo8Lw0v8em5"
      },
      "outputs": [],
      "source": [
        "import zipfile\n",
        "zip_ref=zipfile.ZipFile('/content/ecg-image-data.zip','r')\n",
        "zip_ref.extractall('/content')\n",
        "zip_ref.close()"
      ]
    },
    {
      "cell_type": "code",
      "execution_count": 4,
      "metadata": {
        "id": "5Etw9xt38fCo"
      },
      "outputs": [],
      "source": [
        "import numpy as np\n",
        "import pandas as pd\n",
        "from pathlib import Path\n",
        "import os.path\n",
        "import matplotlib.pyplot as plt\n",
        "import tensorflow as tf\n",
        "from tensorflow.keras.models import Sequential\n",
        "from tensorflow.keras.layers import Convolution2D\n",
        "from tensorflow.keras.layers import MaxPooling2D\n",
        "from tensorflow.keras.layers import Flatten\n",
        "from tensorflow.keras.layers import Dense\n",
        "from tensorflow.keras.layers import Dropout, Activation , BatchNormalization\n",
        "from tensorflow.keras.preprocessing.image import ImageDataGenerator\n",
        "from tensorflow.keras.layers import Dense, Conv2D, MaxPool2D , Flatten\n",
        "from tensorflow.keras.losses import categorical_crossentropy"
      ]
    },
    {
      "cell_type": "code",
      "execution_count": 5,
      "metadata": {
        "colab": {
          "base_uri": "https://localhost:8080/",
          "height": 53
        },
        "id": "2rv_UiC28g9L",
        "outputId": "2370ad73-f2a1-4901-864a-35aea99e64dd"
      },
      "outputs": [
        {
          "output_type": "execute_result",
          "data": {
            "text/plain": [
              "\"import cv2\\npath =r'/content/ECG_Image_data/test/S/S1070.png'\\nx=plt.imread(path)\\n#x = cv2.merge((x,x,x))\\nprint(x.shape)\\nplt.imshow(x)\""
            ],
            "application/vnd.google.colaboratory.intrinsic+json": {
              "type": "string"
            }
          },
          "metadata": {},
          "execution_count": 5
        }
      ],
      "source": [
        "'''import cv2\n",
        "path =r'/content/ECG_Image_data/test/S/S1070.png'\n",
        "x=plt.imread(path)\n",
        "#x = cv2.merge((x,x,x))\n",
        "print(x.shape)\n",
        "plt.imshow(x)'''"
      ]
    },
    {
      "cell_type": "code",
      "execution_count": 6,
      "metadata": {
        "colab": {
          "base_uri": "https://localhost:8080/",
          "height": 89
        },
        "id": "9h5VN5-s8jaw",
        "outputId": "3f322469-2c50-42c2-e935-aa1154432454"
      },
      "outputs": [
        {
          "output_type": "execute_result",
          "data": {
            "text/plain": [
              "\"train_dir = Path('/content/ECG_Image_data/train')\\n\\nfilepaths = list(train_dir.glob(r'**/*.png'))\\nlabels = list(map(lambda x: os.path.split(os.path.split(x)[0])[1], filepaths))\\n\\n\\nfilepaths = pd.Series(filepaths, name='Filepath').astype(str)\\nlabels = pd.Series(labels, name='Label')\\n\\ndataframe = pd.concat([filepaths , labels] , axis=1)\\ndataframe\""
            ],
            "application/vnd.google.colaboratory.intrinsic+json": {
              "type": "string"
            }
          },
          "metadata": {},
          "execution_count": 6
        }
      ],
      "source": [
        "'''train_dir = Path('/content/ECG_Image_data/train')\n",
        "\n",
        "filepaths = list(train_dir.glob(r'**/*.png'))\n",
        "labels = list(map(lambda x: os.path.split(os.path.split(x)[0])[1], filepaths))\n",
        "\n",
        "\n",
        "filepaths = pd.Series(filepaths, name='Filepath').astype(str)\n",
        "labels = pd.Series(labels, name='Label')\n",
        "\n",
        "dataframe = pd.concat([filepaths , labels] , axis=1)\n",
        "dataframe'''"
      ]
    },
    {
      "cell_type": "code",
      "execution_count": 7,
      "metadata": {
        "id": "TDdBMbjm8pTe"
      },
      "outputs": [],
      "source": [
        "#dataframe['Label'].value_counts()"
      ]
    },
    {
      "cell_type": "code",
      "execution_count": 8,
      "metadata": {
        "colab": {
          "base_uri": "https://localhost:8080/",
          "height": 71
        },
        "id": "9Qxo3qOM8sAS",
        "outputId": "11e73c90-7a86-474f-f5e1-9c73ea9e69ae"
      },
      "outputs": [
        {
          "output_type": "execute_result",
          "data": {
            "text/plain": [
              "'samples = []\\nfor category in dataframe[\\'Label\\'].unique():\\n    category_slice = dataframe.query(\"Label == @category\")\\n    samples.append(category_slice.sample(640, random_state=1))\\n\\ndataframe_train = pd.concat(samples, axis=0).sample(frac=1.0, random_state=1).reset_index(drop=True)\\ndataframe_train[\\'Label\\'].value_counts()'"
            ],
            "application/vnd.google.colaboratory.intrinsic+json": {
              "type": "string"
            }
          },
          "metadata": {},
          "execution_count": 8
        }
      ],
      "source": [
        "'''samples = []\n",
        "for category in dataframe['Label'].unique():\n",
        "    category_slice = dataframe.query(\"Label == @category\")\n",
        "    samples.append(category_slice.sample(640, random_state=1))\n",
        "\n",
        "dataframe_train = pd.concat(samples, axis=0).sample(frac=1.0, random_state=1).reset_index(drop=True)\n",
        "dataframe_train['Label'].value_counts()'''"
      ]
    },
    {
      "cell_type": "code",
      "execution_count": 9,
      "metadata": {
        "id": "I4H2BmT98uSQ"
      },
      "outputs": [],
      "source": [
        "#dataframe_train"
      ]
    },
    {
      "cell_type": "code",
      "execution_count": 10,
      "metadata": {
        "colab": {
          "base_uri": "https://localhost:8080/",
          "height": 89
        },
        "id": "svQVNBi08wYk",
        "outputId": "330e5736-0d81-489c-babb-b5f8263e8021"
      },
      "outputs": [
        {
          "output_type": "execute_result",
          "data": {
            "text/plain": [
              "\"test_dir = Path('/content/ECG_Image_data/test')\\n\\nfilepaths = list(test_dir.glob(r'**/*.png'))\\nlabels = list(map(lambda x: os.path.split(os.path.split(x)[0])[1], filepaths))\\n\\nfilepaths = pd.Series(filepaths, name='Filepath').astype(str)\\nlabels = pd.Series(labels, name='Label')\\n\\ndataframe_test = pd.concat([filepaths , labels] , axis=1)\\ndataframe_test\""
            ],
            "application/vnd.google.colaboratory.intrinsic+json": {
              "type": "string"
            }
          },
          "metadata": {},
          "execution_count": 10
        }
      ],
      "source": [
        "'''test_dir = Path('/content/ECG_Image_data/test')\n",
        "\n",
        "filepaths = list(test_dir.glob(r'**/*.png'))\n",
        "labels = list(map(lambda x: os.path.split(os.path.split(x)[0])[1], filepaths))\n",
        "\n",
        "filepaths = pd.Series(filepaths, name='Filepath').astype(str)\n",
        "labels = pd.Series(labels, name='Label')\n",
        "\n",
        "dataframe_test = pd.concat([filepaths , labels] , axis=1)\n",
        "dataframe_test'''"
      ]
    },
    {
      "cell_type": "code",
      "execution_count": 11,
      "metadata": {
        "id": "8kQRxGRE8yWj"
      },
      "outputs": [],
      "source": [
        "#dataframe_test['Label'].value_counts()"
      ]
    },
    {
      "cell_type": "code",
      "execution_count": 12,
      "metadata": {
        "colab": {
          "base_uri": "https://localhost:8080/",
          "height": 71
        },
        "id": "VNXbvgut87jZ",
        "outputId": "490e2ea8-3f8f-469c-9cf7-de921b0d9b2c"
      },
      "outputs": [
        {
          "output_type": "execute_result",
          "data": {
            "text/plain": [
              "'samples = []\\nfor category in dataframe_test[\\'Label\\'].unique():\\n    category_slice = dataframe_test.query(\"Label == @category\")\\n    samples.append(category_slice.sample(160, random_state=1))\\n\\ndataframe_test = pd.concat(samples, axis=0).sample(frac=1.0, random_state=1).reset_index(drop=True)\\ndataframe_test[\\'Label\\'].value_counts()'"
            ],
            "application/vnd.google.colaboratory.intrinsic+json": {
              "type": "string"
            }
          },
          "metadata": {},
          "execution_count": 12
        }
      ],
      "source": [
        "'''samples = []\n",
        "for category in dataframe_test['Label'].unique():\n",
        "    category_slice = dataframe_test.query(\"Label == @category\")\n",
        "    samples.append(category_slice.sample(160, random_state=1))\n",
        "\n",
        "dataframe_test = pd.concat(samples, axis=0).sample(frac=1.0, random_state=1).reset_index(drop=True)\n",
        "dataframe_test['Label'].value_counts()'''"
      ]
    },
    {
      "cell_type": "code",
      "execution_count": 13,
      "metadata": {
        "id": "h_SxGeCr89gW"
      },
      "outputs": [],
      "source": [
        "#dataframe_test"
      ]
    },
    {
      "cell_type": "code",
      "execution_count": 14,
      "metadata": {
        "colab": {
          "base_uri": "https://localhost:8080/",
          "height": 53
        },
        "id": "NrC7D59K8_QQ",
        "outputId": "a7d5ee14-2c16-44ac-8adc-55b90d065fad"
      },
      "outputs": [
        {
          "output_type": "execute_result",
          "data": {
            "text/plain": [
              "'from keras.utils import img_to_array,load_img\\nimg = load_img(dataframe_test[\\'Filepath\\'].values[1])\\nplt.imshow(img)\\nplt.axis(\"on\")\\nplt.show()'"
            ],
            "application/vnd.google.colaboratory.intrinsic+json": {
              "type": "string"
            }
          },
          "metadata": {},
          "execution_count": 14
        }
      ],
      "source": [
        "'''from keras.utils import img_to_array,load_img\n",
        "img = load_img(dataframe_test['Filepath'].values[1])\n",
        "plt.imshow(img)\n",
        "plt.axis(\"on\")\n",
        "plt.show()'''"
      ]
    },
    {
      "cell_type": "code",
      "execution_count": 15,
      "metadata": {
        "id": "3H4RZlCL9B_x"
      },
      "outputs": [],
      "source": [
        "labels=list()\n",
        "path='/content/ECG_Image_data/train/'\n",
        "os.listdir(path)\n",
        "for i in os.listdir(path):\n",
        "    labels.append(i)"
      ]
    },
    {
      "cell_type": "code",
      "execution_count": 16,
      "metadata": {
        "id": "QiNv76Ws9KvI",
        "colab": {
          "base_uri": "https://localhost:8080/"
        },
        "outputId": "32dac525-5808-4b81-efb7-6ff6b0766787"
      },
      "outputs": [
        {
          "output_type": "execute_result",
          "data": {
            "text/plain": [
              "['Q', 'F', 'S', 'V', 'N', 'M']"
            ]
          },
          "metadata": {},
          "execution_count": 16
        }
      ],
      "source": [
        "labels"
      ]
    },
    {
      "cell_type": "code",
      "execution_count": 17,
      "metadata": {
        "id": "pCkTfdiP-Yiv",
        "colab": {
          "base_uri": "https://localhost:8080/"
        },
        "outputId": "b30c85b2-809f-4efc-d018-2db1b73b8cf9"
      },
      "outputs": [
        {
          "output_type": "stream",
          "name": "stdout",
          "text": [
            "Length of :Q= 6431\n",
            "Length of :F= 642\n",
            "Length of :S= 2223\n",
            "Length of :V= 5789\n",
            "Length of :N= 75709\n",
            "Length of :M= 8405\n",
            "Total Samples:99199\n"
          ]
        }
      ],
      "source": [
        "Total_sample=0\n",
        "for i in os.listdir(path):\n",
        "    print(f'Length of :{i}= {len(os.listdir(os.path.join(path,i)))}')\n",
        "    Total_sample+=len(os.listdir(os.path.join(path,i)))\n",
        "print(f'Total Samples:{Total_sample}')"
      ]
    },
    {
      "cell_type": "code",
      "execution_count": 18,
      "metadata": {
        "id": "Uv00_LC2DUyR"
      },
      "outputs": [],
      "source": [
        "#!pip install tqdm\n",
        "from tqdm import tqdm"
      ]
    },
    {
      "cell_type": "code",
      "execution_count": 19,
      "metadata": {
        "id": "SIf6dYigDWnP",
        "colab": {
          "base_uri": "https://localhost:8080/"
        },
        "outputId": "eefaae1f-1616-4b4d-f278-ed3bef6861a6"
      },
      "outputs": [
        {
          "output_type": "stream",
          "name": "stderr",
          "text": [
            "  5%|▍         | 300/6431 [00:05<01:49, 55.92it/s]\n",
            " 47%|████▋     | 300/642 [00:04<00:05, 64.71it/s]\n",
            " 13%|█▎        | 300/2223 [00:04<00:29, 65.26it/s]\n",
            "  5%|▌         | 300/5789 [00:05<01:36, 57.13it/s]\n",
            "  0%|          | 300/75709 [00:04<19:14, 65.31it/s]\n",
            "  4%|▎         | 300/8405 [00:06<02:54, 46.46it/s]\n"
          ]
        }
      ],
      "source": [
        "import skimage\n",
        "import cv2\n",
        "from skimage.io import imread,imshow\n",
        "from skimage import transform\n",
        "img_size=170     # 170x170\n",
        "X=[] \n",
        "Y=[]\n",
        "i=0\n",
        "for idx,img in enumerate(os.listdir(path)):\n",
        "    for img_name in tqdm(os.listdir(path+img)):\n",
        "        if i<300:\n",
        "            img_file=cv2.imread(path+img+'/'+img_name)\n",
        "            if img_file is not None:\n",
        "                img_file=transform.resize(img_file,(img_size,img_size,3))\n",
        "                X.append(img_file)\n",
        "                Y.append(idx)\n",
        "        else:\n",
        "            break\n",
        "        i=i+1\n",
        "    i=0\n",
        "X=np.asarray(X)\n",
        "Y=np.asarray(Y)"
      ]
    },
    {
      "cell_type": "code",
      "execution_count": 20,
      "metadata": {
        "id": "_EggC4jZDYN-",
        "colab": {
          "base_uri": "https://localhost:8080/",
          "height": 281
        },
        "outputId": "6a0e0880-d09a-4b5d-dbe6-c55265fc57f3"
      },
      "outputs": [
        {
          "output_type": "display_data",
          "data": {
            "text/plain": [
              "<Figure size 432x288 with 1 Axes>"
            ],
            "image/png": "[encoded data removed]"
          },
          "metadata": {
            "needs_background": "light"
          }
        }
      ],
      "source": [
        "plt.imshow(X[601])\n",
        "plt.title(labels[Y[601]])\n",
        "plt.show()"
      ]
    },
    {
      "cell_type": "code",
      "execution_count": 21,
      "metadata": {
        "id": "WIKb6isdD-LR",
        "colab": {
          "base_uri": "https://localhost:8080/",
          "height": 126
        },
        "outputId": "5709aaee-bf9d-4c11-cba2-2ab69d468ffe"
      },
      "outputs": [
        {
          "output_type": "display_data",
          "data": {
            "text/plain": [
              "<Figure size 6480x2880 with 10 Axes>"
            ],
            "image/png": "[encoded data removed]"
          },
          "metadata": {
            "needs_background": "light"
          }
        }
      ],
      "source": [
        "from random import randint\n",
        "n = 50  # how many digits we will display\n",
        "plt.figure(figsize=(90,40))\n",
        "for i in range(10,20):\n",
        "    # display original\n",
        "    rn=randint(0,987)\n",
        "    ax = plt.subplot(1, n, i + 1)\n",
        "    plt.imshow(X[rn])\n",
        "    plt.title(labels[Y[rn]])\n",
        "    plt.gray()\n",
        "    ax.get_xaxis().set_visible(False)\n",
        "    ax.get_yaxis().set_visible(False)\n",
        "plt.show()\n",
        "plt.close()"
      ]
    },
    {
      "cell_type": "code",
      "execution_count": 22,
      "metadata": {
        "id": "Gs15Q2G0D_-y"
      },
      "outputs": [],
      "source": [
        "from sklearn.model_selection import train_test_split\n",
        "X_train,X_test,Y_train,Y_test=train_test_split(X,Y,test_size=0.2,stratify=Y)"
      ]
    },
    {
      "cell_type": "code",
      "execution_count": 23,
      "metadata": {
        "id": "5EN_6lYlEBoJ",
        "colab": {
          "base_uri": "https://localhost:8080/"
        },
        "outputId": "5a2a255f-d3bf-4fee-db8b-dda7b7c5132b"
      },
      "outputs": [
        {
          "output_type": "stream",
          "name": "stdout",
          "text": [
            "Shapes of Data Split into Train & Test Part\n",
            "Training Data->(1440, 170, 170, 3),(1440,) Testing Data->((360, 170, 170, 3), (360,))\n"
          ]
        }
      ],
      "source": [
        "print('Shapes of Data Split into Train & Test Part')\n",
        "print(f'Training Data->{X_train.shape},{Y_train.shape} Testing Data->{X_test.shape,Y_test.shape}')"
      ]
    },
    {
      "cell_type": "code",
      "execution_count": 24,
      "metadata": {
        "id": "aC8-oVU8EJ6O"
      },
      "outputs": [],
      "source": [
        "from keras.utils.np_utils import to_categorical\n",
        "Y_train=to_categorical(Y_train,num_classes=len(labels))\n",
        "Y_test=to_categorical(Y_test,num_classes=len(labels))"
      ]
    },
    {
      "cell_type": "code",
      "execution_count": 25,
      "metadata": {
        "id": "UYKfRFl_EPoV",
        "colab": {
          "base_uri": "https://localhost:8080/"
        },
        "outputId": "abff3e81-06f5-441c-bbc2-30c8bd06531c"
      },
      "outputs": [
        {
          "output_type": "execute_result",
          "data": {
            "text/plain": [
              "((1440, 6), (360, 6))"
            ]
          },
          "metadata": {},
          "execution_count": 25
        }
      ],
      "source": [
        "Y_train.shape,Y_test.shape"
      ]
    },
    {
      "cell_type": "code",
      "execution_count": 26,
      "metadata": {
        "id": "m7E5VIBsEX4F",
        "colab": {
          "base_uri": "https://localhost:8080/"
        },
        "outputId": "98ecc2fd-fc39-4a3b-b373-321975b4a5c5"
      },
      "outputs": [
        {
          "output_type": "stream",
          "name": "stdout",
          "text": [
            "Model: \"sequential\"\n",
            "_________________________________________________________________\n",
            " Layer (type)                Output Shape              Param #   \n",
            "=================================================================\n",
            " conv2d (Conv2D)             (None, 168, 168, 200)     5600      \n",
            "                                                                 \n",
            " conv2d_1 (Conv2D)           (None, 166, 166, 150)     270150    \n",
            "                                                                 \n",
            " max_pooling2d (MaxPooling2D  (None, 41, 41, 150)      0         \n",
            " )                                                               \n",
            "                                                                 \n",
            " conv2d_2 (Conv2D)           (None, 39, 39, 120)       162120    \n",
            "                                                                 \n",
            " conv2d_3 (Conv2D)           (None, 37, 37, 80)        86480     \n",
            "                                                                 \n",
            " conv2d_4 (Conv2D)           (None, 35, 35, 50)        36050     \n",
            "                                                                 \n",
            " max_pooling2d_1 (MaxPooling  (None, 8, 8, 50)         0         \n",
            " 2D)                                                             \n",
            "                                                                 \n",
            " flatten (Flatten)           (None, 3200)              0         \n",
            "                                                                 \n",
            " dense (Dense)               (None, 120)               384120    \n",
            "                                                                 \n",
            " dense_1 (Dense)             (None, 100)               12100     \n",
            "                                                                 \n",
            " dense_2 (Dense)             (None, 50)                5050      \n",
            "                                                                 \n",
            " dropout (Dropout)           (None, 50)                0         \n",
            "                                                                 \n",
            " dense_3 (Dense)             (None, 6)                 306       \n",
            "                                                                 \n",
            "=================================================================\n",
            "Total params: 961,976\n",
            "Trainable params: 961,976\n",
            "Non-trainable params: 0\n",
            "_________________________________________________________________\n"
          ]
        }
      ],
      "source": [
        "from tensorflow import keras\n",
        "KerasModel = keras.models.Sequential([#bulid nn\n",
        "        keras.layers.Conv2D(200,kernel_size=(3,3),activation='relu',input_shape=(170,170,3)),\n",
        "        #1 convolutional layer 200filter each filter 3*3 relu  input 100*100*3 rgb\n",
        "        keras.layers.Conv2D(150,kernel_size=(3,3),activation='relu'),\n",
        "       #2 convolutional layer 150filter each filter 3*3 relu\n",
        "        keras.layers.MaxPool2D(4,4),\n",
        "        #3 maxpool layer 4*4\n",
        "        keras.layers.Conv2D(120,kernel_size=(3,3),activation='relu'),\n",
        "        #4 convolutional layer 120filter each filter 3*3 relu\n",
        "        keras.layers.Conv2D(80,kernel_size=(3,3),activation='relu'), \n",
        "        #5 convolutional layer 80filter each filter 3*3 relu\n",
        "        keras.layers.Conv2D(50,kernel_size=(3,3),activation='relu'),\n",
        "        #6 convolutional layer 50filter each filter 3*3 relu\n",
        "        keras.layers.MaxPool2D(4,4),#7 maxpool layer 4*4\n",
        "        keras.layers.Flatten(),  #make the matrix flate\n",
        "        keras.layers.Dense(120,activation='relu') , #hidden layer (120cell)   \n",
        "        keras.layers.Dense(100,activation='relu') , #hidden layer (100cell)\n",
        "        keras.layers.Dense(50,activation='relu') ,  #hidden layer (50cell)      \n",
        "        keras.layers.Dropout(rate=0.5) , \n",
        "        #drop some nuron 50% reduces the number of connections to increase speed and reduces the overfit\n",
        "        keras.layers.Dense(6,activation='softmax') ,  #output layer 6  \n",
        "    ])\n",
        "KerasModel.compile(loss='categorical_crossentropy',optimizer='adam',metrics=['accuracy'])\n",
        "KerasModel.summary()"
      ]
    },
    {
      "cell_type": "code",
      "execution_count": 27,
      "metadata": {
        "id": "8h3XrFkfAemC",
        "colab": {
          "base_uri": "https://localhost:8080/"
        },
        "outputId": "08f4742f-f759-4395-edac-87c8947f8f0f"
      },
      "outputs": [
        {
          "output_type": "stream",
          "name": "stdout",
          "text": [
            "Epoch 1/30\n",
            "45/45 [==============================] - 29s 344ms/step - loss: 1.7899 - accuracy: 0.1639 - val_loss: 1.6627 - val_accuracy: 0.1944\n",
            "Epoch 2/30\n",
            "45/45 [==============================] - 14s 320ms/step - loss: 1.1348 - accuracy: 0.5097 - val_loss: 0.6541 - val_accuracy: 0.6306\n",
            "Epoch 3/30\n",
            "45/45 [==============================] - 14s 322ms/step - loss: 0.4409 - accuracy: 0.8257 - val_loss: 4.6713 - val_accuracy: 0.4944\n",
            "Epoch 4/30\n",
            "45/45 [==============================] - 15s 332ms/step - loss: 0.8387 - accuracy: 0.8132 - val_loss: 0.4433 - val_accuracy: 0.8000\n",
            "Epoch 5/30\n",
            "45/45 [==============================] - 15s 325ms/step - loss: 0.3594 - accuracy: 0.8389 - val_loss: 0.2318 - val_accuracy: 0.9722\n",
            "Epoch 6/30\n",
            "45/45 [==============================] - 15s 326ms/step - loss: 0.2632 - accuracy: 0.9069 - val_loss: 0.4179 - val_accuracy: 0.8694\n",
            "Epoch 7/30\n",
            "45/45 [==============================] - 15s 324ms/step - loss: 0.1453 - accuracy: 0.9611 - val_loss: 0.0698 - val_accuracy: 0.9944\n",
            "Epoch 8/30\n",
            "45/45 [==============================] - 14s 322ms/step - loss: 0.0551 - accuracy: 0.9889 - val_loss: 0.1636 - val_accuracy: 0.9944\n",
            "Epoch 9/30\n",
            "45/45 [==============================] - 15s 323ms/step - loss: 0.1724 - accuracy: 0.9493 - val_loss: 0.1732 - val_accuracy: 0.9944\n",
            "Epoch 10/30\n",
            "45/45 [==============================] - 15s 323ms/step - loss: 0.0355 - accuracy: 0.9910 - val_loss: 0.1636 - val_accuracy: 0.9944\n",
            "Epoch 11/30\n",
            "45/45 [==============================] - 15s 324ms/step - loss: 0.0386 - accuracy: 0.9896 - val_loss: 0.1938 - val_accuracy: 0.9944\n",
            "Epoch 12/30\n",
            "45/45 [==============================] - 15s 324ms/step - loss: 0.0194 - accuracy: 0.9931 - val_loss: 0.1695 - val_accuracy: 0.9944\n",
            "Epoch 13/30\n",
            "45/45 [==============================] - 15s 323ms/step - loss: 0.0243 - accuracy: 0.9958 - val_loss: 0.2259 - val_accuracy: 0.9944\n",
            "Epoch 14/30\n",
            "45/45 [==============================] - 15s 323ms/step - loss: 0.0201 - accuracy: 0.9931 - val_loss: 0.2612 - val_accuracy: 0.9944\n",
            "Epoch 15/30\n",
            "45/45 [==============================] - 15s 323ms/step - loss: 0.0154 - accuracy: 0.9951 - val_loss: 0.2328 - val_accuracy: 0.9944\n",
            "Epoch 16/30\n",
            "45/45 [==============================] - 15s 323ms/step - loss: 0.0107 - accuracy: 0.9979 - val_loss: 0.1772 - val_accuracy: 0.9944\n",
            "Epoch 17/30\n",
            "45/45 [==============================] - 15s 323ms/step - loss: 0.0098 - accuracy: 0.9965 - val_loss: 0.0826 - val_accuracy: 0.9944\n",
            "Epoch 18/30\n",
            "45/45 [==============================] - 15s 324ms/step - loss: 0.0093 - accuracy: 0.9965 - val_loss: 0.0843 - val_accuracy: 0.9944\n",
            "Epoch 19/30\n",
            "45/45 [==============================] - 15s 323ms/step - loss: 0.0346 - accuracy: 0.9882 - val_loss: 0.1450 - val_accuracy: 0.9944\n",
            "Epoch 20/30\n",
            "45/45 [==============================] - 14s 322ms/step - loss: 0.0306 - accuracy: 0.9944 - val_loss: 0.0119 - val_accuracy: 0.9944\n",
            "Epoch 21/30\n",
            "45/45 [==============================] - 14s 322ms/step - loss: 0.0104 - accuracy: 0.9958 - val_loss: 0.0167 - val_accuracy: 0.9944\n",
            "Epoch 22/30\n",
            "45/45 [==============================] - 14s 322ms/step - loss: 0.0094 - accuracy: 0.9979 - val_loss: 0.0325 - val_accuracy: 0.9944\n",
            "Epoch 23/30\n",
            "45/45 [==============================] - 14s 322ms/step - loss: 0.0119 - accuracy: 0.9958 - val_loss: 0.0363 - val_accuracy: 0.9944\n",
            "Epoch 24/30\n",
            "45/45 [==============================] - 14s 323ms/step - loss: 0.3716 - accuracy: 0.9194 - val_loss: 0.1000 - val_accuracy: 0.9944\n",
            "Epoch 25/30\n",
            "45/45 [==============================] - 14s 322ms/step - loss: 0.0885 - accuracy: 0.9708 - val_loss: 0.2069 - val_accuracy: 0.9889\n",
            "Epoch 26/30\n",
            "45/45 [==============================] - 14s 323ms/step - loss: 0.0880 - accuracy: 0.9819 - val_loss: 0.1377 - val_accuracy: 0.9944\n",
            "Epoch 27/30\n",
            "45/45 [==============================] - 15s 325ms/step - loss: 0.5025 - accuracy: 0.8667 - val_loss: 0.0812 - val_accuracy: 0.9917\n",
            "Epoch 28/30\n",
            "45/45 [==============================] - 15s 323ms/step - loss: 0.1445 - accuracy: 0.9792 - val_loss: 0.0587 - val_accuracy: 0.9861\n",
            "Epoch 29/30\n",
            "45/45 [==============================] - 14s 322ms/step - loss: 0.1187 - accuracy: 0.9736 - val_loss: 0.1051 - val_accuracy: 0.9861\n",
            "Epoch 30/30\n",
            "45/45 [==============================] - 14s 322ms/step - loss: 0.0290 - accuracy: 0.9882 - val_loss: 2.5536e-04 - val_accuracy: 1.0000\n"
          ]
        }
      ],
      "source": [
        "history=KerasModel.fit(X_train,Y_train,validation_data=(X_test,Y_test),epochs=30,batch_size=32,verbose=1)"
      ]
    },
    {
      "cell_type": "code",
      "execution_count": 28,
      "metadata": {
        "id": "mJzl6XCMEoST",
        "colab": {
          "base_uri": "https://localhost:8080/"
        },
        "outputId": "5acde1a4-3385-4af3-be4f-a6a2053bb31b"
      },
      "outputs": [
        {
          "output_type": "stream",
          "name": "stderr",
          "text": [
            " 19%|█▊        | 300/1608 [00:04<00:19, 66.02it/s]\n",
            "100%|██████████| 161/161 [00:02<00:00, 65.99it/s]\n",
            " 54%|█████▍    | 300/556 [00:04<00:03, 70.90it/s]\n",
            " 21%|██        | 300/1447 [00:04<00:16, 70.19it/s]\n",
            "  2%|▏         | 300/18926 [00:06<06:32, 47.44it/s]\n",
            " 14%|█▍        | 300/2101 [00:04<00:25, 71.47it/s]\n"
          ]
        }
      ],
      "source": [
        "path2='/content/ECG_Image_data/test/'\n",
        "img_size=170     # 170x170\n",
        "X_test=[] \n",
        "Y_test=[]\n",
        "i=0\n",
        "for idx,img in enumerate(os.listdir(path2)):\n",
        "    for img_name in tqdm(os.listdir(path2+img)):\n",
        "        if i<300:\n",
        "            img_file=cv2.imread(path2+img+'/'+img_name)\n",
        "            if img_file is not None:\n",
        "                img_file=transform.resize(img_file,(img_size,img_size,3))\n",
        "                X_test.append(img_file)\n",
        "                Y_test.append(idx)\n",
        "        else:\n",
        "            break\n",
        "        i=i+1\n",
        "    i=0\n",
        "x_test=np.asarray(X_test)\n",
        "y_test=np.asarray(Y_test)"
      ]
    },
    {
      "cell_type": "code",
      "execution_count": 29,
      "metadata": {
        "id": "Idd0OV9qO1HJ",
        "colab": {
          "base_uri": "https://localhost:8080/"
        },
        "outputId": "da6b9f26-b6b5-456f-e0fa-4cd7d148ce7d"
      },
      "outputs": [
        {
          "output_type": "stream",
          "name": "stdout",
          "text": [
            "52/52 [==============================] - 7s 139ms/step - loss: 0.0011 - accuracy: 1.0000\n",
            "[0.0011142758885398507, 1.0]\n"
          ]
        }
      ],
      "source": [
        "y_test=to_categorical(y_test,num_classes=len(labels))\n",
        "print(KerasModel.evaluate(x_test,y_test))"
      ]
    },
    {
      "cell_type": "code",
      "execution_count": 30,
      "metadata": {
        "id": "8k4OtieIQQ5K",
        "colab": {
          "base_uri": "https://localhost:8080/"
        },
        "outputId": "f9fd4e46-4ff0-401e-8de6-36fef28637cd"
      },
      "outputs": [
        {
          "output_type": "stream",
          "name": "stdout",
          "text": [
            "52/52 [==============================] - 6s 109ms/step - loss: 0.0011 - accuracy: 1.0000\n",
            "Test Loss: 0.00111\n",
            "Test Accuracy: 100.00%\n"
          ]
        }
      ],
      "source": [
        "results = KerasModel.evaluate(x_test,y_test)\n",
        "\n",
        "print(\"Test Loss: {:.5f}\".format(results[0]))\n",
        "print(\"Test Accuracy: {:.2f}%\".format(results[1] * 100))"
      ]
    },
    {
      "cell_type": "code",
      "execution_count": 31,
      "metadata": {
        "id": "Ay47omRmRID7",
        "colab": {
          "base_uri": "https://localhost:8080/",
          "height": 313
        },
        "outputId": "89bd6bbc-eaab-40d2-bf12-f9d044a9e6f9"
      },
      "outputs": [
        {
          "output_type": "execute_result",
          "data": {
            "text/plain": [
              "Text(0, 0.5, 'loss')"
            ]
          },
          "metadata": {},
          "execution_count": 31
        },
        {
          "output_type": "display_data",
          "data": {
            "text/plain": [
              "<Figure size 432x288 with 1 Axes>"
            ],
            "image/png": "[encoded data removed]"
          },
          "metadata": {
            "needs_background": "light"
          }
        }
      ],
      "source": [
        "import matplotlib.pyplot as plt\n",
        "\n",
        "plt.plot(history.history['loss'])\n",
        "plt.plot(history.history['val_loss'])\n",
        "plt.legend(['Training', 'Validation'])\n",
        "plt.title('Training and Validation losses')\n",
        "plt.xlabel('epoch')\n",
        "plt.ylabel('loss')\n",
        "     "
      ]
    },
    {
      "cell_type": "code",
      "source": [
        "plt.plot(history.history['accuracy'])\n",
        "plt.plot(history.history['val_accuracy'])\n",
        "plt.legend(['Training', 'Validation'])\n",
        "plt.title('Training and Validation accuracy')\n",
        "plt.xlabel('epoch')\n",
        "plt.ylabel('accuracy')\n",
        "     "
      ],
      "metadata": {
        "colab": {
          "base_uri": "https://localhost:8080/",
          "height": 313
        },
        "id": "ifHTALorTuPQ",
        "outputId": "51c4e0d3-9a1d-4c7c-ca77-3815eefeaaca"
      },
      "execution_count": 32,
      "outputs": [
        {
          "output_type": "execute_result",
          "data": {
            "text/plain": [
              "Text(0, 0.5, 'accuracy')"
            ]
          },
          "metadata": {},
          "execution_count": 32
        },
        {
          "output_type": "display_data",
          "data": {
            "text/plain": [
              "<Figure size 432x288 with 1 Axes>"
            ],
            "image/png": "[encoded data removed]"
          },
          "metadata": {
            "needs_background": "light"
          }
        }
      ]
    },
    {
      "cell_type": "code",
      "source": [
        "from sklearn.metrics import confusion_matrix,classification_report\n",
        "import seaborn as sns\n",
        "\n",
        "Y_pred = KerasModel.predict(x_test)\n",
        "Y_pred_classes = np.argmax(Y_pred,axis = 1) \n",
        "Y_true = np.argmax(y_test,axis = 1) \n",
        "\n",
        "confusion_mtx = confusion_matrix(Y_true, Y_pred_classes) \n",
        "\n",
        "f,ax = plt.subplots(figsize=(8, 8))\n",
        "sns.heatmap(confusion_mtx, annot=True, linewidths=0.01,cmap=\"Oranges\",linecolor=\"gray\", fmt= '.1f',ax=ax)\n",
        "plt.xlabel(\"Predicted Label\")\n",
        "plt.ylabel(\"True Label\")\n",
        "plt.title(\"Confusion Matrix\")\n",
        "plt.show()"
      ],
      "metadata": {
        "colab": {
          "base_uri": "https://localhost:8080/",
          "height": 531
        },
        "id": "tQCcxsHsUiW-",
        "outputId": "94ee2e59-efc9-4d9e-cb43-8f632a3962e5"
      },
      "execution_count": 33,
      "outputs": [
        {
          "output_type": "stream",
          "name": "stdout",
          "text": [
            "52/52 [==============================] - 5s 104ms/step\n"
          ]
        },
        {
          "output_type": "display_data",
          "data": {
            "text/plain": [
              "<Figure size 576x576 with 2 Axes>"
            ],
            "image/png": "[encoded data removed]"
          },
          "metadata": {
            "needs_background": "light"
          }
        }
      ]
    },
    {
      "cell_type": "code",
      "source": [
        "print(classification_report(Y_true, Y_pred_classes))"
      ],
      "metadata": {
        "colab": {
          "base_uri": "https://localhost:8080/"
        },
        "id": "TCdp32z3VH14",
        "outputId": "7629bc0b-a5d1-4b2b-8849-a25be84e72ce"
      },
      "execution_count": 34,
      "outputs": [
        {
          "output_type": "stream",
          "name": "stdout",
          "text": [
            "              precision    recall  f1-score   support\n",
            "\n",
            "           0       1.00      1.00      1.00       300\n",
            "           1       1.00      1.00      1.00       161\n",
            "           2       1.00      1.00      1.00       300\n",
            "           3       1.00      1.00      1.00       300\n",
            "           4       1.00      1.00      1.00       300\n",
            "           5       1.00      1.00      1.00       300\n",
            "\n",
            "    accuracy                           1.00      1661\n",
            "   macro avg       1.00      1.00      1.00      1661\n",
            "weighted avg       1.00      1.00      1.00      1661\n",
            "\n"
          ]
        }
      ]
    },
    {
      "cell_type": "code",
      "source": [],
      "metadata": {
        "id": "7uUW5UFUVNIF"
      },
      "execution_count": 34,
      "outputs": []
    }
  ],
  "metadata": {
    "accelerator": "GPU",
    "colab": {
      "provenance": [],
      "authorship_tag": "ABX9TyP+/lFtAVX63yL1l36W15oN",
      "include_colab_link": true
    },
    "gpuClass": "standard",
    "kernelspec": {
      "display_name": "Python 3",
      "name": "python3"
    },
    "language_info": {
      "name": "python"
    }
  },
  "nbformat": 4,
  "nbformat_minor": 0
}